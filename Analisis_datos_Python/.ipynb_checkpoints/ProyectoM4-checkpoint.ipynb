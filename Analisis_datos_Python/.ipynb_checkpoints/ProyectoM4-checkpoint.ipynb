{
 "cells": [
  {
   "cell_type": "markdown",
   "id": "df3a64da",
   "metadata": {},
   "source": [
    "# Módulo 4: Procesamiento de datos con Python"
   ]
  },
  {
   "cell_type": "markdown",
   "id": "f83c4d75",
   "metadata": {},
   "source": [
    "## Estimados de Locación y Variabilidad\n",
    "\n",
    ">Utilizar media, mediana, desviación estándar y percentiles para caracterizar valores típicos y atípicos en nuestros datos.\n",
    ">Utilizar estimados de locación y variabilidad para describir las columnas numéricas de un dataset.\n",
    "\n",
    "**Contexto**  \n",
    "\n",
    ">Estudiar los mejores productos requiere más que solo listados de productos. También necesita saber qué se vende bien y qué no.\n",
    "\n",
    "**Contenido**\n",
    ">Este conjunto de datos contiene listados de productos, así como calificaciones de productos y rendimiento de ventas, que no encontrará en otros conjuntos de datos.\n",
    ">Con esto, finalmente puede comenzar a buscar correlaciones y patrones con respecto al éxito de un producto y los diversos componentes.\n",
    "\n",
    "**Abrir achivo csv**\n",
    "\n",
    "Archivos a utilizar:\n",
    "- [productos-verano-calificación-rendimiento_2020-08](../DS/productos-verano-calificación-rendimiento_2020-08.csv) \n",
    "- [categorias-unicas](../DS/categorias-unicas.csv) \n",
    "- [categorias-unicas-ordenadas-recuento](../DS/categorias-unicas-ordenadas-recuento.csv) \n",
    "\n",
    "Se requiere la instalación de pandas `!pip install pandas`\n"
   ]
  },
  {
   "cell_type": "code",
   "execution_count": 138,
   "id": "9520da2c",
   "metadata": {},
   "outputs": [
    {
     "data": {
      "text/html": [
       "<div>\n",
       "<style scoped>\n",
       "    .dataframe tbody tr th:only-of-type {\n",
       "        vertical-align: middle;\n",
       "    }\n",
       "\n",
       "    .dataframe tbody tr th {\n",
       "        vertical-align: top;\n",
       "    }\n",
       "\n",
       "    .dataframe thead th {\n",
       "        text-align: right;\n",
       "    }\n",
       "</style>\n",
       "<table border=\"1\" class=\"dataframe\">\n",
       "  <thead>\n",
       "    <tr style=\"text-align: right;\">\n",
       "      <th></th>\n",
       "      <th>Titulo_corto</th>\n",
       "      <th>precio</th>\n",
       "      <th>precio_al_por_menor</th>\n",
       "      <th>comprador_de_divisas</th>\n",
       "      <th>unidades_vendidas</th>\n",
       "      <th>utiliza_refuerzos_publicitarios</th>\n",
       "      <th>clasificacion</th>\n",
       "      <th>conteo_de_calificacion</th>\n",
       "      <th>calificacion_cinco_cuenta</th>\n",
       "      <th>calificacion_cuatro_cuenta</th>\n",
       "      <th>...</th>\n",
       "      <th>conteo_de_calificaciones_del_comerciante</th>\n",
       "      <th>calificacion_del_comerciante</th>\n",
       "      <th>comerciante_id</th>\n",
       "      <th>el_comerciante_tiene_una_foto_de_perfil</th>\n",
       "      <th>foto_de_perfil_del_comerciante</th>\n",
       "      <th>URL_del_producto</th>\n",
       "      <th>imagen_del_producto</th>\n",
       "      <th>ID_del_producto</th>\n",
       "      <th>tema</th>\n",
       "      <th>mes_de_rastreo</th>\n",
       "    </tr>\n",
       "    <tr>\n",
       "      <th>titulo_original</th>\n",
       "      <th></th>\n",
       "      <th></th>\n",
       "      <th></th>\n",
       "      <th></th>\n",
       "      <th></th>\n",
       "      <th></th>\n",
       "      <th></th>\n",
       "      <th></th>\n",
       "      <th></th>\n",
       "      <th></th>\n",
       "      <th></th>\n",
       "      <th></th>\n",
       "      <th></th>\n",
       "      <th></th>\n",
       "      <th></th>\n",
       "      <th></th>\n",
       "      <th></th>\n",
       "      <th></th>\n",
       "      <th></th>\n",
       "      <th></th>\n",
       "      <th></th>\n",
       "    </tr>\n",
       "  </thead>\n",
       "  <tbody>\n",
       "    <tr>\n",
       "      <th>2020 Summer Vintage Flamingo Print  Pajamas Set Casual Loose T Shirt Top And Elastic Shorts Women Sleepwear Night Wear Loungewear Sets</th>\n",
       "      <td>2020 Summer Vintage Flamingo Print  Paja</td>\n",
       "      <td>16.00</td>\n",
       "      <td>14</td>\n",
       "      <td>EUR</td>\n",
       "      <td>100</td>\n",
       "      <td>0</td>\n",
       "      <td>3.76</td>\n",
       "      <td>54</td>\n",
       "      <td>26.0</td>\n",
       "      <td>8.0</td>\n",
       "      <td>...</td>\n",
       "      <td>568</td>\n",
       "      <td>4.128521</td>\n",
       "      <td>595097d6a26f6e070cb878d1</td>\n",
       "      <td>0</td>\n",
       "      <td>NaN</td>\n",
       "      <td>https://www.wish.com/c/5e9ae51d43d6a96e303acdb0</td>\n",
       "      <td>https://contestimg.wish.com/api/webimage/5e9ae...</td>\n",
       "      <td>5e9ae51d43d6a96e303acdb0</td>\n",
       "      <td>summer</td>\n",
       "      <td>2020-08</td>\n",
       "    </tr>\n",
       "    <tr>\n",
       "      <th>Women's Casual Summer Sleeveless Sexy Mini Dress</th>\n",
       "      <td>Women's Casual Summer Sleeveless Sexy Mi</td>\n",
       "      <td>8.00</td>\n",
       "      <td>22</td>\n",
       "      <td>EUR</td>\n",
       "      <td>20000</td>\n",
       "      <td>1</td>\n",
       "      <td>3.45</td>\n",
       "      <td>6135</td>\n",
       "      <td>2269.0</td>\n",
       "      <td>1027.0</td>\n",
       "      <td>...</td>\n",
       "      <td>17752</td>\n",
       "      <td>3.899673</td>\n",
       "      <td>56458aa03a698c35c9050988</td>\n",
       "      <td>0</td>\n",
       "      <td>NaN</td>\n",
       "      <td>https://www.wish.com/c/58940d436a0d3d5da4e95a38</td>\n",
       "      <td>https://contestimg.wish.com/api/webimage/58940...</td>\n",
       "      <td>58940d436a0d3d5da4e95a38</td>\n",
       "      <td>summer</td>\n",
       "      <td>2020-08</td>\n",
       "    </tr>\n",
       "    <tr>\n",
       "      <th>2020 New Arrival Women Spring and Summer Beach Wear Long Thin Cardigan Open Front Kimono Green Leaf Printed Chiffon Cardigan S-5XL</th>\n",
       "      <td>2020 New Arrival Women Spring and Summer</td>\n",
       "      <td>8.00</td>\n",
       "      <td>43</td>\n",
       "      <td>EUR</td>\n",
       "      <td>100</td>\n",
       "      <td>0</td>\n",
       "      <td>3.57</td>\n",
       "      <td>14</td>\n",
       "      <td>5.0</td>\n",
       "      <td>4.0</td>\n",
       "      <td>...</td>\n",
       "      <td>295</td>\n",
       "      <td>3.989831</td>\n",
       "      <td>5d464a1ffdf7bc44ee933c65</td>\n",
       "      <td>0</td>\n",
       "      <td>NaN</td>\n",
       "      <td>https://www.wish.com/c/5ea10e2c617580260d55310a</td>\n",
       "      <td>https://contestimg.wish.com/api/webimage/5ea10...</td>\n",
       "      <td>5ea10e2c617580260d55310a</td>\n",
       "      <td>summer</td>\n",
       "      <td>2020-08</td>\n",
       "    </tr>\n",
       "    <tr>\n",
       "      <th>Hot Summer Cool T Shirt for Women Fashion Tops Bee Printed Letters Short Sleeve O Neck Cotton T-shirts Tops Tee Clothing</th>\n",
       "      <td>Hot Summer Cool T Shirt for Women Fashio</td>\n",
       "      <td>8.00</td>\n",
       "      <td>8</td>\n",
       "      <td>EUR</td>\n",
       "      <td>5000</td>\n",
       "      <td>1</td>\n",
       "      <td>4.03</td>\n",
       "      <td>579</td>\n",
       "      <td>295.0</td>\n",
       "      <td>119.0</td>\n",
       "      <td>...</td>\n",
       "      <td>23832</td>\n",
       "      <td>4.020435</td>\n",
       "      <td>58cfdefdacb37b556efdff7c</td>\n",
       "      <td>0</td>\n",
       "      <td>NaN</td>\n",
       "      <td>https://www.wish.com/c/5cedf17ad1d44c52c59e4aca</td>\n",
       "      <td>https://contestimg.wish.com/api/webimage/5cedf...</td>\n",
       "      <td>5cedf17ad1d44c52c59e4aca</td>\n",
       "      <td>summer</td>\n",
       "      <td>2020-08</td>\n",
       "    </tr>\n",
       "    <tr>\n",
       "      <th>Women Summer Shorts Lace Up Elastic Waistband Loose Thin Casual Pants Plus Size S-8XL</th>\n",
       "      <td>Women Summer Shorts Lace Up Elastic Wais</td>\n",
       "      <td>2.72</td>\n",
       "      <td>3</td>\n",
       "      <td>EUR</td>\n",
       "      <td>100</td>\n",
       "      <td>1</td>\n",
       "      <td>3.10</td>\n",
       "      <td>20</td>\n",
       "      <td>6.0</td>\n",
       "      <td>4.0</td>\n",
       "      <td>...</td>\n",
       "      <td>14482</td>\n",
       "      <td>4.001588</td>\n",
       "      <td>5ab3b592c3911a095ad5dadb</td>\n",
       "      <td>0</td>\n",
       "      <td>NaN</td>\n",
       "      <td>https://www.wish.com/c/5ebf5819ebac372b070b0e70</td>\n",
       "      <td>https://contestimg.wish.com/api/webimage/5ebf5...</td>\n",
       "      <td>5ebf5819ebac372b070b0e70</td>\n",
       "      <td>summer</td>\n",
       "      <td>2020-08</td>\n",
       "    </tr>\n",
       "  </tbody>\n",
       "</table>\n",
       "<p>5 rows × 42 columns</p>\n",
       "</div>"
      ],
      "text/plain": [
       "                                                                                Titulo_corto  \\\n",
       "titulo_original                                                                                \n",
       "2020 Summer Vintage Flamingo Print  Pajamas Set...  2020 Summer Vintage Flamingo Print  Paja   \n",
       "Women's Casual Summer Sleeveless Sexy Mini Dress    Women's Casual Summer Sleeveless Sexy Mi   \n",
       "2020 New Arrival Women Spring and Summer Beach ...  2020 New Arrival Women Spring and Summer   \n",
       "Hot Summer Cool T Shirt for Women Fashion Tops ...  Hot Summer Cool T Shirt for Women Fashio   \n",
       "Women Summer Shorts Lace Up Elastic Waistband L...  Women Summer Shorts Lace Up Elastic Wais   \n",
       "\n",
       "                                                    precio  \\\n",
       "titulo_original                                              \n",
       "2020 Summer Vintage Flamingo Print  Pajamas Set...   16.00   \n",
       "Women's Casual Summer Sleeveless Sexy Mini Dress      8.00   \n",
       "2020 New Arrival Women Spring and Summer Beach ...    8.00   \n",
       "Hot Summer Cool T Shirt for Women Fashion Tops ...    8.00   \n",
       "Women Summer Shorts Lace Up Elastic Waistband L...    2.72   \n",
       "\n",
       "                                                    precio_al_por_menor  \\\n",
       "titulo_original                                                           \n",
       "2020 Summer Vintage Flamingo Print  Pajamas Set...                   14   \n",
       "Women's Casual Summer Sleeveless Sexy Mini Dress                     22   \n",
       "2020 New Arrival Women Spring and Summer Beach ...                   43   \n",
       "Hot Summer Cool T Shirt for Women Fashion Tops ...                    8   \n",
       "Women Summer Shorts Lace Up Elastic Waistband L...                    3   \n",
       "\n",
       "                                                   comprador_de_divisas  \\\n",
       "titulo_original                                                           \n",
       "2020 Summer Vintage Flamingo Print  Pajamas Set...                  EUR   \n",
       "Women's Casual Summer Sleeveless Sexy Mini Dress                    EUR   \n",
       "2020 New Arrival Women Spring and Summer Beach ...                  EUR   \n",
       "Hot Summer Cool T Shirt for Women Fashion Tops ...                  EUR   \n",
       "Women Summer Shorts Lace Up Elastic Waistband L...                  EUR   \n",
       "\n",
       "                                                    unidades_vendidas  \\\n",
       "titulo_original                                                         \n",
       "2020 Summer Vintage Flamingo Print  Pajamas Set...                100   \n",
       "Women's Casual Summer Sleeveless Sexy Mini Dress                20000   \n",
       "2020 New Arrival Women Spring and Summer Beach ...                100   \n",
       "Hot Summer Cool T Shirt for Women Fashion Tops ...               5000   \n",
       "Women Summer Shorts Lace Up Elastic Waistband L...                100   \n",
       "\n",
       "                                                    utiliza_refuerzos_publicitarios  \\\n",
       "titulo_original                                                                       \n",
       "2020 Summer Vintage Flamingo Print  Pajamas Set...                                0   \n",
       "Women's Casual Summer Sleeveless Sexy Mini Dress                                  1   \n",
       "2020 New Arrival Women Spring and Summer Beach ...                                0   \n",
       "Hot Summer Cool T Shirt for Women Fashion Tops ...                                1   \n",
       "Women Summer Shorts Lace Up Elastic Waistband L...                                1   \n",
       "\n",
       "                                                    clasificacion  \\\n",
       "titulo_original                                                     \n",
       "2020 Summer Vintage Flamingo Print  Pajamas Set...           3.76   \n",
       "Women's Casual Summer Sleeveless Sexy Mini Dress             3.45   \n",
       "2020 New Arrival Women Spring and Summer Beach ...           3.57   \n",
       "Hot Summer Cool T Shirt for Women Fashion Tops ...           4.03   \n",
       "Women Summer Shorts Lace Up Elastic Waistband L...           3.10   \n",
       "\n",
       "                                                    conteo_de_calificacion  \\\n",
       "titulo_original                                                              \n",
       "2020 Summer Vintage Flamingo Print  Pajamas Set...                      54   \n",
       "Women's Casual Summer Sleeveless Sexy Mini Dress                      6135   \n",
       "2020 New Arrival Women Spring and Summer Beach ...                      14   \n",
       "Hot Summer Cool T Shirt for Women Fashion Tops ...                     579   \n",
       "Women Summer Shorts Lace Up Elastic Waistband L...                      20   \n",
       "\n",
       "                                                    calificacion_cinco_cuenta  \\\n",
       "titulo_original                                                                 \n",
       "2020 Summer Vintage Flamingo Print  Pajamas Set...                       26.0   \n",
       "Women's Casual Summer Sleeveless Sexy Mini Dress                       2269.0   \n",
       "2020 New Arrival Women Spring and Summer Beach ...                        5.0   \n",
       "Hot Summer Cool T Shirt for Women Fashion Tops ...                      295.0   \n",
       "Women Summer Shorts Lace Up Elastic Waistband L...                        6.0   \n",
       "\n",
       "                                                    calificacion_cuatro_cuenta  \\\n",
       "titulo_original                                                                  \n",
       "2020 Summer Vintage Flamingo Print  Pajamas Set...                         8.0   \n",
       "Women's Casual Summer Sleeveless Sexy Mini Dress                        1027.0   \n",
       "2020 New Arrival Women Spring and Summer Beach ...                         4.0   \n",
       "Hot Summer Cool T Shirt for Women Fashion Tops ...                       119.0   \n",
       "Women Summer Shorts Lace Up Elastic Waistband L...                         4.0   \n",
       "\n",
       "                                                    ...  \\\n",
       "titulo_original                                     ...   \n",
       "2020 Summer Vintage Flamingo Print  Pajamas Set...  ...   \n",
       "Women's Casual Summer Sleeveless Sexy Mini Dress    ...   \n",
       "2020 New Arrival Women Spring and Summer Beach ...  ...   \n",
       "Hot Summer Cool T Shirt for Women Fashion Tops ...  ...   \n",
       "Women Summer Shorts Lace Up Elastic Waistband L...  ...   \n",
       "\n",
       "                                                    conteo_de_calificaciones_del_comerciante  \\\n",
       "titulo_original                                                                                \n",
       "2020 Summer Vintage Flamingo Print  Pajamas Set...                                       568   \n",
       "Women's Casual Summer Sleeveless Sexy Mini Dress                                       17752   \n",
       "2020 New Arrival Women Spring and Summer Beach ...                                       295   \n",
       "Hot Summer Cool T Shirt for Women Fashion Tops ...                                     23832   \n",
       "Women Summer Shorts Lace Up Elastic Waistband L...                                     14482   \n",
       "\n",
       "                                                    calificacion_del_comerciante  \\\n",
       "titulo_original                                                                    \n",
       "2020 Summer Vintage Flamingo Print  Pajamas Set...                      4.128521   \n",
       "Women's Casual Summer Sleeveless Sexy Mini Dress                        3.899673   \n",
       "2020 New Arrival Women Spring and Summer Beach ...                      3.989831   \n",
       "Hot Summer Cool T Shirt for Women Fashion Tops ...                      4.020435   \n",
       "Women Summer Shorts Lace Up Elastic Waistband L...                      4.001588   \n",
       "\n",
       "                                                              comerciante_id  \\\n",
       "titulo_original                                                                \n",
       "2020 Summer Vintage Flamingo Print  Pajamas Set...  595097d6a26f6e070cb878d1   \n",
       "Women's Casual Summer Sleeveless Sexy Mini Dress    56458aa03a698c35c9050988   \n",
       "2020 New Arrival Women Spring and Summer Beach ...  5d464a1ffdf7bc44ee933c65   \n",
       "Hot Summer Cool T Shirt for Women Fashion Tops ...  58cfdefdacb37b556efdff7c   \n",
       "Women Summer Shorts Lace Up Elastic Waistband L...  5ab3b592c3911a095ad5dadb   \n",
       "\n",
       "                                                    el_comerciante_tiene_una_foto_de_perfil  \\\n",
       "titulo_original                                                                               \n",
       "2020 Summer Vintage Flamingo Print  Pajamas Set...                                        0   \n",
       "Women's Casual Summer Sleeveless Sexy Mini Dress                                          0   \n",
       "2020 New Arrival Women Spring and Summer Beach ...                                        0   \n",
       "Hot Summer Cool T Shirt for Women Fashion Tops ...                                        0   \n",
       "Women Summer Shorts Lace Up Elastic Waistband L...                                        0   \n",
       "\n",
       "                                                    foto_de_perfil_del_comerciante  \\\n",
       "titulo_original                                                                      \n",
       "2020 Summer Vintage Flamingo Print  Pajamas Set...                             NaN   \n",
       "Women's Casual Summer Sleeveless Sexy Mini Dress                               NaN   \n",
       "2020 New Arrival Women Spring and Summer Beach ...                             NaN   \n",
       "Hot Summer Cool T Shirt for Women Fashion Tops ...                             NaN   \n",
       "Women Summer Shorts Lace Up Elastic Waistband L...                             NaN   \n",
       "\n",
       "                                                                                   URL_del_producto  \\\n",
       "titulo_original                                                                                       \n",
       "2020 Summer Vintage Flamingo Print  Pajamas Set...  https://www.wish.com/c/5e9ae51d43d6a96e303acdb0   \n",
       "Women's Casual Summer Sleeveless Sexy Mini Dress    https://www.wish.com/c/58940d436a0d3d5da4e95a38   \n",
       "2020 New Arrival Women Spring and Summer Beach ...  https://www.wish.com/c/5ea10e2c617580260d55310a   \n",
       "Hot Summer Cool T Shirt for Women Fashion Tops ...  https://www.wish.com/c/5cedf17ad1d44c52c59e4aca   \n",
       "Women Summer Shorts Lace Up Elastic Waistband L...  https://www.wish.com/c/5ebf5819ebac372b070b0e70   \n",
       "\n",
       "                                                                                  imagen_del_producto  \\\n",
       "titulo_original                                                                                         \n",
       "2020 Summer Vintage Flamingo Print  Pajamas Set...  https://contestimg.wish.com/api/webimage/5e9ae...   \n",
       "Women's Casual Summer Sleeveless Sexy Mini Dress    https://contestimg.wish.com/api/webimage/58940...   \n",
       "2020 New Arrival Women Spring and Summer Beach ...  https://contestimg.wish.com/api/webimage/5ea10...   \n",
       "Hot Summer Cool T Shirt for Women Fashion Tops ...  https://contestimg.wish.com/api/webimage/5cedf...   \n",
       "Women Summer Shorts Lace Up Elastic Waistband L...  https://contestimg.wish.com/api/webimage/5ebf5...   \n",
       "\n",
       "                                                             ID_del_producto  \\\n",
       "titulo_original                                                                \n",
       "2020 Summer Vintage Flamingo Print  Pajamas Set...  5e9ae51d43d6a96e303acdb0   \n",
       "Women's Casual Summer Sleeveless Sexy Mini Dress    58940d436a0d3d5da4e95a38   \n",
       "2020 New Arrival Women Spring and Summer Beach ...  5ea10e2c617580260d55310a   \n",
       "Hot Summer Cool T Shirt for Women Fashion Tops ...  5cedf17ad1d44c52c59e4aca   \n",
       "Women Summer Shorts Lace Up Elastic Waistband L...  5ebf5819ebac372b070b0e70   \n",
       "\n",
       "                                                      tema mes_de_rastreo  \n",
       "titulo_original                                                            \n",
       "2020 Summer Vintage Flamingo Print  Pajamas Set...  summer        2020-08  \n",
       "Women's Casual Summer Sleeveless Sexy Mini Dress    summer        2020-08  \n",
       "2020 New Arrival Women Spring and Summer Beach ...  summer        2020-08  \n",
       "Hot Summer Cool T Shirt for Women Fashion Tops ...  summer        2020-08  \n",
       "Women Summer Shorts Lace Up Elastic Waistband L...  summer        2020-08  \n",
       "\n",
       "[5 rows x 42 columns]"
      ]
     },
     "execution_count": 138,
     "metadata": {},
     "output_type": "execute_result"
    }
   ],
   "source": [
    "import pandas as pd\n",
    "df = pd.read_csv('../DS/productos-verano-calificación-rendimiento_2020-08.csv', index_col=0)\n",
    "df.head()"
   ]
  },
  {
   "cell_type": "markdown",
   "id": "2eae35a5",
   "metadata": {},
   "source": [
    "## Estimados de locación (Media, Mediana, Media Truncada)"
   ]
  },
  {
   "cell_type": "markdown",
   "id": "aa61897a",
   "metadata": {},
   "source": [
    "### La media o promedio"
   ]
  },
  {
   "cell_type": "code",
   "execution_count": 139,
   "id": "a6784358",
   "metadata": {},
   "outputs": [
    {
     "data": {
      "text/plain": [
       "8.323782581055308"
      ]
     },
     "execution_count": 139,
     "metadata": {},
     "output_type": "execute_result"
    }
   ],
   "source": [
    "df['precio'].mean()"
   ]
  },
  {
   "cell_type": "markdown",
   "id": "6d906268",
   "metadata": {},
   "source": [
    "### La mediana\n",
    "> Valor tomado de ordenamiento de df justo el de en medio si es par o promedio si es impar\n"
   ]
  },
  {
   "cell_type": "code",
   "execution_count": 140,
   "id": "bfdd2825",
   "metadata": {},
   "outputs": [
    {
     "data": {
      "text/plain": [
       "8.0"
      ]
     },
     "execution_count": 140,
     "metadata": {},
     "output_type": "execute_result"
    }
   ],
   "source": [
    "df['precio'].median()"
   ]
  },
  {
   "cell_type": "markdown",
   "id": "39197ab5",
   "metadata": {},
   "source": [
    "### Media Truncada\n",
    ">La media truncada, al eliminar cierto porcentaje de datos al inicio y al final de nuestra secuencia, intenta disminuir el impacto de los valores atípicos sobre nuestro estimado. \n",
    "\n",
    "Se requiere la instalación de scipy `!pip install scipy`, la librería scipy ya ofrece un método para obtener la media truncada fácilmente"
   ]
  },
  {
   "cell_type": "code",
   "execution_count": 141,
   "id": "dd53cf1e",
   "metadata": {},
   "outputs": [
    {
     "data": {
      "text/plain": [
       "8.099706115965052"
      ]
     },
     "execution_count": 141,
     "metadata": {},
     "output_type": "execute_result"
    }
   ],
   "source": [
    "\n",
    "from scipy import stats\n",
    "import pandas as pd\n",
    "\n",
    "stats.trim_mean(df['precio'], 0.1)"
   ]
  },
  {
   "cell_type": "markdown",
   "id": "5baff597",
   "metadata": {},
   "source": [
    "### Estimados de variabilidad - Desviación estándar\n",
    ">La desviación estándar nos da la \"desviación típica\" de nuestros datos alrededor del valor típico. Es decir, qué tan dispersos podemos esperar que estén nuestros datos alrededor de nuestro estimado de locación."
   ]
  },
  {
   "cell_type": "code",
   "execution_count": 142,
   "id": "4592367e",
   "metadata": {},
   "outputs": [
    {
     "data": {
      "text/plain": [
       "3.9330709787900098"
      ]
     },
     "execution_count": 142,
     "metadata": {},
     "output_type": "execute_result"
    }
   ],
   "source": [
    "df['precio'].std()"
   ]
  },
  {
   "cell_type": "markdown",
   "id": "11848aec",
   "metadata": {},
   "source": [
    "## Estadísticos de Orden (Rango, Percentiles, Rango intercuartílico)"
   ]
  },
  {
   "cell_type": "markdown",
   "id": "387f9d0e",
   "metadata": {},
   "source": [
    "### Rango\n",
    ">El rango es la diferencia entre el valor mínimo y el valor máximo de nuestro datos."
   ]
  },
  {
   "cell_type": "code",
   "execution_count": 143,
   "id": "2189e193",
   "metadata": {},
   "outputs": [
    {
     "data": {
      "text/plain": [
       "48.0"
      ]
     },
     "execution_count": 143,
     "metadata": {},
     "output_type": "execute_result"
    }
   ],
   "source": [
    "df['precio'].max() - df['precio'].min()"
   ]
  },
  {
   "cell_type": "markdown",
   "id": "8ab52abb",
   "metadata": {},
   "source": [
    "### Percentiles\n",
    ">Ejemplo: Digamos que tenemos este dataset: 1, 2, 3, 4, 5, 6, 7, 8, 9. El percentil 75 sería 7, ya que el 75% de los datos son menores a 8. El percentil 25 sería 3, mientras que el percentil 50 sería 5."
   ]
  },
  {
   "cell_type": "code",
   "execution_count": 144,
   "id": "26eb1080",
   "metadata": {},
   "outputs": [
    {
     "name": "stdout",
     "output_type": "stream",
     "text": [
      "Valor mínimo: 1.0\n",
      "Percentil 10: 3.732\n",
      "Percentil 25: 5.81\n",
      "Percentil 50: 8.0\n",
      "Percentil 75: 11.0\n",
      "Percentil 90: 13.0\n",
      "Valor máximo: 49.0\n"
     ]
    }
   ],
   "source": [
    "print(f'Valor mínimo: {df[\"precio\"].min()}')\n",
    "print(f'Percentil 10: {df[\"precio\"].quantile(0.1)}')\n",
    "print(f'Percentil 25: {df[\"precio\"].quantile(0.25)}')\n",
    "print(f'Percentil 50: {df[\"precio\"].median()}')\n",
    "print(f'Percentil 75: {df[\"precio\"].quantile(0.75)}')\n",
    "print(f'Percentil 90: {df[\"precio\"].quantile(0.9)}')\n",
    "print(f'Valor máximo: {df[\"precio\"].max()}')"
   ]
  },
  {
   "cell_type": "markdown",
   "id": "eaab4420",
   "metadata": {},
   "source": [
    "### Rango intercuartílico\n",
    ">Está definido como la diferencia entre el percentil 75 y el percentil 50. Es decir, en nuestro dataset 1, 2, 3, 4, 5, 6, 7, 8, 9 el rango intercuartílico sería 7 - 3 = 4."
   ]
  },
  {
   "cell_type": "code",
   "execution_count": 145,
   "id": "a6af6bcc",
   "metadata": {},
   "outputs": [
    {
     "data": {
      "text/plain": [
       "5.19"
      ]
     },
     "execution_count": 145,
     "metadata": {},
     "output_type": "execute_result"
    }
   ],
   "source": [
    "df[\"precio\"].quantile(0.75) - df[\"precio\"].quantile(0.25)"
   ]
  },
  {
   "cell_type": "markdown",
   "id": "00b23e17",
   "metadata": {},
   "source": [
    "## Visualización de datos: Distribuciones\n",
    "\n",
    ">Utilizar Seaborn para realizar gráficas de las distribuciones de nuestros datos y poder analizarlas para extraer información de utilidad.\n",
    "\n",
    "Se requiere la instalación de pandas `!pip install seaborn` - Seaborn es una librería de Python para crear visualizaciones bastante atractivas rápidamente. Seaborn está construida sobre la librería de visualización más conocida de Python: matplotlib."
   ]
  },
  {
   "cell_type": "markdown",
   "id": "7d272e68",
   "metadata": {},
   "source": [
    "### Boxplots\n",
    "> Los boxplots son una manera de visualizar la distribución de nuestros datos usando percentiles. "
   ]
  },
  {
   "cell_type": "code",
   "execution_count": 146,
   "id": "8d7e4718",
   "metadata": {},
   "outputs": [],
   "source": [
    "import seaborn as sns\n",
    "import matplotlib.pyplot as plt\n",
    "import pandas as pd"
   ]
  },
  {
   "cell_type": "code",
   "execution_count": 147,
   "id": "fea82cf4",
   "metadata": {},
   "outputs": [
    {
     "data": {
      "text/plain": [
       "<AxesSubplot:xlabel='precio'>"
      ]
     },
     "execution_count": 147,
     "metadata": {},
     "output_type": "execute_result"
    },
    {
     "data": {
      "image/png": "[encoded data removed]",
      "text/plain": [
       "<Figure size 432x288 with 1 Axes>"
      ]
     },
     "metadata": {},
     "output_type": "display_data"
    }
   ],
   "source": [
    "sns.set(style=\"whitegrid\")\n",
    "sns.boxplot(x=df['precio'])"
   ]
  },
  {
   "cell_type": "markdown",
   "id": "627fb2ce",
   "metadata": {},
   "source": [
    "Análisis de grafico: \n",
    "\n",
    "- La caja está delimitada por 2 valores: El percentil 25 y el percentil 75.\n",
    "- La línea vertical dentro de la caja indica el percentil 50 (o sea, la mediana).\n",
    "- Los bigotes son el rango intercuartílico es la diferencia entre el percentil 75 y el percentil 25. \n",
    "- Los puntos individuales que están fuera de los bigotes son, obviamente, las muestras cuyo valor excede el tamaño máximo de los bigotes.(Valores atipicos)"
   ]
  },
  {
   "cell_type": "code",
   "execution_count": 148,
   "id": "949ebc4d",
   "metadata": {},
   "outputs": [
    {
     "data": {
      "text/plain": [
       "<matplotlib.lines.Line2D at 0x227187e5750>"
      ]
     },
     "execution_count": 148,
     "metadata": {},
     "output_type": "execute_result"
    },
    {
     "data": {
      "image/png": "[encoded data removed]",
      "text/plain": [
       "<Figure size 432x288 with 1 Axes>"
      ]
     },
     "metadata": {},
     "output_type": "display_data"
    }
   ],
   "source": [
    "sns.set(style=\"whitegrid\")\n",
    "sns.boxplot(x=df['precio'])\n",
    "plt.axvline(df['precio'].mean(), c='y')"
   ]
  },
  {
   "cell_type": "markdown",
   "id": "2ac969e9",
   "metadata": {},
   "source": [
    ">Análisis de grafico: Línea vertical justo donde está el promedio de nuestros datos"
   ]
  },
  {
   "cell_type": "markdown",
   "id": "457e64ee",
   "metadata": {},
   "source": [
    "### Boxplots\n",
    "> Los boxplots son una manera de visualizar la distribución de nuestros datos usando percentiles. "
   ]
  },
  {
   "cell_type": "code",
   "execution_count": 149,
   "id": "db99b074",
   "metadata": {},
   "outputs": [
    {
     "data": {
      "text/plain": [
       "<AxesSubplot:xlabel='precio'>"
      ]
     },
     "execution_count": 149,
     "metadata": {},
     "output_type": "execute_result"
    },
    {
     "data": {
      "image/png": "[encoded data removed]",
      "text/plain": [
       "<Figure size 432x288 with 1 Axes>"
      ]
     },
     "metadata": {},
     "output_type": "display_data"
    }
   ],
   "source": [
    "df = df.dropna(subset=['precio'])\n",
    "iqr = df['precio'].quantile(0.75) - df['precio'].quantile(0.25)\n",
    "filtro_inferior = df['precio'] > df['precio'].quantile(0.25) - (iqr * 1.5)\n",
    "filtro_superior = df['precio'] < df['precio'].quantile(0.75) + (iqr * 1.5)\n",
    "\n",
    "df_filtrado = df[filtro_inferior & filtro_superior]\n",
    "sns.boxplot(x=df_filtrado['precio'])"
   ]
  },
  {
   "cell_type": "markdown",
   "id": "242f4e12",
   "metadata": {},
   "source": [
    "> Análisis de alerta es necesario cambiar el valor sns.boxplot(df_filtrado['precio']) a sns.boxplot(data=df_filtrado['precio']) para eliminar la advertencia **'FutureWarning: Pass the following variable as a keyword arg: x. From version 0.12'**\n",
    "\n",
    ">Pregunta al experto por que gira el grafico?"
   ]
  },
  {
   "cell_type": "code",
   "execution_count": 150,
   "id": "1ed8c509",
   "metadata": {},
   "outputs": [
    {
     "data": {
      "text/plain": [
       "<AxesSubplot:>"
      ]
     },
     "execution_count": 150,
     "metadata": {},
     "output_type": "execute_result"
    },
    {
     "data": {
      "image/png": "[encoded data removed]",
      "text/plain": [
       "<Figure size 432x288 with 1 Axes>"
      ]
     },
     "metadata": {},
     "output_type": "display_data"
    }
   ],
   "source": [
    "sns.boxplot(data=df_filtrado['precio'])"
   ]
  },
  {
   "cell_type": "markdown",
   "id": "06329e6d",
   "metadata": {},
   "source": [
    "### Tabla de frecuencias\n",
    "\n",
    "> Las tablas de frecuencias segmentan nuestros datos en segmentos que miden lo mismo pero que contienen una cantidad distinta de muestras."
   ]
  },
  {
   "cell_type": "code",
   "execution_count": 151,
   "id": "a11b50a0",
   "metadata": {},
   "outputs": [
    {
     "data": {
      "text/plain": [
       "48.0"
      ]
     },
     "execution_count": 151,
     "metadata": {},
     "output_type": "execute_result"
    }
   ],
   "source": [
    "precios = df['precio']\n",
    "precios.max() - precios.min()"
   ]
  },
  {
   "cell_type": "markdown",
   "id": "935299f9",
   "metadata": {},
   "source": [
    ">Dividimos df en 10 segmentos y agrupamos los segmentos con `groupby` y le pasamos la `serie`"
   ]
  },
  {
   "cell_type": "code",
   "execution_count": 152,
   "id": "ef8c0288",
   "metadata": {},
   "outputs": [
    {
     "data": {
      "text/plain": [
       "precio\n",
       "(0.952, 5.8]    392\n",
       "(5.8, 10.6]     693\n",
       "(10.6, 15.4]    416\n",
       "(15.4, 20.2]     63\n",
       "(20.2, 25.0]      6\n",
       "(25.0, 29.8]      2\n",
       "(29.8, 34.6]      0\n",
       "(34.6, 39.4]      0\n",
       "(39.4, 44.2]      0\n",
       "(44.2, 49.0]      1\n",
       "Name: precio, dtype: int64"
      ]
     },
     "execution_count": 152,
     "metadata": {},
     "output_type": "execute_result"
    }
   ],
   "source": [
    "segmentos = pd.cut(precios, 10)\n",
    "df['precio'].groupby(segmentos).count()"
   ]
  },
  {
   "cell_type": "markdown",
   "id": "fce49d86",
   "metadata": {},
   "source": [
    "> Análisis de informacion: Tabla anterior muestra los indices de los 10 segmentos que se dividio el `DF`, sirve para visualizar cuales son los valores atipicos dentro de nuestro `DF`, esto sirve para eliminar los valores que se salen de las cantidades medias"
   ]
  },
  {
   "cell_type": "markdown",
   "id": "6f1ea2b3",
   "metadata": {},
   "source": [
    "### Histogramas\n",
    "> Los histogramas son básicamente una tabla de frecuencias hecha gráfica. Tomas el rango de tus datos y eso lo conviertes en el eje x. Después, tomas el rango de conteos y eso lo conviertes en el eje y. Ahora, divide tu eje x en el número de segmentos deseados"
   ]
  },
  {
   "cell_type": "code",
   "execution_count": 153,
   "id": "1109e425",
   "metadata": {},
   "outputs": [
    {
     "data": {
      "image/png": "[encoded data removed]",
      "text/plain": [
       "<Figure size 432x288 with 1 Axes>"
      ]
     },
     "metadata": {},
     "output_type": "display_data"
    }
   ],
   "source": [
    "import pandas as pd\n",
    "import seaborn as sns\n",
    "\n",
    "sns.set(style='dark')\n",
    "sns.histplot(data=df['precio'], kde=False,color=\"green\", bins=10)\n",
    "plt.legend([\"Precio\"])\n",
    "plt.title('Histograma de precios')\n",
    "plt.ylabel('Frecuencia')\n",
    "plt.grid()\n",
    "plt.show()"
   ]
  },
  {
   "cell_type": "markdown",
   "id": "02f81813",
   "metadata": {},
   "source": [
    "> Análisis de grafica: se grafica el precio con 10 segmentos, se evita que se grafique la densidad de probabilidad, este histograma nos indica que es asimetrica negativa hacia la izquierda\n",
    "\n",
    "> Se agrego título, anotaciones y leyenda a nuestra gráfica\n",
    "\n",
    "> se agrego estilos session 06"
   ]
  },
  {
   "cell_type": "markdown",
   "id": "55745506",
   "metadata": {},
   "source": [
    "## Exploración de Variables Categóricas y Análisis Multivariable\n",
    "\n",
    ">Utilizar Seaborn y Matplotlib para explorar la distribución de variables categóricas.\n",
    ">Hacer análisis multivariable combinando variables categóricas y variables numéricas con categóricas\n"
   ]
  },
  {
   "cell_type": "markdown",
   "id": "edd9e541",
   "metadata": {},
   "source": [
    "### conexión a API local base de datos craigslists\n",
    ">Craigslist es la colección de vehículos usados en venta, este conjunto de datos que incluye todas las entradas de vehículos usados dentro de los Estados Unidos en Craigslist.\n",
    "**Contenido**\n",
    ">Contienen la mayoría de la información relevante que proporciona Craigslist sobre las ventas de automóviles, incluidas columnas como precio, estado, fabricante, latitud/longitud y otras 18 categorías.\n",
    "https://www.kaggle.com/datasets/austinreese/craigslist-carstrucks-data"
   ]
  },
  {
   "cell_type": "code",
   "execution_count": 154,
   "id": "f9f55acf",
   "metadata": {},
   "outputs": [
    {
     "data": {
      "text/html": [
       "<div>\n",
       "<style scoped>\n",
       "    .dataframe tbody tr th:only-of-type {\n",
       "        vertical-align: middle;\n",
       "    }\n",
       "\n",
       "    .dataframe tbody tr th {\n",
       "        vertical-align: top;\n",
       "    }\n",
       "\n",
       "    .dataframe thead th {\n",
       "        text-align: right;\n",
       "    }\n",
       "</style>\n",
       "<table border=\"1\" class=\"dataframe\">\n",
       "  <thead>\n",
       "    <tr style=\"text-align: right;\">\n",
       "      <th></th>\n",
       "      <th>_id</th>\n",
       "      <th>id</th>\n",
       "      <th>url</th>\n",
       "      <th>region</th>\n",
       "      <th>region_url</th>\n",
       "      <th>precio</th>\n",
       "      <th>anio</th>\n",
       "      <th>fabricante</th>\n",
       "      <th>modelo</th>\n",
       "      <th>condicion</th>\n",
       "      <th>...</th>\n",
       "      <th>tipo</th>\n",
       "      <th>color</th>\n",
       "      <th>imagen_url</th>\n",
       "      <th>descripcion</th>\n",
       "      <th>estado</th>\n",
       "      <th>lat</th>\n",
       "      <th>long</th>\n",
       "      <th>fechapublicacion</th>\n",
       "      <th>manejo</th>\n",
       "      <th>tamanio</th>\n",
       "    </tr>\n",
       "  </thead>\n",
       "  <tbody>\n",
       "    <tr>\n",
       "      <th>0</th>\n",
       "      <td>625f16695e80e0def195806a</td>\n",
       "      <td>7316814884</td>\n",
       "      <td>https://auburn.craigslist.org/ctd/d/auburn-uni...</td>\n",
       "      <td>auburn</td>\n",
       "      <td>https://auburn.craigslist.org</td>\n",
       "      <td>33590</td>\n",
       "      <td>2014</td>\n",
       "      <td>gmc</td>\n",
       "      <td>sierra 1500 crew cab slt</td>\n",
       "      <td>good</td>\n",
       "      <td>...</td>\n",
       "      <td>pickup</td>\n",
       "      <td>white</td>\n",
       "      <td>https://images.craigslist.org/00R0R_lwWjXSEWNa...</td>\n",
       "      <td>Carvana is the safer way to buy a car During t...</td>\n",
       "      <td>al</td>\n",
       "      <td>32.59</td>\n",
       "      <td>-85.48</td>\n",
       "      <td>2021-05-04T17:31:18.000Z</td>\n",
       "      <td>NaN</td>\n",
       "      <td>NaN</td>\n",
       "    </tr>\n",
       "    <tr>\n",
       "      <th>1</th>\n",
       "      <td>625f16695e80e0def195806b</td>\n",
       "      <td>7316814758</td>\n",
       "      <td>https://auburn.craigslist.org/ctd/d/auburn-uni...</td>\n",
       "      <td>auburn</td>\n",
       "      <td>https://auburn.craigslist.org</td>\n",
       "      <td>22590</td>\n",
       "      <td>2010</td>\n",
       "      <td>chevrolet</td>\n",
       "      <td>silverado 1500</td>\n",
       "      <td>good</td>\n",
       "      <td>...</td>\n",
       "      <td>pickup</td>\n",
       "      <td>blue</td>\n",
       "      <td>https://images.craigslist.org/00R0R_lwWjXSEWNa...</td>\n",
       "      <td>Carvana is the safer way to buy a car During t...</td>\n",
       "      <td>al</td>\n",
       "      <td>32.59</td>\n",
       "      <td>-85.48</td>\n",
       "      <td>2021-05-04T17:31:08.000Z</td>\n",
       "      <td>NaN</td>\n",
       "      <td>NaN</td>\n",
       "    </tr>\n",
       "    <tr>\n",
       "      <th>2</th>\n",
       "      <td>625f16695e80e0def195806c</td>\n",
       "      <td>7316814989</td>\n",
       "      <td>https://auburn.craigslist.org/ctd/d/auburn-uni...</td>\n",
       "      <td>auburn</td>\n",
       "      <td>https://auburn.craigslist.org</td>\n",
       "      <td>39590</td>\n",
       "      <td>2020</td>\n",
       "      <td>chevrolet</td>\n",
       "      <td>silverado 1500 crew</td>\n",
       "      <td>good</td>\n",
       "      <td>...</td>\n",
       "      <td>pickup</td>\n",
       "      <td>red</td>\n",
       "      <td>https://images.craigslist.org/01212_jjirIWa0y0...</td>\n",
       "      <td>Carvana is the safer way to buy a car During t...</td>\n",
       "      <td>al</td>\n",
       "      <td>32.59</td>\n",
       "      <td>-85.48</td>\n",
       "      <td>2021-05-04T17:31:25.000Z</td>\n",
       "      <td>NaN</td>\n",
       "      <td>NaN</td>\n",
       "    </tr>\n",
       "    <tr>\n",
       "      <th>3</th>\n",
       "      <td>625f16695e80e0def195806d</td>\n",
       "      <td>7316743432</td>\n",
       "      <td>https://auburn.craigslist.org/ctd/d/auburn-uni...</td>\n",
       "      <td>auburn</td>\n",
       "      <td>https://auburn.craigslist.org</td>\n",
       "      <td>30990</td>\n",
       "      <td>2017</td>\n",
       "      <td>toyota</td>\n",
       "      <td>tundra double cab sr</td>\n",
       "      <td>good</td>\n",
       "      <td>...</td>\n",
       "      <td>pickup</td>\n",
       "      <td>red</td>\n",
       "      <td>https://images.craigslist.org/00x0x_1y9kIOzGCF...</td>\n",
       "      <td>Carvana is the safer way to buy a car During t...</td>\n",
       "      <td>al</td>\n",
       "      <td>32.59</td>\n",
       "      <td>-85.48</td>\n",
       "      <td>2021-05-04T15:41:31.000Z</td>\n",
       "      <td>NaN</td>\n",
       "      <td>NaN</td>\n",
       "    </tr>\n",
       "    <tr>\n",
       "      <th>4</th>\n",
       "      <td>625f16695e80e0def195806e</td>\n",
       "      <td>7316356412</td>\n",
       "      <td>https://auburn.craigslist.org/cto/d/auburn-uni...</td>\n",
       "      <td>auburn</td>\n",
       "      <td>https://auburn.craigslist.org</td>\n",
       "      <td>15000</td>\n",
       "      <td>2013</td>\n",
       "      <td>ford</td>\n",
       "      <td>f-150 xlt</td>\n",
       "      <td>excellent</td>\n",
       "      <td>...</td>\n",
       "      <td>truck</td>\n",
       "      <td>black</td>\n",
       "      <td>https://images.craigslist.org/00404_l4loxHvdQe...</td>\n",
       "      <td>2013 F-150 XLT V6 4 Door. Good condition. Leve...</td>\n",
       "      <td>al</td>\n",
       "      <td>32.592</td>\n",
       "      <td>-85.5189</td>\n",
       "      <td>2021-05-03T19:02:03.000Z</td>\n",
       "      <td>rwd</td>\n",
       "      <td>full-size</td>\n",
       "    </tr>\n",
       "  </tbody>\n",
       "</table>\n",
       "<p>5 rows × 26 columns</p>\n",
       "</div>"
      ],
      "text/plain": [
       "                        _id          id  \\\n",
       "0  625f16695e80e0def195806a  7316814884   \n",
       "1  625f16695e80e0def195806b  7316814758   \n",
       "2  625f16695e80e0def195806c  7316814989   \n",
       "3  625f16695e80e0def195806d  7316743432   \n",
       "4  625f16695e80e0def195806e  7316356412   \n",
       "\n",
       "                                                 url  region  \\\n",
       "0  https://auburn.craigslist.org/ctd/d/auburn-uni...  auburn   \n",
       "1  https://auburn.craigslist.org/ctd/d/auburn-uni...  auburn   \n",
       "2  https://auburn.craigslist.org/ctd/d/auburn-uni...  auburn   \n",
       "3  https://auburn.craigslist.org/ctd/d/auburn-uni...  auburn   \n",
       "4  https://auburn.craigslist.org/cto/d/auburn-uni...  auburn   \n",
       "\n",
       "                      region_url precio  anio fabricante  \\\n",
       "0  https://auburn.craigslist.org  33590  2014        gmc   \n",
       "1  https://auburn.craigslist.org  22590  2010  chevrolet   \n",
       "2  https://auburn.craigslist.org  39590  2020  chevrolet   \n",
       "3  https://auburn.craigslist.org  30990  2017     toyota   \n",
       "4  https://auburn.craigslist.org  15000  2013       ford   \n",
       "\n",
       "                     modelo  condicion  ...    tipo  color  \\\n",
       "0  sierra 1500 crew cab slt       good  ...  pickup  white   \n",
       "1            silverado 1500       good  ...  pickup   blue   \n",
       "2       silverado 1500 crew       good  ...  pickup    red   \n",
       "3      tundra double cab sr       good  ...  pickup    red   \n",
       "4                 f-150 xlt  excellent  ...   truck  black   \n",
       "\n",
       "                                          imagen_url  \\\n",
       "0  https://images.craigslist.org/00R0R_lwWjXSEWNa...   \n",
       "1  https://images.craigslist.org/00R0R_lwWjXSEWNa...   \n",
       "2  https://images.craigslist.org/01212_jjirIWa0y0...   \n",
       "3  https://images.craigslist.org/00x0x_1y9kIOzGCF...   \n",
       "4  https://images.craigslist.org/00404_l4loxHvdQe...   \n",
       "\n",
       "                                         descripcion estado     lat      long  \\\n",
       "0  Carvana is the safer way to buy a car During t...     al   32.59    -85.48   \n",
       "1  Carvana is the safer way to buy a car During t...     al   32.59    -85.48   \n",
       "2  Carvana is the safer way to buy a car During t...     al   32.59    -85.48   \n",
       "3  Carvana is the safer way to buy a car During t...     al   32.59    -85.48   \n",
       "4  2013 F-150 XLT V6 4 Door. Good condition. Leve...     al  32.592  -85.5189   \n",
       "\n",
       "           fechapublicacion manejo    tamanio  \n",
       "0  2021-05-04T17:31:18.000Z    NaN        NaN  \n",
       "1  2021-05-04T17:31:08.000Z    NaN        NaN  \n",
       "2  2021-05-04T17:31:25.000Z    NaN        NaN  \n",
       "3  2021-05-04T15:41:31.000Z    NaN        NaN  \n",
       "4  2021-05-03T19:02:03.000Z    rwd  full-size  \n",
       "\n",
       "[5 rows x 26 columns]"
      ]
     },
     "execution_count": 154,
     "metadata": {},
     "output_type": "execute_result"
    }
   ],
   "source": [
    "import requests\n",
    "endpoint = 'http://localhost:3000/api/craigslists'\n",
    "r = requests.get(endpoint)\n",
    "#r.json().keys()\n",
    "json = r.json()\n",
    "result = json['craigslist']\n",
    "#Convertir resultado obtenido en el API a Dataframe\n",
    "normalized = pd.json_normalize(result)\n",
    "df = pd.DataFrame.from_dict(normalized)\n",
    "df.head()"
   ]
  },
  {
   "cell_type": "markdown",
   "id": "738b5fc5",
   "metadata": {},
   "source": [
    "### Gráficas de barras\n",
    "> Se grafican variables categoricas\n",
    "- `df['tipo'].unique()` valores únicos contenidos en esa columna\n",
    "- `df['tipo'].nunique()` nunique nos da el número de categorías que tenemos.\n",
    "- `df['tipo'].value_counts()` El método nos regresa una Serie con los nombres de la categorías como índices y los conteos como valores."
   ]
  },
  {
   "cell_type": "code",
   "execution_count": 155,
   "id": "9e21e5ea",
   "metadata": {},
   "outputs": [
    {
     "data": {
      "text/plain": [
       "array(['pickup', 'truck', 'other', nan, 'coupe', 'SUV', 'hatchback',\n",
       "       'mini-van', 'sedan', 'offroad', 'bus', 'van', 'convertible',\n",
       "       'wagon'], dtype=object)"
      ]
     },
     "execution_count": 155,
     "metadata": {},
     "output_type": "execute_result"
    }
   ],
   "source": [
    "df['tipo'].unique()"
   ]
  },
  {
   "cell_type": "code",
   "execution_count": 156,
   "id": "160d954f",
   "metadata": {},
   "outputs": [
    {
     "data": {
      "text/plain": [
       "13"
      ]
     },
     "execution_count": 156,
     "metadata": {},
     "output_type": "execute_result"
    }
   ],
   "source": [
    "df['tipo'].nunique()"
   ]
  },
  {
   "cell_type": "code",
   "execution_count": 157,
   "id": "4ce7352c",
   "metadata": {},
   "outputs": [
    {
     "data": {
      "text/plain": [
       "sedan          3812\n",
       "SUV            3510\n",
       "pickup         2698\n",
       "truck          1460\n",
       "other          1300\n",
       "hatchback       805\n",
       "coupe           777\n",
       "wagon           431\n",
       "van             368\n",
       "convertible     341\n",
       "mini-van        210\n",
       "offroad          57\n",
       "bus              36\n",
       "Name: tipo, dtype: int64"
      ]
     },
     "execution_count": 157,
     "metadata": {},
     "output_type": "execute_result"
    }
   ],
   "source": [
    "df['tipo'].value_counts()"
   ]
  },
  {
   "cell_type": "code",
   "execution_count": 158,
   "id": "ff9301c7",
   "metadata": {},
   "outputs": [
    {
     "data": {
      "image/png": "[encoded data removed]",
      "text/plain": [
       "<Figure size 432x288 with 1 Axes>"
      ]
     },
     "metadata": {},
     "output_type": "display_data"
    }
   ],
   "source": [
    "counts = df['tipo'].value_counts()\n",
    "ax = sns.barplot(x=counts, y=counts.index)\n",
    "ax.set_title('Conteo de tipo de auto')\n",
    "ax.set(ylabel='count');"
   ]
  },
  {
   "cell_type": "markdown",
   "id": "3523412e",
   "metadata": {},
   "source": [
    "### Grafica en porcentajes"
   ]
  },
  {
   "cell_type": "code",
   "execution_count": 159,
   "id": "2034ab15",
   "metadata": {},
   "outputs": [
    {
     "data": {
      "image/png": "[encoded data removed]",
      "text/plain": [
       "<Figure size 432x288 with 1 Axes>"
      ]
     },
     "metadata": {},
     "output_type": "display_data"
    }
   ],
   "source": [
    "as_percentages = counts * 100 / counts.sum()\n",
    "ax = sns.barplot(x=as_percentages, y=as_percentages.index)\n",
    "ax.set_title('Conteo de tipos de autos(como porcentajes)')\n",
    "ax.set(ylabel='porcentaje del total');"
   ]
  },
  {
   "cell_type": "markdown",
   "id": "68728e51",
   "metadata": {},
   "source": [
    "> Cambiando la presentacion de la información\n",
    "> Para cambiar la orientacion `ax = sns.barplot(as_percentages, as_percentages.index, orient='h')`"
   ]
  },
  {
   "cell_type": "code",
   "execution_count": 160,
   "id": "3a550096",
   "metadata": {},
   "outputs": [
    {
     "data": {
      "image/png": "[encoded data removed]",
      "text/plain": [
       "<Figure size 432x288 with 1 Axes>"
      ]
     },
     "metadata": {},
     "output_type": "display_data"
    }
   ],
   "source": [
    "ax = sns.barplot(x=as_percentages.index, y=as_percentages)\n",
    "ax.set_title('Conteo de tipos de autos(como porcentajes)')\n",
    "ax.set(ylabel='porcentaje del total')\n",
    "ax.set_xticklabels(ax.get_xticklabels(), rotation=50);\n"
   ]
  },
  {
   "cell_type": "markdown",
   "id": "c61dc411",
   "metadata": {},
   "source": [
    "### Tablas de contingencia\n",
    ">Una tabla de contingencia toma una de las variables categóricas como índice y otra (o más de una) de estas variables para crear columnas. Una tabla de contingencia es básicamente una tabla de conteos dividida por categorías."
   ]
  },
  {
   "cell_type": "code",
   "execution_count": 161,
   "id": "e660c354",
   "metadata": {},
   "outputs": [
    {
     "data": {
      "text/html": [
       "<div>\n",
       "<style scoped>\n",
       "    .dataframe tbody tr th:only-of-type {\n",
       "        vertical-align: middle;\n",
       "    }\n",
       "\n",
       "    .dataframe tbody tr th {\n",
       "        vertical-align: top;\n",
       "    }\n",
       "\n",
       "    .dataframe thead th {\n",
       "        text-align: right;\n",
       "    }\n",
       "</style>\n",
       "<table border=\"1\" class=\"dataframe\">\n",
       "  <thead>\n",
       "    <tr style=\"text-align: right;\">\n",
       "      <th>tipo</th>\n",
       "      <th>SUV</th>\n",
       "      <th>bus</th>\n",
       "      <th>convertible</th>\n",
       "      <th>coupe</th>\n",
       "      <th>hatchback</th>\n",
       "      <th>mini-van</th>\n",
       "      <th>offroad</th>\n",
       "      <th>other</th>\n",
       "      <th>pickup</th>\n",
       "      <th>sedan</th>\n",
       "      <th>truck</th>\n",
       "      <th>van</th>\n",
       "      <th>wagon</th>\n",
       "      <th>total</th>\n",
       "    </tr>\n",
       "    <tr>\n",
       "      <th>precio</th>\n",
       "      <th></th>\n",
       "      <th></th>\n",
       "      <th></th>\n",
       "      <th></th>\n",
       "      <th></th>\n",
       "      <th></th>\n",
       "      <th></th>\n",
       "      <th></th>\n",
       "      <th></th>\n",
       "      <th></th>\n",
       "      <th></th>\n",
       "      <th></th>\n",
       "      <th></th>\n",
       "      <th></th>\n",
       "    </tr>\n",
       "  </thead>\n",
       "  <tbody>\n",
       "    <tr>\n",
       "      <th>0</th>\n",
       "      <td>172</td>\n",
       "      <td>0</td>\n",
       "      <td>7</td>\n",
       "      <td>32</td>\n",
       "      <td>39</td>\n",
       "      <td>2</td>\n",
       "      <td>0</td>\n",
       "      <td>125</td>\n",
       "      <td>113</td>\n",
       "      <td>121</td>\n",
       "      <td>136</td>\n",
       "      <td>21</td>\n",
       "      <td>4</td>\n",
       "      <td>772</td>\n",
       "    </tr>\n",
       "    <tr>\n",
       "      <th>1</th>\n",
       "      <td>3</td>\n",
       "      <td>0</td>\n",
       "      <td>1</td>\n",
       "      <td>1</td>\n",
       "      <td>1</td>\n",
       "      <td>0</td>\n",
       "      <td>0</td>\n",
       "      <td>1</td>\n",
       "      <td>2</td>\n",
       "      <td>2</td>\n",
       "      <td>7</td>\n",
       "      <td>0</td>\n",
       "      <td>0</td>\n",
       "      <td>18</td>\n",
       "    </tr>\n",
       "    <tr>\n",
       "      <th>10</th>\n",
       "      <td>0</td>\n",
       "      <td>0</td>\n",
       "      <td>0</td>\n",
       "      <td>1</td>\n",
       "      <td>1</td>\n",
       "      <td>0</td>\n",
       "      <td>0</td>\n",
       "      <td>0</td>\n",
       "      <td>0</td>\n",
       "      <td>0</td>\n",
       "      <td>0</td>\n",
       "      <td>0</td>\n",
       "      <td>0</td>\n",
       "      <td>2</td>\n",
       "    </tr>\n",
       "    <tr>\n",
       "      <th>100</th>\n",
       "      <td>0</td>\n",
       "      <td>0</td>\n",
       "      <td>0</td>\n",
       "      <td>0</td>\n",
       "      <td>0</td>\n",
       "      <td>0</td>\n",
       "      <td>0</td>\n",
       "      <td>0</td>\n",
       "      <td>0</td>\n",
       "      <td>0</td>\n",
       "      <td>2</td>\n",
       "      <td>0</td>\n",
       "      <td>0</td>\n",
       "      <td>2</td>\n",
       "    </tr>\n",
       "    <tr>\n",
       "      <th>1000</th>\n",
       "      <td>7</td>\n",
       "      <td>6</td>\n",
       "      <td>0</td>\n",
       "      <td>0</td>\n",
       "      <td>2</td>\n",
       "      <td>2</td>\n",
       "      <td>0</td>\n",
       "      <td>0</td>\n",
       "      <td>2</td>\n",
       "      <td>11</td>\n",
       "      <td>1</td>\n",
       "      <td>1</td>\n",
       "      <td>0</td>\n",
       "      <td>32</td>\n",
       "    </tr>\n",
       "    <tr>\n",
       "      <th>...</th>\n",
       "      <td>...</td>\n",
       "      <td>...</td>\n",
       "      <td>...</td>\n",
       "      <td>...</td>\n",
       "      <td>...</td>\n",
       "      <td>...</td>\n",
       "      <td>...</td>\n",
       "      <td>...</td>\n",
       "      <td>...</td>\n",
       "      <td>...</td>\n",
       "      <td>...</td>\n",
       "      <td>...</td>\n",
       "      <td>...</td>\n",
       "      <td>...</td>\n",
       "    </tr>\n",
       "    <tr>\n",
       "      <th>9996</th>\n",
       "      <td>0</td>\n",
       "      <td>0</td>\n",
       "      <td>0</td>\n",
       "      <td>0</td>\n",
       "      <td>0</td>\n",
       "      <td>0</td>\n",
       "      <td>0</td>\n",
       "      <td>0</td>\n",
       "      <td>0</td>\n",
       "      <td>1</td>\n",
       "      <td>0</td>\n",
       "      <td>2</td>\n",
       "      <td>0</td>\n",
       "      <td>3</td>\n",
       "    </tr>\n",
       "    <tr>\n",
       "      <th>9997</th>\n",
       "      <td>0</td>\n",
       "      <td>0</td>\n",
       "      <td>0</td>\n",
       "      <td>0</td>\n",
       "      <td>0</td>\n",
       "      <td>0</td>\n",
       "      <td>0</td>\n",
       "      <td>0</td>\n",
       "      <td>0</td>\n",
       "      <td>1</td>\n",
       "      <td>0</td>\n",
       "      <td>0</td>\n",
       "      <td>0</td>\n",
       "      <td>1</td>\n",
       "    </tr>\n",
       "    <tr>\n",
       "      <th>9998</th>\n",
       "      <td>0</td>\n",
       "      <td>0</td>\n",
       "      <td>0</td>\n",
       "      <td>0</td>\n",
       "      <td>0</td>\n",
       "      <td>0</td>\n",
       "      <td>0</td>\n",
       "      <td>0</td>\n",
       "      <td>0</td>\n",
       "      <td>1</td>\n",
       "      <td>0</td>\n",
       "      <td>0</td>\n",
       "      <td>0</td>\n",
       "      <td>1</td>\n",
       "    </tr>\n",
       "    <tr>\n",
       "      <th>9999</th>\n",
       "      <td>9</td>\n",
       "      <td>0</td>\n",
       "      <td>2</td>\n",
       "      <td>12</td>\n",
       "      <td>0</td>\n",
       "      <td>0</td>\n",
       "      <td>0</td>\n",
       "      <td>4</td>\n",
       "      <td>2</td>\n",
       "      <td>26</td>\n",
       "      <td>4</td>\n",
       "      <td>1</td>\n",
       "      <td>3</td>\n",
       "      <td>63</td>\n",
       "    </tr>\n",
       "    <tr>\n",
       "      <th>total</th>\n",
       "      <td>3510</td>\n",
       "      <td>36</td>\n",
       "      <td>341</td>\n",
       "      <td>777</td>\n",
       "      <td>805</td>\n",
       "      <td>210</td>\n",
       "      <td>57</td>\n",
       "      <td>1300</td>\n",
       "      <td>2698</td>\n",
       "      <td>3812</td>\n",
       "      <td>1460</td>\n",
       "      <td>368</td>\n",
       "      <td>431</td>\n",
       "      <td>15805</td>\n",
       "    </tr>\n",
       "  </tbody>\n",
       "</table>\n",
       "<p>2262 rows × 14 columns</p>\n",
       "</div>"
      ],
      "text/plain": [
       "tipo     SUV  bus  convertible  coupe  hatchback  mini-van  offroad  other  \\\n",
       "precio                                                                       \n",
       "0        172    0            7     32         39         2        0    125   \n",
       "1          3    0            1      1          1         0        0      1   \n",
       "10         0    0            0      1          1         0        0      0   \n",
       "100        0    0            0      0          0         0        0      0   \n",
       "1000       7    6            0      0          2         2        0      0   \n",
       "...      ...  ...          ...    ...        ...       ...      ...    ...   \n",
       "9996       0    0            0      0          0         0        0      0   \n",
       "9997       0    0            0      0          0         0        0      0   \n",
       "9998       0    0            0      0          0         0        0      0   \n",
       "9999       9    0            2     12          0         0        0      4   \n",
       "total   3510   36          341    777        805       210       57   1300   \n",
       "\n",
       "tipo    pickup  sedan  truck  van  wagon  total  \n",
       "precio                                           \n",
       "0          113    121    136   21      4    772  \n",
       "1            2      2      7    0      0     18  \n",
       "10           0      0      0    0      0      2  \n",
       "100          0      0      2    0      0      2  \n",
       "1000         2     11      1    1      0     32  \n",
       "...        ...    ...    ...  ...    ...    ...  \n",
       "9996         0      1      0    2      0      3  \n",
       "9997         0      1      0    0      0      1  \n",
       "9998         0      1      0    0      0      1  \n",
       "9999         2     26      4    1      3     63  \n",
       "total     2698   3812   1460  368    431  15805  \n",
       "\n",
       "[2262 rows x 14 columns]"
      ]
     },
     "execution_count": 161,
     "metadata": {},
     "output_type": "execute_result"
    }
   ],
   "source": [
    "import pandas as pd\n",
    "import matplotlib.pyplot as plt\n",
    "import seaborn as sns\n",
    "crosstab =pd.crosstab(df['precio'], df['tipo'], margins=True, margins_name='total')\n",
    "crosstab"
   ]
  },
  {
   "cell_type": "code",
   "execution_count": 162,
   "id": "0c073838",
   "metadata": {},
   "outputs": [
    {
     "data": {
      "text/plain": [
       "precio  tipo       \n",
       "0       SUV              172\n",
       "        bus                0\n",
       "        convertible        7\n",
       "        coupe             32\n",
       "        hatchback         39\n",
       "                       ...  \n",
       "total   sedan           3812\n",
       "        truck           1460\n",
       "        van              368\n",
       "        wagon            431\n",
       "        total          15805\n",
       "Length: 31668, dtype: int64"
      ]
     },
     "execution_count": 162,
     "metadata": {},
     "output_type": "execute_result"
    }
   ],
   "source": [
    "crosstab.stack(level=0)"
   ]
  },
  {
   "cell_type": "markdown",
   "id": "26336824",
   "metadata": {},
   "source": [
    "> `stack` lo que hace es tomar una de nuestras columnas y convertirla en índice. Si le pedimos que haga el stack en el nivel 0, convertirá el nivel 'tipo' en índice"
   ]
  },
  {
   "cell_type": "code",
   "execution_count": 163,
   "id": "a9a92cc1",
   "metadata": {},
   "outputs": [
    {
     "data": {
      "text/html": [
       "<div>\n",
       "<style scoped>\n",
       "    .dataframe tbody tr th:only-of-type {\n",
       "        vertical-align: middle;\n",
       "    }\n",
       "\n",
       "    .dataframe tbody tr th {\n",
       "        vertical-align: top;\n",
       "    }\n",
       "\n",
       "    .dataframe thead th {\n",
       "        text-align: right;\n",
       "    }\n",
       "</style>\n",
       "<table border=\"1\" class=\"dataframe\">\n",
       "  <thead>\n",
       "    <tr style=\"text-align: right;\">\n",
       "      <th></th>\n",
       "      <th>odometro</th>\n",
       "      <th>precio</th>\n",
       "      <th>anio</th>\n",
       "      <th>fabricante</th>\n",
       "    </tr>\n",
       "  </thead>\n",
       "  <tbody>\n",
       "    <tr>\n",
       "      <th>0</th>\n",
       "      <td>57923.0</td>\n",
       "      <td>33590.0</td>\n",
       "      <td>2014.0</td>\n",
       "      <td>gmc</td>\n",
       "    </tr>\n",
       "    <tr>\n",
       "      <th>1</th>\n",
       "      <td>71229.0</td>\n",
       "      <td>22590.0</td>\n",
       "      <td>2010.0</td>\n",
       "      <td>chevrolet</td>\n",
       "    </tr>\n",
       "    <tr>\n",
       "      <th>2</th>\n",
       "      <td>19160.0</td>\n",
       "      <td>39590.0</td>\n",
       "      <td>2020.0</td>\n",
       "      <td>chevrolet</td>\n",
       "    </tr>\n",
       "    <tr>\n",
       "      <th>3</th>\n",
       "      <td>41124.0</td>\n",
       "      <td>30990.0</td>\n",
       "      <td>2017.0</td>\n",
       "      <td>toyota</td>\n",
       "    </tr>\n",
       "    <tr>\n",
       "      <th>4</th>\n",
       "      <td>128000.0</td>\n",
       "      <td>15000.0</td>\n",
       "      <td>2013.0</td>\n",
       "      <td>ford</td>\n",
       "    </tr>\n",
       "    <tr>\n",
       "      <th>...</th>\n",
       "      <td>...</td>\n",
       "      <td>...</td>\n",
       "      <td>...</td>\n",
       "      <td>...</td>\n",
       "    </tr>\n",
       "    <tr>\n",
       "      <th>19995</th>\n",
       "      <td>148463.0</td>\n",
       "      <td>0.0</td>\n",
       "      <td>2007.0</td>\n",
       "      <td>subaru</td>\n",
       "    </tr>\n",
       "    <tr>\n",
       "      <th>19996</th>\n",
       "      <td>125030.0</td>\n",
       "      <td>0.0</td>\n",
       "      <td>2012.0</td>\n",
       "      <td>nissan</td>\n",
       "    </tr>\n",
       "    <tr>\n",
       "      <th>19997</th>\n",
       "      <td>47127.0</td>\n",
       "      <td>24983.0</td>\n",
       "      <td>2019.0</td>\n",
       "      <td>ford</td>\n",
       "    </tr>\n",
       "    <tr>\n",
       "      <th>19998</th>\n",
       "      <td>21520.0</td>\n",
       "      <td>199.0</td>\n",
       "      <td>2017.0</td>\n",
       "      <td>dodge</td>\n",
       "    </tr>\n",
       "    <tr>\n",
       "      <th>19999</th>\n",
       "      <td>145525.0</td>\n",
       "      <td>0.0</td>\n",
       "      <td>2006.0</td>\n",
       "      <td>ford</td>\n",
       "    </tr>\n",
       "  </tbody>\n",
       "</table>\n",
       "<p>20000 rows × 4 columns</p>\n",
       "</div>"
      ],
      "text/plain": [
       "       odometro   precio    anio fabricante\n",
       "0       57923.0  33590.0  2014.0        gmc\n",
       "1       71229.0  22590.0  2010.0  chevrolet\n",
       "2       19160.0  39590.0  2020.0  chevrolet\n",
       "3       41124.0  30990.0  2017.0     toyota\n",
       "4      128000.0  15000.0  2013.0       ford\n",
       "...         ...      ...     ...        ...\n",
       "19995  148463.0      0.0  2007.0     subaru\n",
       "19996  125030.0      0.0  2012.0     nissan\n",
       "19997   47127.0  24983.0  2019.0       ford\n",
       "19998   21520.0    199.0  2017.0      dodge\n",
       "19999  145525.0      0.0  2006.0       ford\n",
       "\n",
       "[20000 rows x 4 columns]"
      ]
     },
     "execution_count": 163,
     "metadata": {},
     "output_type": "execute_result"
    }
   ],
   "source": [
    "by_athlete = df.groupby(level=0)[['odometro', 'precio', 'anio']].mean()\n",
    "fab = df.groupby(level=0)['fabricante'].last()\n",
    "merged = by_athlete.merge(fab, left_index=True, right_index=True)\n",
    "merged"
   ]
  },
  {
   "cell_type": "markdown",
   "id": "58a6b1f9",
   "metadata": {},
   "source": [
    "> La tabla `merged` tiene 3 variables numéricas  y 1 variable categórica. Ya hemos visto cómo podemos analizar la distribución de una variable numérica utilizando boxplots"
   ]
  },
  {
   "cell_type": "code",
   "execution_count": 164,
   "id": "81bdc4d8",
   "metadata": {},
   "outputs": [
    {
     "data": {
      "text/plain": [
       "<AxesSubplot:>"
      ]
     },
     "execution_count": 164,
     "metadata": {},
     "output_type": "execute_result"
    },
    {
     "data": {
      "image/png": "[encoded data removed]",
      "text/plain": [
       "<Figure size 432x288 with 1 Axes>"
      ]
     },
     "metadata": {},
     "output_type": "display_data"
    }
   ],
   "source": [
    "sns.boxplot(data=df['anio'])"
   ]
  },
  {
   "cell_type": "code",
   "execution_count": 165,
   "id": "b67e78ed",
   "metadata": {},
   "outputs": [
    {
     "data": {
      "image/png": "[encoded data removed]",
      "text/plain": [
       "<Figure size 360x720 with 1 Axes>"
      ]
     },
     "metadata": {},
     "output_type": "display_data"
    }
   ],
   "source": [
    "plt.figure(figsize=(5, 10))\n",
    "sns.boxplot(data=merged, x='anio', y='fabricante');"
   ]
  },
  {
   "cell_type": "code",
   "execution_count": 166,
   "id": "f79b9951",
   "metadata": {},
   "outputs": [
    {
     "data": {
      "image/png": "[encoded data removed]",
      "text/plain": [
       "<Figure size 360x720 with 1 Axes>"
      ]
     },
     "metadata": {},
     "output_type": "display_data"
    }
   ],
   "source": [
    "plt.figure(figsize=(5, 10))\n",
    "sns.violinplot(data=merged, x='anio', y='fabricante');"
   ]
  },
  {
   "cell_type": "markdown",
   "id": "207eb3b3",
   "metadata": {},
   "source": [
    "> Grafica de violin nos es mas facil identificar los valores atipicos"
   ]
  },
  {
   "cell_type": "markdown",
   "id": "4292fc81",
   "metadata": {},
   "source": [
    "## Sesión 04: Correlaciones y Regresión Linear Simple\n",
    "\n",
    ">Hacer análisis bivariado con variables numéricas. Los alumnos explorarán las relaciones entre variables numéricas utilizando métodos cuantitativos y visualizaciones. \n",
    ">Entrenar modelos básicos de Regresión Lineal Simple."
   ]
  },
  {
   "cell_type": "markdown",
   "id": "7f43deb7",
   "metadata": {},
   "source": [
    "## Distribuciones muestrales y técnicas de evaluación de modelos\n",
    "\n",
    ">Definir los conceptos de sesgo e incertidumbre y la importancia que tienen sobre nuestros análisis. Se explorarán ambos en los ámbitos de distribuciones muestrales de estadísticas y entrenamiento de modelos predictivos."
   ]
  },
  {
   "cell_type": "markdown",
   "id": "198339b8",
   "metadata": {},
   "source": [
    "### Muestreo aleatorio o randomizado\n",
    "> Tomar algunas muestras de la variable 'anio'. "
   ]
  },
  {
   "cell_type": "code",
   "execution_count": 167,
   "id": "cffef3bc",
   "metadata": {},
   "outputs": [
    {
     "data": {
      "text/plain": [
       "titulo_original\n",
       "8 Colors Summer Women Anti-Cellulite Yoga Shorts Gym Cellulite Push Up  Workout Fitness Scrunch Thin Skinny  Sports Running Yoga Shorts                                                                           8.00\n",
       "Hakuna Matata Letter Print Tee Shirt Summer Women Short Sleeve T Shirt Plus Size Women Casual Cotton Top Funny T Shirt                                                                                            5.75\n",
       "Men's Low Cut Socks Shallow Invisible Socks Spring and Summer Short Socks Pure Cotton Breathable Socks Medias Femininas Socks for Men                                                                             2.00\n",
       "Summer Women's Fashion New Sleeveless Polka Dot V-neck Strap Mini Backless Casual Top Dresses                                                                                                                    13.00\n",
       "Sexy Solid Ruffled Chiffon Sling Top Pure Color Women Summer Tank Top Plus Size                                                                                                                                   9.00\n",
       "Women Fashion Floral Print Overlap Sleeveless Top Casual Loose Party Shirt Irregular Elegant Tops Plus Size XS-6XL                                                                                                8.00\n",
       "Fashion Sunflower Print Short Sleeve T Shirt Summer Women Shirts Plus Size                                                                                                                                        9.00\n",
       "Sexy Women's Summer Casual Sleeveless Evening Party Backless Beachwear Mini Dress                                                                                                                                 6.00\n",
       "Short Sleeve Beach Dress Women Summer Print V Neck Dress Loose Casual Pullover Midi Dress                                                                                                                         8.00\n",
       "2018 Summer Fashion Women Tank Tops Sexy Women Sleeveless Crop Tops Casual Style Women Cotton Print Lace Stitching Irregular Blouse Tops（S-5XL)                                                                   7.00\n",
       "New Fashion Summer Women Casual Dress Round Neck Loose Big Swing Skirt Sleeveless Soild Color Beach dress                                                                                                         1.00\n",
       "Women Sleeveless Spaghetti Strap Solid Color Pleated Dress Casual Loose Ruffle Maxi Dress Plus Size                                                                                                              12.00\n",
       "4 Colors Women Summer Fashion Sexy Lace Stitching Solid Color T-shirt Female Ladies Slim Fit Plus Size Blouse Tee Tops                                                                                            8.00\n",
       "Women Summer Shorts Lace Up Elastic Waistband Loose Thin Casual Pants Plus Size S-8XL                                                                                                                             2.72\n",
       "Women's Fashion T-Shirts Let It ~ Bee Printed Casual Round Neck Graphic Tee Cute Short Sleeve T-shirts Summer Top                                                                                                 8.00\n",
       "XS-6XL New Women's Fashion Summer O-Neck Sleeveless Tank Dress Casual Solid Color Pockets Strap Dress Cotton Linen Off Shoulder Beach Skirt Plus Size Loose A-Line Dresses Ladies Fashion Mini Dress Sundress     3.76\n",
       "Oversize Women Summer Evening Cocktail Party Beach Long Maxi Dress BOHO                                                                                                                                          12.00\n",
       "Plus Size Women Floral Dress Spaghetti Strap Collect Waist A-line Summer Mini Dress                                                                                                                              12.00\n",
       "NEW Summer Womens Fashion Sleeveless V-neck Floral Print Beach Dress Big Swing Dress Loose Casual Long Vest Dresses Ladies Party Dress Plus Size XS-8XL                                                           9.00\n",
       "Sexy Women Fashion Loose Shorts Lace Up Elastic Waist Summer Beach Short Pants Shorts                                                                                                                             9.00\n",
       "Name: precio, dtype: float64"
      ]
     },
     "execution_count": 167,
     "metadata": {},
     "output_type": "execute_result"
    }
   ],
   "source": [
    "import pandas as pd\n",
    "import matplotlib.pyplot as plt\n",
    "import seaborn as sns\n",
    "df = pd.read_csv('../DS/productos-verano-calificación-rendimiento_2020-08.csv', index_col=0)\n",
    "\n",
    "df['precio'].sample(n=20, replace=False)"
   ]
  },
  {
   "cell_type": "code",
   "execution_count": 168,
   "id": "ff2c597f",
   "metadata": {},
   "outputs": [
    {
     "data": {
      "text/plain": [
       "titulo_original\n",
       "Women's Fashion Summer Dresses V Neck Backless Lace Dress Beach Dresses White Dress Plus Size XS-5XL Robe Femme                                               12.0\n",
       "S-5XL Plus Size New Summer Fashion Skinny Pants Women Elastic Waist Capri Pants Solid Color Drawstring Casual Pants Cotton Short Pants Sportswear Leggings     9.0\n",
       "2017 Women Ladies Summer Dress Sleeveless Casual Sexy Floral Print Beach Dress Fashion Spaghetti Strap Mini Short Dress                                        8.0\n",
       "Women Skeleton Printed Premium Bodycon Slim Fit Soft Elasticity Black Summer Casual Shorts                                                                     7.0\n",
       "Womens Sleeveless Strapless Tube Tops Bandeau Stretch Ribbed Layering Tank Tops                                                                                9.0\n",
       "                                                                                                                                                              ... \n",
       "S-XXL Summer Spring Fashion Women Elastic High Waist Lace Shorts  Short Hot Pants                                                                             12.0\n",
       "2018 New ZANZEA Beach Romper Women Jumpsuits Front Zipper Sleeveless Sexy Playsuits                                                                           13.0\n",
       "XS-8XL Plus Size Sleeveless Summer Tops Fashion Clothes Women's Casual Floral Printed Blouses Ladies Beach Wear Pleated Shirts Deep V-neck Tank Tops           2.0\n",
       "Plus Size S-5XL Women Vintage Sleeveless Hanging Neck Tank Tops Casual Style Women Chiffon Print Crop Top Bras                                                 8.0\n",
       "Side Split Letter Print Curved Hem Casual Dress Summer Sport Style T Shirt Dress Plus Size                                                                    12.0\n",
       "Name: precio, Length: 157, dtype: float64"
      ]
     },
     "execution_count": 168,
     "metadata": {},
     "output_type": "execute_result"
    }
   ],
   "source": [
    "df['precio'].sample(frac=0.1, replace=True)"
   ]
  },
  {
   "cell_type": "markdown",
   "id": "b24e4a74",
   "metadata": {},
   "source": [
    "> Se pueden tomar repetidos"
   ]
  },
  {
   "cell_type": "markdown",
   "id": "9f086e34",
   "metadata": {},
   "source": [
    "### Bootstrap\n",
    "> El Bootstrap nos sirve para generar lo que se llaman distribuciones muestrales de estadísticas. "
   ]
  },
  {
   "cell_type": "code",
   "execution_count": 174,
   "id": "b7d015f2",
   "metadata": {},
   "outputs": [
    {
     "data": {
      "image/png": "[encoded data removed]",
      "text/plain": [
       "<Figure size 432x288 with 1 Axes>"
      ]
     },
     "metadata": {},
     "output_type": "display_data"
    }
   ],
   "source": [
    "df = df.dropna(subset=['precio'])\n",
    "precios = df['precio']\n",
    "\n",
    "means = []\n",
    "\n",
    "for i in range(3000):\n",
    "     sample = precios.sample(n=50, replace=True)\n",
    "     means.append(sample.mean())\n",
    "    \n",
    "serie_means = pd.Series(means)\n",
    "#sns.distplot(serie_means, kde=False, norm_hist=False);\n",
    "sns.histplot(serie_means);\n"
   ]
  },
  {
   "cell_type": "markdown",
   "id": "67b5f56f",
   "metadata": {},
   "source": [
    "- Toma un elemento de tu conjunto de datos de manera aleatoria con reposición.\n",
    "- Repite el paso 1 n veces (entre más grande tu n, más preciso tu cálculo; pero no tiene sentido que sea tan grande como el tamaño de tu muestra).\n",
    "- Toma la medida estadística que te interese de tus valores remuestreados.\n",
    "- Repite los pasos 1 a 3 R veces (entre mayor sea R, más preciso tu cálculo).\n",
    "- Utiliza las medidas obtenidas para: a) Generar un histograma o boxplot b) Calcular el error estándar c) Calcular un intervalo de confianza"
   ]
  },
  {
   "cell_type": "markdown",
   "id": "3c715217",
   "metadata": {},
   "source": [
    "### Teorema del límite central\n",
    "> Teorema del Limíte Central que establece que las distribuciones muestrales de estadísticas van a tender hacia la normalidad. \n",
    " - ejemplo podemos calcular qué tan cerca de la normalidad están nuestros promedios muestrales:"
   ]
  },
  {
   "cell_type": "code",
   "execution_count": 175,
   "id": "74be00c5",
   "metadata": {},
   "outputs": [
    {
     "data": {
      "text/plain": [
       "0.19596674584876714"
      ]
     },
     "execution_count": 175,
     "metadata": {},
     "output_type": "execute_result"
    }
   ],
   "source": [
    "serie_means.skew()"
   ]
  },
  {
   "cell_type": "code",
   "execution_count": 176,
   "id": "caae4e56",
   "metadata": {},
   "outputs": [
    {
     "data": {
      "text/plain": [
       "0.11545114063119266"
      ]
     },
     "execution_count": 176,
     "metadata": {},
     "output_type": "execute_result"
    }
   ],
   "source": [
    "serie_means.kurtosis()"
   ]
  },
  {
   "cell_type": "markdown",
   "id": "b2d57cd7",
   "metadata": {},
   "source": [
    " > Entre más pequeñas sean nuestras remuestras, normalmente la curtosis aumenta."
   ]
  },
  {
   "cell_type": "markdown",
   "id": "6f5f66e4",
   "metadata": {},
   "source": [
    "### Error estándar e intervalos de confianza\n",
    "- Entre mayor el error estándar (y por lo tanto mayor curtosis), más variabilidad e incertidumbre en nuestra medida estadística.\n",
    "- Entre menor el error estándar (y por lo tanto menor curtosis), menor variabilidad e incertidumbre en nuestra medida estadística."
   ]
  },
  {
   "cell_type": "code",
   "execution_count": 177,
   "id": "05c8e954",
   "metadata": {},
   "outputs": [
    {
     "name": "stdout",
     "output_type": "stream",
     "text": [
      "Error estandar: 0.5584618078717046\n"
     ]
    }
   ],
   "source": [
    "print(f'Error estandar: {serie_means.std()}')"
   ]
  },
  {
   "cell_type": "code",
   "execution_count": 178,
   "id": "0db82568",
   "metadata": {},
   "outputs": [
    {
     "name": "stdout",
     "output_type": "stream",
     "text": [
      "Valor mínimo: 6.697\n",
      "Valor máximo: 10.4206\n",
      "Rango: 3.7236000000000002\n"
     ]
    }
   ],
   "source": [
    "print(f'Valor mínimo: {serie_means.min()}')\n",
    "print(f'Valor máximo: {serie_means.max()}')\n",
    "print(f'Rango: {serie_means.max() - serie_means.min()}')"
   ]
  },
  {
   "cell_type": "code",
   "execution_count": 179,
   "id": "14991ad8",
   "metadata": {},
   "outputs": [
    {
     "data": {
      "image/png": "[encoded data removed]",
      "text/plain": [
       "<Figure size 432x288 with 1 Axes>"
      ]
     },
     "metadata": {},
     "output_type": "display_data"
    }
   ],
   "source": [
    "sns.boxplot(data=serie_means);"
   ]
  },
  {
   "cell_type": "markdown",
   "id": "0add96c8",
   "metadata": {},
   "source": [
    "### Intervalos de confianza"
   ]
  },
  {
   "cell_type": "code",
   "execution_count": 180,
   "id": "0229ab7f",
   "metadata": {},
   "outputs": [
    {
     "name": "stdout",
     "output_type": "stream",
     "text": [
      "Intervalo de 95% confianza de la media: 7.275595 < 8.323782581055308 < 9.476409999999998\n"
     ]
    }
   ],
   "source": [
    "limite_inferior = serie_means.quantile(0.025)\n",
    "limite_superior = serie_means.quantile(0.975)\n",
    "print(f'Intervalo de 95% confianza de la media: {limite_inferior} < {precios.mean()} < {limite_superior}')"
   ]
  },
  {
   "cell_type": "code",
   "execution_count": 196,
   "id": "2d5a9455",
   "metadata": {},
   "outputs": [
    {
     "name": "stdout",
     "output_type": "stream",
     "text": [
      "Intervalo de 95% confianza de la media: 8.323782581055308 +/- 1.1004074999999989\n"
     ]
    }
   ],
   "source": [
    "mean_of_intervals = ((precios.mean() - limite_inferior) + (limite_superior - precios.mean())) / 2\n",
    "\n",
    "print(f'Intervalo de 95% confianza de la media: {precios.mean()} +/- {mean_of_intervals}')"
   ]
  },
  {
   "cell_type": "code",
   "execution_count": 185,
   "id": "b19ada61",
   "metadata": {},
   "outputs": [
    {
     "data": {
      "image/png": "[encoded data removed]",
      "text/plain": [
       "<Figure size 432x288 with 1 Axes>"
      ]
     },
     "metadata": {},
     "output_type": "display_data"
    }
   ],
   "source": [
    "#sns.distplot(serie_means, kde=False, norm_hist=False)\n",
    "sns.histplot(serie_means)\n",
    "plt.axvline(limite_inferior)\n",
    "plt.axvline(limite_superior);"
   ]
  },
  {
   "cell_type": "markdown",
   "id": "c6aa29ac",
   "metadata": {},
   "source": [
    "## Visualización de Datos Avanzada\n",
    "\n",
    "### Treemaps\n",
    ">Los treemaps son gráficas que sirven para visualizar datos jerárquicos\n",
    "\n",
    "Se requiere la instalación de pandas !pip install plotly\n"
   ]
  },
  {
   "cell_type": "code",
   "execution_count": 186,
   "id": "73322eb5",
   "metadata": {},
   "outputs": [],
   "source": [
    "import plotly.express as px\n",
    "import pandas as pd"
   ]
  },
  {
   "cell_type": "code",
   "execution_count": 187,
   "id": "2e036a09",
   "metadata": {},
   "outputs": [
    {
     "data": {
      "text/html": [
       "<div>\n",
       "<style scoped>\n",
       "    .dataframe tbody tr th:only-of-type {\n",
       "        vertical-align: middle;\n",
       "    }\n",
       "\n",
       "    .dataframe tbody tr th {\n",
       "        vertical-align: top;\n",
       "    }\n",
       "\n",
       "    .dataframe thead th {\n",
       "        text-align: right;\n",
       "    }\n",
       "</style>\n",
       "<table border=\"1\" class=\"dataframe\">\n",
       "  <thead>\n",
       "    <tr style=\"text-align: right;\">\n",
       "      <th></th>\n",
       "      <th>_id</th>\n",
       "      <th>id</th>\n",
       "      <th>url</th>\n",
       "      <th>region</th>\n",
       "      <th>region_url</th>\n",
       "      <th>precio</th>\n",
       "      <th>anio</th>\n",
       "      <th>fabricante</th>\n",
       "      <th>modelo</th>\n",
       "      <th>condicion</th>\n",
       "      <th>...</th>\n",
       "      <th>tipo</th>\n",
       "      <th>color</th>\n",
       "      <th>imagen_url</th>\n",
       "      <th>descripcion</th>\n",
       "      <th>estado</th>\n",
       "      <th>lat</th>\n",
       "      <th>long</th>\n",
       "      <th>fechapublicacion</th>\n",
       "      <th>manejo</th>\n",
       "      <th>tamanio</th>\n",
       "    </tr>\n",
       "  </thead>\n",
       "  <tbody>\n",
       "    <tr>\n",
       "      <th>0</th>\n",
       "      <td>625f16695e80e0def195806a</td>\n",
       "      <td>7316814884</td>\n",
       "      <td>https://auburn.craigslist.org/ctd/d/auburn-uni...</td>\n",
       "      <td>auburn</td>\n",
       "      <td>https://auburn.craigslist.org</td>\n",
       "      <td>33590</td>\n",
       "      <td>2014</td>\n",
       "      <td>gmc</td>\n",
       "      <td>sierra 1500 crew cab slt</td>\n",
       "      <td>good</td>\n",
       "      <td>...</td>\n",
       "      <td>pickup</td>\n",
       "      <td>white</td>\n",
       "      <td>https://images.craigslist.org/00R0R_lwWjXSEWNa...</td>\n",
       "      <td>Carvana is the safer way to buy a car During t...</td>\n",
       "      <td>al</td>\n",
       "      <td>32.59</td>\n",
       "      <td>-85.48</td>\n",
       "      <td>2021-05-04T17:31:18.000Z</td>\n",
       "      <td>NaN</td>\n",
       "      <td>NaN</td>\n",
       "    </tr>\n",
       "    <tr>\n",
       "      <th>1</th>\n",
       "      <td>625f16695e80e0def195806b</td>\n",
       "      <td>7316814758</td>\n",
       "      <td>https://auburn.craigslist.org/ctd/d/auburn-uni...</td>\n",
       "      <td>auburn</td>\n",
       "      <td>https://auburn.craigslist.org</td>\n",
       "      <td>22590</td>\n",
       "      <td>2010</td>\n",
       "      <td>chevrolet</td>\n",
       "      <td>silverado 1500</td>\n",
       "      <td>good</td>\n",
       "      <td>...</td>\n",
       "      <td>pickup</td>\n",
       "      <td>blue</td>\n",
       "      <td>https://images.craigslist.org/00R0R_lwWjXSEWNa...</td>\n",
       "      <td>Carvana is the safer way to buy a car During t...</td>\n",
       "      <td>al</td>\n",
       "      <td>32.59</td>\n",
       "      <td>-85.48</td>\n",
       "      <td>2021-05-04T17:31:08.000Z</td>\n",
       "      <td>NaN</td>\n",
       "      <td>NaN</td>\n",
       "    </tr>\n",
       "    <tr>\n",
       "      <th>2</th>\n",
       "      <td>625f16695e80e0def195806c</td>\n",
       "      <td>7316814989</td>\n",
       "      <td>https://auburn.craigslist.org/ctd/d/auburn-uni...</td>\n",
       "      <td>auburn</td>\n",
       "      <td>https://auburn.craigslist.org</td>\n",
       "      <td>39590</td>\n",
       "      <td>2020</td>\n",
       "      <td>chevrolet</td>\n",
       "      <td>silverado 1500 crew</td>\n",
       "      <td>good</td>\n",
       "      <td>...</td>\n",
       "      <td>pickup</td>\n",
       "      <td>red</td>\n",
       "      <td>https://images.craigslist.org/01212_jjirIWa0y0...</td>\n",
       "      <td>Carvana is the safer way to buy a car During t...</td>\n",
       "      <td>al</td>\n",
       "      <td>32.59</td>\n",
       "      <td>-85.48</td>\n",
       "      <td>2021-05-04T17:31:25.000Z</td>\n",
       "      <td>NaN</td>\n",
       "      <td>NaN</td>\n",
       "    </tr>\n",
       "    <tr>\n",
       "      <th>3</th>\n",
       "      <td>625f16695e80e0def195806d</td>\n",
       "      <td>7316743432</td>\n",
       "      <td>https://auburn.craigslist.org/ctd/d/auburn-uni...</td>\n",
       "      <td>auburn</td>\n",
       "      <td>https://auburn.craigslist.org</td>\n",
       "      <td>30990</td>\n",
       "      <td>2017</td>\n",
       "      <td>toyota</td>\n",
       "      <td>tundra double cab sr</td>\n",
       "      <td>good</td>\n",
       "      <td>...</td>\n",
       "      <td>pickup</td>\n",
       "      <td>red</td>\n",
       "      <td>https://images.craigslist.org/00x0x_1y9kIOzGCF...</td>\n",
       "      <td>Carvana is the safer way to buy a car During t...</td>\n",
       "      <td>al</td>\n",
       "      <td>32.59</td>\n",
       "      <td>-85.48</td>\n",
       "      <td>2021-05-04T15:41:31.000Z</td>\n",
       "      <td>NaN</td>\n",
       "      <td>NaN</td>\n",
       "    </tr>\n",
       "    <tr>\n",
       "      <th>4</th>\n",
       "      <td>625f16695e80e0def195806e</td>\n",
       "      <td>7316356412</td>\n",
       "      <td>https://auburn.craigslist.org/cto/d/auburn-uni...</td>\n",
       "      <td>auburn</td>\n",
       "      <td>https://auburn.craigslist.org</td>\n",
       "      <td>15000</td>\n",
       "      <td>2013</td>\n",
       "      <td>ford</td>\n",
       "      <td>f-150 xlt</td>\n",
       "      <td>excellent</td>\n",
       "      <td>...</td>\n",
       "      <td>truck</td>\n",
       "      <td>black</td>\n",
       "      <td>https://images.craigslist.org/00404_l4loxHvdQe...</td>\n",
       "      <td>2013 F-150 XLT V6 4 Door. Good condition. Leve...</td>\n",
       "      <td>al</td>\n",
       "      <td>32.592</td>\n",
       "      <td>-85.5189</td>\n",
       "      <td>2021-05-03T19:02:03.000Z</td>\n",
       "      <td>rwd</td>\n",
       "      <td>full-size</td>\n",
       "    </tr>\n",
       "  </tbody>\n",
       "</table>\n",
       "<p>5 rows × 26 columns</p>\n",
       "</div>"
      ],
      "text/plain": [
       "                        _id          id  \\\n",
       "0  625f16695e80e0def195806a  7316814884   \n",
       "1  625f16695e80e0def195806b  7316814758   \n",
       "2  625f16695e80e0def195806c  7316814989   \n",
       "3  625f16695e80e0def195806d  7316743432   \n",
       "4  625f16695e80e0def195806e  7316356412   \n",
       "\n",
       "                                                 url  region  \\\n",
       "0  https://auburn.craigslist.org/ctd/d/auburn-uni...  auburn   \n",
       "1  https://auburn.craigslist.org/ctd/d/auburn-uni...  auburn   \n",
       "2  https://auburn.craigslist.org/ctd/d/auburn-uni...  auburn   \n",
       "3  https://auburn.craigslist.org/ctd/d/auburn-uni...  auburn   \n",
       "4  https://auburn.craigslist.org/cto/d/auburn-uni...  auburn   \n",
       "\n",
       "                      region_url precio  anio fabricante  \\\n",
       "0  https://auburn.craigslist.org  33590  2014        gmc   \n",
       "1  https://auburn.craigslist.org  22590  2010  chevrolet   \n",
       "2  https://auburn.craigslist.org  39590  2020  chevrolet   \n",
       "3  https://auburn.craigslist.org  30990  2017     toyota   \n",
       "4  https://auburn.craigslist.org  15000  2013       ford   \n",
       "\n",
       "                     modelo  condicion  ...    tipo  color  \\\n",
       "0  sierra 1500 crew cab slt       good  ...  pickup  white   \n",
       "1            silverado 1500       good  ...  pickup   blue   \n",
       "2       silverado 1500 crew       good  ...  pickup    red   \n",
       "3      tundra double cab sr       good  ...  pickup    red   \n",
       "4                 f-150 xlt  excellent  ...   truck  black   \n",
       "\n",
       "                                          imagen_url  \\\n",
       "0  https://images.craigslist.org/00R0R_lwWjXSEWNa...   \n",
       "1  https://images.craigslist.org/00R0R_lwWjXSEWNa...   \n",
       "2  https://images.craigslist.org/01212_jjirIWa0y0...   \n",
       "3  https://images.craigslist.org/00x0x_1y9kIOzGCF...   \n",
       "4  https://images.craigslist.org/00404_l4loxHvdQe...   \n",
       "\n",
       "                                         descripcion estado     lat      long  \\\n",
       "0  Carvana is the safer way to buy a car During t...     al   32.59    -85.48   \n",
       "1  Carvana is the safer way to buy a car During t...     al   32.59    -85.48   \n",
       "2  Carvana is the safer way to buy a car During t...     al   32.59    -85.48   \n",
       "3  Carvana is the safer way to buy a car During t...     al   32.59    -85.48   \n",
       "4  2013 F-150 XLT V6 4 Door. Good condition. Leve...     al  32.592  -85.5189   \n",
       "\n",
       "           fechapublicacion manejo    tamanio  \n",
       "0  2021-05-04T17:31:18.000Z    NaN        NaN  \n",
       "1  2021-05-04T17:31:08.000Z    NaN        NaN  \n",
       "2  2021-05-04T17:31:25.000Z    NaN        NaN  \n",
       "3  2021-05-04T15:41:31.000Z    NaN        NaN  \n",
       "4  2021-05-03T19:02:03.000Z    rwd  full-size  \n",
       "\n",
       "[5 rows x 26 columns]"
      ]
     },
     "execution_count": 187,
     "metadata": {},
     "output_type": "execute_result"
    }
   ],
   "source": [
    "import requests\n",
    "endpoint = 'http://localhost:3000/api/craigslists'\n",
    "r = requests.get(endpoint)\n",
    "#r.json().keys()\n",
    "json = r.json()\n",
    "result = json['craigslist']\n",
    "#Convertir resultado obtenido en el API a Dataframe\n",
    "normalized = pd.json_normalize(result)\n",
    "df = pd.DataFrame.from_dict(normalized)\n",
    "df.head()"
   ]
  },
  {
   "cell_type": "code",
   "execution_count": 188,
   "id": "9c1e3466",
   "metadata": {},
   "outputs": [
    {
     "data": {
      "text/html": [
       "<div>\n",
       "<style scoped>\n",
       "    .dataframe tbody tr th:only-of-type {\n",
       "        vertical-align: middle;\n",
       "    }\n",
       "\n",
       "    .dataframe tbody tr th {\n",
       "        vertical-align: top;\n",
       "    }\n",
       "\n",
       "    .dataframe thead th {\n",
       "        text-align: right;\n",
       "    }\n",
       "</style>\n",
       "<table border=\"1\" class=\"dataframe\">\n",
       "  <thead>\n",
       "    <tr style=\"text-align: right;\">\n",
       "      <th></th>\n",
       "      <th>precio</th>\n",
       "      <th>fabricante</th>\n",
       "      <th>count</th>\n",
       "    </tr>\n",
       "    <tr>\n",
       "      <th>tipo</th>\n",
       "      <th></th>\n",
       "      <th></th>\n",
       "      <th></th>\n",
       "    </tr>\n",
       "  </thead>\n",
       "  <tbody>\n",
       "    <tr>\n",
       "      <th>SUV</th>\n",
       "      <td>9999</td>\n",
       "      <td>volvo</td>\n",
       "      <td>1</td>\n",
       "    </tr>\n",
       "    <tr>\n",
       "      <th>bus</th>\n",
       "      <td>6950</td>\n",
       "      <td>volkswagen</td>\n",
       "      <td>1</td>\n",
       "    </tr>\n",
       "    <tr>\n",
       "      <th>convertible</th>\n",
       "      <td>9999</td>\n",
       "      <td>volvo</td>\n",
       "      <td>1</td>\n",
       "    </tr>\n",
       "    <tr>\n",
       "      <th>coupe</th>\n",
       "      <td>9999</td>\n",
       "      <td>volvo</td>\n",
       "      <td>1</td>\n",
       "    </tr>\n",
       "    <tr>\n",
       "      <th>hatchback</th>\n",
       "      <td>9995</td>\n",
       "      <td>volvo</td>\n",
       "      <td>1</td>\n",
       "    </tr>\n",
       "  </tbody>\n",
       "</table>\n",
       "</div>"
      ],
      "text/plain": [
       "            precio  fabricante  count\n",
       "tipo                                 \n",
       "SUV           9999       volvo      1\n",
       "bus           6950  volkswagen      1\n",
       "convertible   9999       volvo      1\n",
       "coupe         9999       volvo      1\n",
       "hatchback     9995       volvo      1"
      ]
     },
     "execution_count": 188,
     "metadata": {},
     "output_type": "execute_result"
    }
   ],
   "source": [
    "df = df.dropna(subset=['fabricante'])\n",
    "df_grouped = df.groupby('tipo')[['precio','fabricante']].max()\n",
    "df_grouped['count'] = 1\n",
    "df_grouped.head()"
   ]
  },
  {
   "cell_type": "code",
   "execution_count": 189,
   "id": "d8f6a89c",
   "metadata": {},
   "outputs": [
    {
     "data": {
      "application/vnd.plotly.v1+json": {
       "config": {
        "plotlyServerURL": "https://plot.ly"
       },
       "data": [
        {
         "branchvalues": "total",
         "domain": {
          "x": [
           0,
           1
          ],
          "y": [
           0,
           1
          ]
         },
         "hovertemplate": "labels=%{label}<br>count=%{value}<br>parent=%{parent}<br>id=%{id}<extra></extra>",
         "ids": [
          "volkswagen/6950",
          "volkswagen/8800",
          "toyota/9995",
          "volvo/9995",
          "toyota/9999",
          "volkswagen/9999",
          "volvo/9999",
          "toyota",
          "volkswagen",
          "volvo"
         ],
         "labels": [
          "6950",
          "8800",
          "9995",
          "9995",
          "9999",
          "9999",
          "9999",
          "toyota",
          "volkswagen",
          "volvo"
         ],
         "name": "",
         "parents": [
          "volkswagen",
          "volkswagen",
          "toyota",
          "volvo",
          "toyota",
          "volkswagen",
          "volvo",
          "",
          "",
          ""
         ],
         "type": "treemap",
         "values": [
          1,
          1,
          1,
          1,
          1,
          1,
          7,
          2,
          3,
          8
         ]
        }
       ],
       "layout": {
        "legend": {
         "tracegroupgap": 0
        },
        "margin": {
         "t": 60
        },
        "template": {
         "data": {
          "bar": [
           {
            "error_x": {
             "color": "#2a3f5f"
            },
            "error_y": {
             "color": "#2a3f5f"
            },
            "marker": {
             "line": {
              "color": "#E5ECF6",
              "width": 0.5
             },
             "pattern": {
              "fillmode": "overlay",
              "size": 10,
              "solidity": 0.2
             }
            },
            "type": "bar"
           }
          ],
          "barpolar": [
           {
            "marker": {
             "line": {
              "color": "#E5ECF6",
              "width": 0.5
             },
             "pattern": {
              "fillmode": "overlay",
              "size": 10,
              "solidity": 0.2
             }
            },
            "type": "barpolar"
           }
          ],
          "carpet": [
           {
            "aaxis": {
             "endlinecolor": "#2a3f5f",
             "gridcolor": "white",
             "linecolor": "white",
             "minorgridcolor": "white",
             "startlinecolor": "#2a3f5f"
            },
            "baxis": {
             "endlinecolor": "#2a3f5f",
             "gridcolor": "white",
             "linecolor": "white",
             "minorgridcolor": "white",
             "startlinecolor": "#2a3f5f"
            },
            "type": "carpet"
           }
          ],
          "choropleth": [
           {
            "colorbar": {
             "outlinewidth": 0,
             "ticks": ""
            },
            "type": "choropleth"
           }
          ],
          "contour": [
           {
            "colorbar": {
             "outlinewidth": 0,
             "ticks": ""
            },
            "colorscale": [
             [
              0,
              "#0d0887"
             ],
             [
              0.1111111111111111,
              "#46039f"
             ],
             [
              0.2222222222222222,
              "#7201a8"
             ],
             [
              0.3333333333333333,
              "#9c179e"
             ],
             [
              0.4444444444444444,
              "#bd3786"
             ],
             [
              0.5555555555555556,
              "#d8576b"
             ],
             [
              0.6666666666666666,
              "#ed7953"
             ],
             [
              0.7777777777777778,
              "#fb9f3a"
             ],
             [
              0.8888888888888888,
              "#fdca26"
             ],
             [
              1,
              "#f0f921"
             ]
            ],
            "type": "contour"
           }
          ],
          "contourcarpet": [
           {
            "colorbar": {
             "outlinewidth": 0,
             "ticks": ""
            },
            "type": "contourcarpet"
           }
          ],
          "heatmap": [
           {
            "colorbar": {
             "outlinewidth": 0,
             "ticks": ""
            },
            "colorscale": [
             [
              0,
              "#0d0887"
             ],
             [
              0.1111111111111111,
              "#46039f"
             ],
             [
              0.2222222222222222,
              "#7201a8"
             ],
             [
              0.3333333333333333,
              "#9c179e"
             ],
             [
              0.4444444444444444,
              "#bd3786"
             ],
             [
              0.5555555555555556,
              "#d8576b"
             ],
             [
              0.6666666666666666,
              "#ed7953"
             ],
             [
              0.7777777777777778,
              "#fb9f3a"
             ],
             [
              0.8888888888888888,
              "#fdca26"
             ],
             [
              1,
              "#f0f921"
             ]
            ],
            "type": "heatmap"
           }
          ],
          "heatmapgl": [
           {
            "colorbar": {
             "outlinewidth": 0,
             "ticks": ""
            },
            "colorscale": [
             [
              0,
              "#0d0887"
             ],
             [
              0.1111111111111111,
              "#46039f"
             ],
             [
              0.2222222222222222,
              "#7201a8"
             ],
             [
              0.3333333333333333,
              "#9c179e"
             ],
             [
              0.4444444444444444,
              "#bd3786"
             ],
             [
              0.5555555555555556,
              "#d8576b"
             ],
             [
              0.6666666666666666,
              "#ed7953"
             ],
             [
              0.7777777777777778,
              "#fb9f3a"
             ],
             [
              0.8888888888888888,
              "#fdca26"
             ],
             [
              1,
              "#f0f921"
             ]
            ],
            "type": "heatmapgl"
           }
          ],
          "histogram": [
           {
            "marker": {
             "pattern": {
              "fillmode": "overlay",
              "size": 10,
              "solidity": 0.2
             }
            },
            "type": "histogram"
           }
          ],
          "histogram2d": [
           {
            "colorbar": {
             "outlinewidth": 0,
             "ticks": ""
            },
            "colorscale": [
             [
              0,
              "#0d0887"
             ],
             [
              0.1111111111111111,
              "#46039f"
             ],
             [
              0.2222222222222222,
              "#7201a8"
             ],
             [
              0.3333333333333333,
              "#9c179e"
             ],
             [
              0.4444444444444444,
              "#bd3786"
             ],
             [
              0.5555555555555556,
              "#d8576b"
             ],
             [
              0.6666666666666666,
              "#ed7953"
             ],
             [
              0.7777777777777778,
              "#fb9f3a"
             ],
             [
              0.8888888888888888,
              "#fdca26"
             ],
             [
              1,
              "#f0f921"
             ]
            ],
            "type": "histogram2d"
           }
          ],
          "histogram2dcontour": [
           {
            "colorbar": {
             "outlinewidth": 0,
             "ticks": ""
            },
            "colorscale": [
             [
              0,
              "#0d0887"
             ],
             [
              0.1111111111111111,
              "#46039f"
             ],
             [
              0.2222222222222222,
              "#7201a8"
             ],
             [
              0.3333333333333333,
              "#9c179e"
             ],
             [
              0.4444444444444444,
              "#bd3786"
             ],
             [
              0.5555555555555556,
              "#d8576b"
             ],
             [
              0.6666666666666666,
              "#ed7953"
             ],
             [
              0.7777777777777778,
              "#fb9f3a"
             ],
             [
              0.8888888888888888,
              "#fdca26"
             ],
             [
              1,
              "#f0f921"
             ]
            ],
            "type": "histogram2dcontour"
           }
          ],
          "mesh3d": [
           {
            "colorbar": {
             "outlinewidth": 0,
             "ticks": ""
            },
            "type": "mesh3d"
           }
          ],
          "parcoords": [
           {
            "line": {
             "colorbar": {
              "outlinewidth": 0,
              "ticks": ""
             }
            },
            "type": "parcoords"
           }
          ],
          "pie": [
           {
            "automargin": true,
            "type": "pie"
           }
          ],
          "scatter": [
           {
            "fillpattern": {
             "fillmode": "overlay",
             "size": 10,
             "solidity": 0.2
            },
            "type": "scatter"
           }
          ],
          "scatter3d": [
           {
            "line": {
             "colorbar": {
              "outlinewidth": 0,
              "ticks": ""
             }
            },
            "marker": {
             "colorbar": {
              "outlinewidth": 0,
              "ticks": ""
             }
            },
            "type": "scatter3d"
           }
          ],
          "scattercarpet": [
           {
            "marker": {
             "colorbar": {
              "outlinewidth": 0,
              "ticks": ""
             }
            },
            "type": "scattercarpet"
           }
          ],
          "scattergeo": [
           {
            "marker": {
             "colorbar": {
              "outlinewidth": 0,
              "ticks": ""
             }
            },
            "type": "scattergeo"
           }
          ],
          "scattergl": [
           {
            "marker": {
             "colorbar": {
              "outlinewidth": 0,
              "ticks": ""
             }
            },
            "type": "scattergl"
           }
          ],
          "scattermapbox": [
           {
            "marker": {
             "colorbar": {
              "outlinewidth": 0,
              "ticks": ""
             }
            },
            "type": "scattermapbox"
           }
          ],
          "scatterpolar": [
           {
            "marker": {
             "colorbar": {
              "outlinewidth": 0,
              "ticks": ""
             }
            },
            "type": "scatterpolar"
           }
          ],
          "scatterpolargl": [
           {
            "marker": {
             "colorbar": {
              "outlinewidth": 0,
              "ticks": ""
             }
            },
            "type": "scatterpolargl"
           }
          ],
          "scatterternary": [
           {
            "marker": {
             "colorbar": {
              "outlinewidth": 0,
              "ticks": ""
             }
            },
            "type": "scatterternary"
           }
          ],
          "surface": [
           {
            "colorbar": {
             "outlinewidth": 0,
             "ticks": ""
            },
            "colorscale": [
             [
              0,
              "#0d0887"
             ],
             [
              0.1111111111111111,
              "#46039f"
             ],
             [
              0.2222222222222222,
              "#7201a8"
             ],
             [
              0.3333333333333333,
              "#9c179e"
             ],
             [
              0.4444444444444444,
              "#bd3786"
             ],
             [
              0.5555555555555556,
              "#d8576b"
             ],
             [
              0.6666666666666666,
              "#ed7953"
             ],
             [
              0.7777777777777778,
              "#fb9f3a"
             ],
             [
              0.8888888888888888,
              "#fdca26"
             ],
             [
              1,
              "#f0f921"
             ]
            ],
            "type": "surface"
           }
          ],
          "table": [
           {
            "cells": {
             "fill": {
              "color": "#EBF0F8"
             },
             "line": {
              "color": "white"
             }
            },
            "header": {
             "fill": {
              "color": "#C8D4E3"
             },
             "line": {
              "color": "white"
             }
            },
            "type": "table"
           }
          ]
         },
         "layout": {
          "annotationdefaults": {
           "arrowcolor": "#2a3f5f",
           "arrowhead": 0,
           "arrowwidth": 1
          },
          "autotypenumbers": "strict",
          "coloraxis": {
           "colorbar": {
            "outlinewidth": 0,
            "ticks": ""
           }
          },
          "colorscale": {
           "diverging": [
            [
             0,
             "#8e0152"
            ],
            [
             0.1,
             "#c51b7d"
            ],
            [
             0.2,
             "#de77ae"
            ],
            [
             0.3,
             "#f1b6da"
            ],
            [
             0.4,
             "#fde0ef"
            ],
            [
             0.5,
             "#f7f7f7"
            ],
            [
             0.6,
             "#e6f5d0"
            ],
            [
             0.7,
             "#b8e186"
            ],
            [
             0.8,
             "#7fbc41"
            ],
            [
             0.9,
             "#4d9221"
            ],
            [
             1,
             "#276419"
            ]
           ],
           "sequential": [
            [
             0,
             "#0d0887"
            ],
            [
             0.1111111111111111,
             "#46039f"
            ],
            [
             0.2222222222222222,
             "#7201a8"
            ],
            [
             0.3333333333333333,
             "#9c179e"
            ],
            [
             0.4444444444444444,
             "#bd3786"
            ],
            [
             0.5555555555555556,
             "#d8576b"
            ],
            [
             0.6666666666666666,
             "#ed7953"
            ],
            [
             0.7777777777777778,
             "#fb9f3a"
            ],
            [
             0.8888888888888888,
             "#fdca26"
            ],
            [
             1,
             "#f0f921"
            ]
           ],
           "sequentialminus": [
            [
             0,
             "#0d0887"
            ],
            [
             0.1111111111111111,
             "#46039f"
            ],
            [
             0.2222222222222222,
             "#7201a8"
            ],
            [
             0.3333333333333333,
             "#9c179e"
            ],
            [
             0.4444444444444444,
             "#bd3786"
            ],
            [
             0.5555555555555556,
             "#d8576b"
            ],
            [
             0.6666666666666666,
             "#ed7953"
            ],
            [
             0.7777777777777778,
             "#fb9f3a"
            ],
            [
             0.8888888888888888,
             "#fdca26"
            ],
            [
             1,
             "#f0f921"
            ]
           ]
          },
          "colorway": [
           "#636efa",
           "#EF553B",
           "#00cc96",
           "#ab63fa",
           "#FFA15A",
           "#19d3f3",
           "#FF6692",
           "#B6E880",
           "#FF97FF",
           "#FECB52"
          ],
          "font": {
           "color": "#2a3f5f"
          },
          "geo": {
           "bgcolor": "white",
           "lakecolor": "white",
           "landcolor": "#E5ECF6",
           "showlakes": true,
           "showland": true,
           "subunitcolor": "white"
          },
          "hoverlabel": {
           "align": "left"
          },
          "hovermode": "closest",
          "mapbox": {
           "style": "light"
          },
          "paper_bgcolor": "white",
          "plot_bgcolor": "#E5ECF6",
          "polar": {
           "angularaxis": {
            "gridcolor": "white",
            "linecolor": "white",
            "ticks": ""
           },
           "bgcolor": "#E5ECF6",
           "radialaxis": {
            "gridcolor": "white",
            "linecolor": "white",
            "ticks": ""
           }
          },
          "scene": {
           "xaxis": {
            "backgroundcolor": "#E5ECF6",
            "gridcolor": "white",
            "gridwidth": 2,
            "linecolor": "white",
            "showbackground": true,
            "ticks": "",
            "zerolinecolor": "white"
           },
           "yaxis": {
            "backgroundcolor": "#E5ECF6",
            "gridcolor": "white",
            "gridwidth": 2,
            "linecolor": "white",
            "showbackground": true,
            "ticks": "",
            "zerolinecolor": "white"
           },
           "zaxis": {
            "backgroundcolor": "#E5ECF6",
            "gridcolor": "white",
            "gridwidth": 2,
            "linecolor": "white",
            "showbackground": true,
            "ticks": "",
            "zerolinecolor": "white"
           }
          },
          "shapedefaults": {
           "line": {
            "color": "#2a3f5f"
           }
          },
          "ternary": {
           "aaxis": {
            "gridcolor": "white",
            "linecolor": "white",
            "ticks": ""
           },
           "baxis": {
            "gridcolor": "white",
            "linecolor": "white",
            "ticks": ""
           },
           "bgcolor": "#E5ECF6",
           "caxis": {
            "gridcolor": "white",
            "linecolor": "white",
            "ticks": ""
           }
          },
          "title": {
           "x": 0.05
          },
          "xaxis": {
           "automargin": true,
           "gridcolor": "white",
           "linecolor": "white",
           "ticks": "",
           "title": {
            "standoff": 15
           },
           "zerolinecolor": "white",
           "zerolinewidth": 2
          },
          "yaxis": {
           "automargin": true,
           "gridcolor": "white",
           "linecolor": "white",
           "ticks": "",
           "title": {
            "standoff": 15
           },
           "zerolinecolor": "white",
           "zerolinewidth": 2
          }
         }
        }
       }
      },
      "text/html": [
       "<div>                            <div id=\"5af0689c-fe5d-4dd2-b8b6-766c4e0be9e8\" class=\"plotly-graph-div\" style=\"height:525px; width:100%;\"></div>            <script type=\"text/javascript\">                require([\"plotly\"], function(Plotly) {                    window.PLOTLYENV=window.PLOTLYENV || {};                                    if (document.getElementById(\"5af0689c-fe5d-4dd2-b8b6-766c4e0be9e8\")) {                    Plotly.newPlot(                        \"5af0689c-fe5d-4dd2-b8b6-766c4e0be9e8\",                        [{\"branchvalues\":\"total\",\"domain\":{\"x\":[0.0,1.0],\"y\":[0.0,1.0]},\"hovertemplate\":\"labels=%{label}<br>count=%{value}<br>parent=%{parent}<br>id=%{id}<extra></extra>\",\"ids\":[\"volkswagen/6950\",\"volkswagen/8800\",\"toyota/9995\",\"volvo/9995\",\"toyota/9999\",\"volkswagen/9999\",\"volvo/9999\",\"toyota\",\"volkswagen\",\"volvo\"],\"labels\":[\"6950\",\"8800\",\"9995\",\"9995\",\"9999\",\"9999\",\"9999\",\"toyota\",\"volkswagen\",\"volvo\"],\"name\":\"\",\"parents\":[\"volkswagen\",\"volkswagen\",\"toyota\",\"volvo\",\"toyota\",\"volkswagen\",\"volvo\",\"\",\"\",\"\"],\"values\":[1,1,1,1,1,1,7,2,3,8],\"type\":\"treemap\"}],                        {\"template\":{\"data\":{\"histogram2dcontour\":[{\"type\":\"histogram2dcontour\",\"colorbar\":{\"outlinewidth\":0,\"ticks\":\"\"},\"colorscale\":[[0.0,\"#0d0887\"],[0.1111111111111111,\"#46039f\"],[0.2222222222222222,\"#7201a8\"],[0.3333333333333333,\"#9c179e\"],[0.4444444444444444,\"#bd3786\"],[0.5555555555555556,\"#d8576b\"],[0.6666666666666666,\"#ed7953\"],[0.7777777777777778,\"#fb9f3a\"],[0.8888888888888888,\"#fdca26\"],[1.0,\"#f0f921\"]]}],\"choropleth\":[{\"type\":\"choropleth\",\"colorbar\":{\"outlinewidth\":0,\"ticks\":\"\"}}],\"histogram2d\":[{\"type\":\"histogram2d\",\"colorbar\":{\"outlinewidth\":0,\"ticks\":\"\"},\"colorscale\":[[0.0,\"#0d0887\"],[0.1111111111111111,\"#46039f\"],[0.2222222222222222,\"#7201a8\"],[0.3333333333333333,\"#9c179e\"],[0.4444444444444444,\"#bd3786\"],[0.5555555555555556,\"#d8576b\"],[0.6666666666666666,\"#ed7953\"],[0.7777777777777778,\"#fb9f3a\"],[0.8888888888888888,\"#fdca26\"],[1.0,\"#f0f921\"]]}],\"heatmap\":[{\"type\":\"heatmap\",\"colorbar\":{\"outlinewidth\":0,\"ticks\":\"\"},\"colorscale\":[[0.0,\"#0d0887\"],[0.1111111111111111,\"#46039f\"],[0.2222222222222222,\"#7201a8\"],[0.3333333333333333,\"#9c179e\"],[0.4444444444444444,\"#bd3786\"],[0.5555555555555556,\"#d8576b\"],[0.6666666666666666,\"#ed7953\"],[0.7777777777777778,\"#fb9f3a\"],[0.8888888888888888,\"#fdca26\"],[1.0,\"#f0f921\"]]}],\"heatmapgl\":[{\"type\":\"heatmapgl\",\"colorbar\":{\"outlinewidth\":0,\"ticks\":\"\"},\"colorscale\":[[0.0,\"#0d0887\"],[0.1111111111111111,\"#46039f\"],[0.2222222222222222,\"#7201a8\"],[0.3333333333333333,\"#9c179e\"],[0.4444444444444444,\"#bd3786\"],[0.5555555555555556,\"#d8576b\"],[0.6666666666666666,\"#ed7953\"],[0.7777777777777778,\"#fb9f3a\"],[0.8888888888888888,\"#fdca26\"],[1.0,\"#f0f921\"]]}],\"contourcarpet\":[{\"type\":\"contourcarpet\",\"colorbar\":{\"outlinewidth\":0,\"ticks\":\"\"}}],\"contour\":[{\"type\":\"contour\",\"colorbar\":{\"outlinewidth\":0,\"ticks\":\"\"},\"colorscale\":[[0.0,\"#0d0887\"],[0.1111111111111111,\"#46039f\"],[0.2222222222222222,\"#7201a8\"],[0.3333333333333333,\"#9c179e\"],[0.4444444444444444,\"#bd3786\"],[0.5555555555555556,\"#d8576b\"],[0.6666666666666666,\"#ed7953\"],[0.7777777777777778,\"#fb9f3a\"],[0.8888888888888888,\"#fdca26\"],[1.0,\"#f0f921\"]]}],\"surface\":[{\"type\":\"surface\",\"colorbar\":{\"outlinewidth\":0,\"ticks\":\"\"},\"colorscale\":[[0.0,\"#0d0887\"],[0.1111111111111111,\"#46039f\"],[0.2222222222222222,\"#7201a8\"],[0.3333333333333333,\"#9c179e\"],[0.4444444444444444,\"#bd3786\"],[0.5555555555555556,\"#d8576b\"],[0.6666666666666666,\"#ed7953\"],[0.7777777777777778,\"#fb9f3a\"],[0.8888888888888888,\"#fdca26\"],[1.0,\"#f0f921\"]]}],\"mesh3d\":[{\"type\":\"mesh3d\",\"colorbar\":{\"outlinewidth\":0,\"ticks\":\"\"}}],\"scatter\":[{\"fillpattern\":{\"fillmode\":\"overlay\",\"size\":10,\"solidity\":0.2},\"type\":\"scatter\"}],\"parcoords\":[{\"type\":\"parcoords\",\"line\":{\"colorbar\":{\"outlinewidth\":0,\"ticks\":\"\"}}}],\"scatterpolargl\":[{\"type\":\"scatterpolargl\",\"marker\":{\"colorbar\":{\"outlinewidth\":0,\"ticks\":\"\"}}}],\"bar\":[{\"error_x\":{\"color\":\"#2a3f5f\"},\"error_y\":{\"color\":\"#2a3f5f\"},\"marker\":{\"line\":{\"color\":\"#E5ECF6\",\"width\":0.5},\"pattern\":{\"fillmode\":\"overlay\",\"size\":10,\"solidity\":0.2}},\"type\":\"bar\"}],\"scattergeo\":[{\"type\":\"scattergeo\",\"marker\":{\"colorbar\":{\"outlinewidth\":0,\"ticks\":\"\"}}}],\"scatterpolar\":[{\"type\":\"scatterpolar\",\"marker\":{\"colorbar\":{\"outlinewidth\":0,\"ticks\":\"\"}}}],\"histogram\":[{\"marker\":{\"pattern\":{\"fillmode\":\"overlay\",\"size\":10,\"solidity\":0.2}},\"type\":\"histogram\"}],\"scattergl\":[{\"type\":\"scattergl\",\"marker\":{\"colorbar\":{\"outlinewidth\":0,\"ticks\":\"\"}}}],\"scatter3d\":[{\"type\":\"scatter3d\",\"line\":{\"colorbar\":{\"outlinewidth\":0,\"ticks\":\"\"}},\"marker\":{\"colorbar\":{\"outlinewidth\":0,\"ticks\":\"\"}}}],\"scattermapbox\":[{\"type\":\"scattermapbox\",\"marker\":{\"colorbar\":{\"outlinewidth\":0,\"ticks\":\"\"}}}],\"scatterternary\":[{\"type\":\"scatterternary\",\"marker\":{\"colorbar\":{\"outlinewidth\":0,\"ticks\":\"\"}}}],\"scattercarpet\":[{\"type\":\"scattercarpet\",\"marker\":{\"colorbar\":{\"outlinewidth\":0,\"ticks\":\"\"}}}],\"carpet\":[{\"aaxis\":{\"endlinecolor\":\"#2a3f5f\",\"gridcolor\":\"white\",\"linecolor\":\"white\",\"minorgridcolor\":\"white\",\"startlinecolor\":\"#2a3f5f\"},\"baxis\":{\"endlinecolor\":\"#2a3f5f\",\"gridcolor\":\"white\",\"linecolor\":\"white\",\"minorgridcolor\":\"white\",\"startlinecolor\":\"#2a3f5f\"},\"type\":\"carpet\"}],\"table\":[{\"cells\":{\"fill\":{\"color\":\"#EBF0F8\"},\"line\":{\"color\":\"white\"}},\"header\":{\"fill\":{\"color\":\"#C8D4E3\"},\"line\":{\"color\":\"white\"}},\"type\":\"table\"}],\"barpolar\":[{\"marker\":{\"line\":{\"color\":\"#E5ECF6\",\"width\":0.5},\"pattern\":{\"fillmode\":\"overlay\",\"size\":10,\"solidity\":0.2}},\"type\":\"barpolar\"}],\"pie\":[{\"automargin\":true,\"type\":\"pie\"}]},\"layout\":{\"autotypenumbers\":\"strict\",\"colorway\":[\"#636efa\",\"#EF553B\",\"#00cc96\",\"#ab63fa\",\"#FFA15A\",\"#19d3f3\",\"#FF6692\",\"#B6E880\",\"#FF97FF\",\"#FECB52\"],\"font\":{\"color\":\"#2a3f5f\"},\"hovermode\":\"closest\",\"hoverlabel\":{\"align\":\"left\"},\"paper_bgcolor\":\"white\",\"plot_bgcolor\":\"#E5ECF6\",\"polar\":{\"bgcolor\":\"#E5ECF6\",\"angularaxis\":{\"gridcolor\":\"white\",\"linecolor\":\"white\",\"ticks\":\"\"},\"radialaxis\":{\"gridcolor\":\"white\",\"linecolor\":\"white\",\"ticks\":\"\"}},\"ternary\":{\"bgcolor\":\"#E5ECF6\",\"aaxis\":{\"gridcolor\":\"white\",\"linecolor\":\"white\",\"ticks\":\"\"},\"baxis\":{\"gridcolor\":\"white\",\"linecolor\":\"white\",\"ticks\":\"\"},\"caxis\":{\"gridcolor\":\"white\",\"linecolor\":\"white\",\"ticks\":\"\"}},\"coloraxis\":{\"colorbar\":{\"outlinewidth\":0,\"ticks\":\"\"}},\"colorscale\":{\"sequential\":[[0.0,\"#0d0887\"],[0.1111111111111111,\"#46039f\"],[0.2222222222222222,\"#7201a8\"],[0.3333333333333333,\"#9c179e\"],[0.4444444444444444,\"#bd3786\"],[0.5555555555555556,\"#d8576b\"],[0.6666666666666666,\"#ed7953\"],[0.7777777777777778,\"#fb9f3a\"],[0.8888888888888888,\"#fdca26\"],[1.0,\"#f0f921\"]],\"sequentialminus\":[[0.0,\"#0d0887\"],[0.1111111111111111,\"#46039f\"],[0.2222222222222222,\"#7201a8\"],[0.3333333333333333,\"#9c179e\"],[0.4444444444444444,\"#bd3786\"],[0.5555555555555556,\"#d8576b\"],[0.6666666666666666,\"#ed7953\"],[0.7777777777777778,\"#fb9f3a\"],[0.8888888888888888,\"#fdca26\"],[1.0,\"#f0f921\"]],\"diverging\":[[0,\"#8e0152\"],[0.1,\"#c51b7d\"],[0.2,\"#de77ae\"],[0.3,\"#f1b6da\"],[0.4,\"#fde0ef\"],[0.5,\"#f7f7f7\"],[0.6,\"#e6f5d0\"],[0.7,\"#b8e186\"],[0.8,\"#7fbc41\"],[0.9,\"#4d9221\"],[1,\"#276419\"]]},\"xaxis\":{\"gridcolor\":\"white\",\"linecolor\":\"white\",\"ticks\":\"\",\"title\":{\"standoff\":15},\"zerolinecolor\":\"white\",\"automargin\":true,\"zerolinewidth\":2},\"yaxis\":{\"gridcolor\":\"white\",\"linecolor\":\"white\",\"ticks\":\"\",\"title\":{\"standoff\":15},\"zerolinecolor\":\"white\",\"automargin\":true,\"zerolinewidth\":2},\"scene\":{\"xaxis\":{\"backgroundcolor\":\"#E5ECF6\",\"gridcolor\":\"white\",\"linecolor\":\"white\",\"showbackground\":true,\"ticks\":\"\",\"zerolinecolor\":\"white\",\"gridwidth\":2},\"yaxis\":{\"backgroundcolor\":\"#E5ECF6\",\"gridcolor\":\"white\",\"linecolor\":\"white\",\"showbackground\":true,\"ticks\":\"\",\"zerolinecolor\":\"white\",\"gridwidth\":2},\"zaxis\":{\"backgroundcolor\":\"#E5ECF6\",\"gridcolor\":\"white\",\"linecolor\":\"white\",\"showbackground\":true,\"ticks\":\"\",\"zerolinecolor\":\"white\",\"gridwidth\":2}},\"shapedefaults\":{\"line\":{\"color\":\"#2a3f5f\"}},\"annotationdefaults\":{\"arrowcolor\":\"#2a3f5f\",\"arrowhead\":0,\"arrowwidth\":1},\"geo\":{\"bgcolor\":\"white\",\"landcolor\":\"#E5ECF6\",\"subunitcolor\":\"white\",\"showland\":true,\"showlakes\":true,\"lakecolor\":\"white\"},\"title\":{\"x\":0.05},\"mapbox\":{\"style\":\"light\"}}},\"legend\":{\"tracegroupgap\":0},\"margin\":{\"t\":60}},                        {\"responsive\": true}                    ).then(function(){\n",
       "                            \n",
       "var gd = document.getElementById('5af0689c-fe5d-4dd2-b8b6-766c4e0be9e8');\n",
       "var x = new MutationObserver(function (mutations, observer) {{\n",
       "        var display = window.getComputedStyle(gd).display;\n",
       "        if (!display || display === 'none') {{\n",
       "            console.log([gd, 'removed!']);\n",
       "            Plotly.purge(gd);\n",
       "            observer.disconnect();\n",
       "        }}\n",
       "}});\n",
       "\n",
       "// Listen for the removal of the full notebook cells\n",
       "var notebookContainer = gd.closest('#notebook-container');\n",
       "if (notebookContainer) {{\n",
       "    x.observe(notebookContainer, {childList: true});\n",
       "}}\n",
       "\n",
       "// Listen for the clearing of the current output cell\n",
       "var outputEl = gd.closest('.output');\n",
       "if (outputEl) {{\n",
       "    x.observe(outputEl, {childList: true});\n",
       "}}\n",
       "\n",
       "                        })                };                });            </script>        </div>"
      ]
     },
     "metadata": {},
     "output_type": "display_data"
    }
   ],
   "source": [
    "\n",
    "fig = px.treemap(df_grouped, path=['fabricante', 'precio'], values='count')\n",
    "fig.show()"
   ]
  },
  {
   "cell_type": "markdown",
   "id": "f2714f83",
   "metadata": {},
   "source": [
    "### Scatterplots por categorías\n",
    ">Los scatterplots o gráficas de dispersión"
   ]
  },
  {
   "cell_type": "code",
   "execution_count": 190,
   "id": "efa23260",
   "metadata": {},
   "outputs": [],
   "source": [
    "import pandas as pd\n",
    "import seaborn as sns\n",
    "import matplotlib.pyplot as plt"
   ]
  },
  {
   "cell_type": "code",
   "execution_count": 191,
   "id": "78bae64f",
   "metadata": {},
   "outputs": [
    {
     "data": {
      "text/html": [
       "<div>\n",
       "<style scoped>\n",
       "    .dataframe tbody tr th:only-of-type {\n",
       "        vertical-align: middle;\n",
       "    }\n",
       "\n",
       "    .dataframe tbody tr th {\n",
       "        vertical-align: top;\n",
       "    }\n",
       "\n",
       "    .dataframe thead th {\n",
       "        text-align: right;\n",
       "    }\n",
       "</style>\n",
       "<table border=\"1\" class=\"dataframe\">\n",
       "  <thead>\n",
       "    <tr style=\"text-align: right;\">\n",
       "      <th></th>\n",
       "      <th>precio</th>\n",
       "      <th>anio</th>\n",
       "      <th>modelo</th>\n",
       "      <th>tipo</th>\n",
       "    </tr>\n",
       "    <tr>\n",
       "      <th>fabricante</th>\n",
       "      <th></th>\n",
       "      <th></th>\n",
       "      <th></th>\n",
       "      <th></th>\n",
       "    </tr>\n",
       "  </thead>\n",
       "  <tbody>\n",
       "    <tr>\n",
       "      <th>acura</th>\n",
       "      <td>9999</td>\n",
       "      <td>2021</td>\n",
       "      <td>tsx wagon 4d</td>\n",
       "      <td>wagon</td>\n",
       "    </tr>\n",
       "    <tr>\n",
       "      <th>alfa-romeo</th>\n",
       "      <td>9000</td>\n",
       "      <td>2020</td>\n",
       "      <td>romeo stelvio ti sport suv</td>\n",
       "      <td>sedan</td>\n",
       "    </tr>\n",
       "    <tr>\n",
       "      <th>audi</th>\n",
       "      <td>9000</td>\n",
       "      <td>2020</td>\n",
       "      <td>tt1.8t convertible</td>\n",
       "      <td>wagon</td>\n",
       "    </tr>\n",
       "    <tr>\n",
       "      <th>bmw</th>\n",
       "      <td>9999</td>\n",
       "      <td>2020</td>\n",
       "      <td>z4 sdrive35is roadster 2d</td>\n",
       "      <td>wagon</td>\n",
       "    </tr>\n",
       "    <tr>\n",
       "      <th>buick</th>\n",
       "      <td>9995</td>\n",
       "      <td>2021</td>\n",
       "      <td>verrano</td>\n",
       "      <td>wagon</td>\n",
       "    </tr>\n",
       "    <tr>\n",
       "      <th>cadillac</th>\n",
       "      <td>9995</td>\n",
       "      <td>2020</td>\n",
       "      <td>xts platinum</td>\n",
       "      <td>wagon</td>\n",
       "    </tr>\n",
       "    <tr>\n",
       "      <th>chevrolet</th>\n",
       "      <td>9999</td>\n",
       "      <td>2021</td>\n",
       "      <td>volt sedan 4d</td>\n",
       "      <td>wagon</td>\n",
       "    </tr>\n",
       "    <tr>\n",
       "      <th>chrysler</th>\n",
       "      <td>9995</td>\n",
       "      <td>2020</td>\n",
       "      <td>windsor deluxe</td>\n",
       "      <td>wagon</td>\n",
       "    </tr>\n",
       "    <tr>\n",
       "      <th>datsun</th>\n",
       "      <td>19250</td>\n",
       "      <td>1980</td>\n",
       "      <td>280zx</td>\n",
       "      <td>hatchback</td>\n",
       "    </tr>\n",
       "    <tr>\n",
       "      <th>dodge</th>\n",
       "      <td>9999</td>\n",
       "      <td>2020</td>\n",
       "      <td>w300 powerwagon</td>\n",
       "      <td>wagon</td>\n",
       "    </tr>\n",
       "    <tr>\n",
       "      <th>ferrari</th>\n",
       "      <td>98900</td>\n",
       "      <td>2018</td>\n",
       "      <td>488 spider</td>\n",
       "      <td>coupe</td>\n",
       "    </tr>\n",
       "    <tr>\n",
       "      <th>fiat</th>\n",
       "      <td>9990</td>\n",
       "      <td>2019</td>\n",
       "      <td>spider</td>\n",
       "      <td>wagon</td>\n",
       "    </tr>\n",
       "    <tr>\n",
       "      <th>ford</th>\n",
       "      <td>9999</td>\n",
       "      <td>2021</td>\n",
       "      <td>windstar se</td>\n",
       "      <td>wagon</td>\n",
       "    </tr>\n",
       "    <tr>\n",
       "      <th>gmc</th>\n",
       "      <td>9999</td>\n",
       "      <td>2021</td>\n",
       "      <td>yukon xl slt automatic</td>\n",
       "      <td>wagon</td>\n",
       "    </tr>\n",
       "    <tr>\n",
       "      <th>harley-davidson</th>\n",
       "      <td>22800</td>\n",
       "      <td>2015</td>\n",
       "      <td>davidson road glide</td>\n",
       "      <td>truck</td>\n",
       "    </tr>\n",
       "    <tr>\n",
       "      <th>honda</th>\n",
       "      <td>9999</td>\n",
       "      <td>2021</td>\n",
       "      <td>s2000</td>\n",
       "      <td>wagon</td>\n",
       "    </tr>\n",
       "    <tr>\n",
       "      <th>hyundai</th>\n",
       "      <td>9999</td>\n",
       "      <td>2021</td>\n",
       "      <td>xg350l</td>\n",
       "      <td>wagon</td>\n",
       "    </tr>\n",
       "    <tr>\n",
       "      <th>infiniti</th>\n",
       "      <td>9995</td>\n",
       "      <td>2020</td>\n",
       "      <td>qx80 limited sport</td>\n",
       "      <td>wagon</td>\n",
       "    </tr>\n",
       "    <tr>\n",
       "      <th>jaguar</th>\n",
       "      <td>9950</td>\n",
       "      <td>2020</td>\n",
       "      <td>xk8 convertible</td>\n",
       "      <td>sedan</td>\n",
       "    </tr>\n",
       "    <tr>\n",
       "      <th>jeep</th>\n",
       "      <td>9999</td>\n",
       "      <td>2021</td>\n",
       "      <td>xj cherokee sport</td>\n",
       "      <td>wagon</td>\n",
       "    </tr>\n",
       "    <tr>\n",
       "      <th>kia</th>\n",
       "      <td>9995</td>\n",
       "      <td>2021</td>\n",
       "      <td>telluride lx sport utility</td>\n",
       "      <td>wagon</td>\n",
       "    </tr>\n",
       "    <tr>\n",
       "      <th>lexus</th>\n",
       "      <td>9999</td>\n",
       "      <td>2020</td>\n",
       "      <td>ux 250h sport utility 4d</td>\n",
       "      <td>wagon</td>\n",
       "    </tr>\n",
       "    <tr>\n",
       "      <th>lincoln</th>\n",
       "      <td>9995</td>\n",
       "      <td>2020</td>\n",
       "      <td>zephyr</td>\n",
       "      <td>truck</td>\n",
       "    </tr>\n",
       "    <tr>\n",
       "      <th>mazda</th>\n",
       "      <td>9999</td>\n",
       "      <td>2020</td>\n",
       "      <td>tribute i grand touring</td>\n",
       "      <td>wagon</td>\n",
       "    </tr>\n",
       "    <tr>\n",
       "      <th>mercedes-benz</th>\n",
       "      <td>9999</td>\n",
       "      <td>2021</td>\n",
       "      <td>slk350</td>\n",
       "      <td>wagon</td>\n",
       "    </tr>\n",
       "    <tr>\n",
       "      <th>mercury</th>\n",
       "      <td>9000</td>\n",
       "      <td>2010</td>\n",
       "      <td>villager estate edition</td>\n",
       "      <td>wagon</td>\n",
       "    </tr>\n",
       "    <tr>\n",
       "      <th>mini</th>\n",
       "      <td>9995</td>\n",
       "      <td>2020</td>\n",
       "      <td>van</td>\n",
       "      <td>wagon</td>\n",
       "    </tr>\n",
       "    <tr>\n",
       "      <th>mitsubishi</th>\n",
       "      <td>9995</td>\n",
       "      <td>2020</td>\n",
       "      <td>outlander sport se</td>\n",
       "      <td>wagon</td>\n",
       "    </tr>\n",
       "    <tr>\n",
       "      <th>nissan</th>\n",
       "      <td>9999</td>\n",
       "      <td>2021</td>\n",
       "      <td>xterra xe v6 4dr 4wd suv</td>\n",
       "      <td>wagon</td>\n",
       "    </tr>\n",
       "    <tr>\n",
       "      <th>pontiac</th>\n",
       "      <td>9500</td>\n",
       "      <td>2010</td>\n",
       "      <td>vibe sport wagon</td>\n",
       "      <td>wagon</td>\n",
       "    </tr>\n",
       "    <tr>\n",
       "      <th>porsche</th>\n",
       "      <td>98995</td>\n",
       "      <td>2020</td>\n",
       "      <td>panamera turbo</td>\n",
       "      <td>other</td>\n",
       "    </tr>\n",
       "    <tr>\n",
       "      <th>ram</th>\n",
       "      <td>9999</td>\n",
       "      <td>2021</td>\n",
       "      <td>titan</td>\n",
       "      <td>wagon</td>\n",
       "    </tr>\n",
       "    <tr>\n",
       "      <th>rover</th>\n",
       "      <td>998</td>\n",
       "      <td>2020</td>\n",
       "      <td>velar</td>\n",
       "      <td>other</td>\n",
       "    </tr>\n",
       "    <tr>\n",
       "      <th>saturn</th>\n",
       "      <td>750</td>\n",
       "      <td>2009</td>\n",
       "      <td>vue redline</td>\n",
       "      <td>wagon</td>\n",
       "    </tr>\n",
       "    <tr>\n",
       "      <th>subaru</th>\n",
       "      <td>9999</td>\n",
       "      <td>2021</td>\n",
       "      <td>xv crosstrek premium</td>\n",
       "      <td>wagon</td>\n",
       "    </tr>\n",
       "    <tr>\n",
       "      <th>tesla</th>\n",
       "      <td>63995</td>\n",
       "      <td>2019</td>\n",
       "      <td>x p90d</td>\n",
       "      <td>sedan</td>\n",
       "    </tr>\n",
       "    <tr>\n",
       "      <th>toyota</th>\n",
       "      <td>9999</td>\n",
       "      <td>2021</td>\n",
       "      <td>yaris se hatchback sedan</td>\n",
       "      <td>wagon</td>\n",
       "    </tr>\n",
       "    <tr>\n",
       "      <th>volkswagen</th>\n",
       "      <td>9999</td>\n",
       "      <td>2020</td>\n",
       "      <td>vanagon westfalia</td>\n",
       "      <td>wagon</td>\n",
       "    </tr>\n",
       "    <tr>\n",
       "      <th>volvo</th>\n",
       "      <td>9995</td>\n",
       "      <td>2021</td>\n",
       "      <td>xc90 t6 momentum sport</td>\n",
       "      <td>wagon</td>\n",
       "    </tr>\n",
       "  </tbody>\n",
       "</table>\n",
       "</div>"
      ],
      "text/plain": [
       "                precio  anio                      modelo       tipo\n",
       "fabricante                                                         \n",
       "acura             9999  2021                tsx wagon 4d      wagon\n",
       "alfa-romeo        9000  2020  romeo stelvio ti sport suv      sedan\n",
       "audi              9000  2020          tt1.8t convertible      wagon\n",
       "bmw               9999  2020   z4 sdrive35is roadster 2d      wagon\n",
       "buick             9995  2021                     verrano      wagon\n",
       "cadillac          9995  2020                xts platinum      wagon\n",
       "chevrolet         9999  2021               volt sedan 4d      wagon\n",
       "chrysler          9995  2020              windsor deluxe      wagon\n",
       "datsun           19250  1980                       280zx  hatchback\n",
       "dodge             9999  2020             w300 powerwagon      wagon\n",
       "ferrari          98900  2018                  488 spider      coupe\n",
       "fiat              9990  2019                      spider      wagon\n",
       "ford              9999  2021                 windstar se      wagon\n",
       "gmc               9999  2021      yukon xl slt automatic      wagon\n",
       "harley-davidson  22800  2015         davidson road glide      truck\n",
       "honda             9999  2021                       s2000      wagon\n",
       "hyundai           9999  2021                      xg350l      wagon\n",
       "infiniti          9995  2020          qx80 limited sport      wagon\n",
       "jaguar            9950  2020             xk8 convertible      sedan\n",
       "jeep              9999  2021           xj cherokee sport      wagon\n",
       "kia               9995  2021  telluride lx sport utility      wagon\n",
       "lexus             9999  2020    ux 250h sport utility 4d      wagon\n",
       "lincoln           9995  2020                      zephyr      truck\n",
       "mazda             9999  2020     tribute i grand touring      wagon\n",
       "mercedes-benz     9999  2021                      slk350      wagon\n",
       "mercury           9000  2010     villager estate edition      wagon\n",
       "mini              9995  2020                         van      wagon\n",
       "mitsubishi        9995  2020          outlander sport se      wagon\n",
       "nissan            9999  2021    xterra xe v6 4dr 4wd suv      wagon\n",
       "pontiac           9500  2010            vibe sport wagon      wagon\n",
       "porsche          98995  2020              panamera turbo      other\n",
       "ram               9999  2021                       titan      wagon\n",
       "rover              998  2020                       velar      other\n",
       "saturn             750  2009                 vue redline      wagon\n",
       "subaru            9999  2021        xv crosstrek premium      wagon\n",
       "tesla            63995  2019                      x p90d      sedan\n",
       "toyota            9999  2021    yaris se hatchback sedan      wagon\n",
       "volkswagen        9999  2020           vanagon westfalia      wagon\n",
       "volvo             9995  2021      xc90 t6 momentum sport      wagon"
      ]
     },
     "execution_count": 191,
     "metadata": {},
     "output_type": "execute_result"
    }
   ],
   "source": [
    "df = df.dropna(subset=['fabricante'])\n",
    "df = df.dropna(subset=['anio'])\n",
    "df = df.dropna(subset=['precio'])\n",
    "df = df.dropna(subset=['modelo'])\n",
    "df = df.dropna(subset=['tipo'])\n",
    "\n",
    "df_grouped = df.groupby('fabricante')[['precio','anio','modelo','tipo']].max()\n",
    "df_grouped"
   ]
  },
  {
   "cell_type": "code",
   "execution_count": 192,
   "id": "247cd333",
   "metadata": {},
   "outputs": [
    {
     "data": {
      "image/png": "[encoded data removed]",
      "text/plain": [
       "<Figure size 432x288 with 1 Axes>"
      ]
     },
     "metadata": {},
     "output_type": "display_data"
    }
   ],
   "source": [
    "sns.scatterplot(x=df_grouped['tipo'], y=df_grouped['anio']);"
   ]
  },
  {
   "cell_type": "code",
   "execution_count": 193,
   "id": "a03fc375",
   "metadata": {},
   "outputs": [
    {
     "data": {
      "text/plain": [
       "sedan          958\n",
       "SUV            602\n",
       "other          426\n",
       "pickup         381\n",
       "truck          331\n",
       "hatchback      251\n",
       "coupe          186\n",
       "wagon          165\n",
       "van            125\n",
       "convertible    109\n",
       "mini-van        34\n",
       "offroad         15\n",
       "bus              5\n",
       "Name: tipo, dtype: int64"
      ]
     },
     "execution_count": 193,
     "metadata": {},
     "output_type": "execute_result"
    }
   ],
   "source": [
    "\n",
    "df_grouped = df.groupby('modelo')[['precio','anio','fabricante','tipo']].max()\n",
    "df_filter = df_grouped\n",
    "value_counts_all = df_filter['tipo'].value_counts()\n",
    "value_counts_all"
   ]
  },
  {
   "cell_type": "code",
   "execution_count": 194,
   "id": "33ec95c3",
   "metadata": {},
   "outputs": [
    {
     "data": {
      "image/png": "[encoded data removed]",
      "text/plain": [
       "<Figure size 432x288 with 1 Axes>"
      ]
     },
     "metadata": {},
     "output_type": "display_data"
    }
   ],
   "source": [
    "fig = plt.figure()\n",
    "ax = fig.add_subplot()\n",
    "\n",
    "sns.barplot(x=value_counts_all, y=value_counts_all.index, ax=ax, palette='Blues');\n",
    "\n",
    "ax.set_ylabel('count')\n",
    "ax.set_title('Conteo de frecuencia de automoviles', fontsize=13, pad=10);"
   ]
  },
  {
   "cell_type": "code",
   "execution_count": 195,
   "id": "578221d9",
   "metadata": {},
   "outputs": [
    {
     "data": {
      "text/html": [
       "<div>\n",
       "<style scoped>\n",
       "    .dataframe tbody tr th:only-of-type {\n",
       "        vertical-align: middle;\n",
       "    }\n",
       "\n",
       "    .dataframe tbody tr th {\n",
       "        vertical-align: top;\n",
       "    }\n",
       "\n",
       "    .dataframe thead th {\n",
       "        text-align: right;\n",
       "    }\n",
       "</style>\n",
       "<table border=\"1\" class=\"dataframe\">\n",
       "  <thead>\n",
       "    <tr style=\"text-align: right;\">\n",
       "      <th></th>\n",
       "      <th>precio</th>\n",
       "      <th>anio</th>\n",
       "      <th>fabricante</th>\n",
       "      <th>tipo</th>\n",
       "      <th>count</th>\n",
       "    </tr>\n",
       "    <tr>\n",
       "      <th>modelo</th>\n",
       "      <th></th>\n",
       "      <th></th>\n",
       "      <th></th>\n",
       "      <th></th>\n",
       "      <th></th>\n",
       "    </tr>\n",
       "  </thead>\n",
       "  <tbody>\n",
       "    <tr>\n",
       "      <th>1 series 128i convertible 2d</th>\n",
       "      <td>15990</td>\n",
       "      <td>2011</td>\n",
       "      <td>bmw</td>\n",
       "      <td>convertible</td>\n",
       "      <td>1</td>\n",
       "    </tr>\n",
       "    <tr>\n",
       "      <th>1 series 128i coupe 2d</th>\n",
       "      <td>14590</td>\n",
       "      <td>2012</td>\n",
       "      <td>bmw</td>\n",
       "      <td>coupe</td>\n",
       "      <td>1</td>\n",
       "    </tr>\n",
       "    <tr>\n",
       "      <th>1 series 135i convertible 2d</th>\n",
       "      <td>24990</td>\n",
       "      <td>2013</td>\n",
       "      <td>bmw</td>\n",
       "      <td>other</td>\n",
       "      <td>1</td>\n",
       "    </tr>\n",
       "    <tr>\n",
       "      <th>1 series 135i coupe 2d</th>\n",
       "      <td>19590</td>\n",
       "      <td>2013</td>\n",
       "      <td>bmw</td>\n",
       "      <td>coupe</td>\n",
       "      <td>1</td>\n",
       "    </tr>\n",
       "    <tr>\n",
       "      <th>124 spider</th>\n",
       "      <td>500</td>\n",
       "      <td>2017</td>\n",
       "      <td>fiat</td>\n",
       "      <td>convertible</td>\n",
       "      <td>1</td>\n",
       "    </tr>\n",
       "  </tbody>\n",
       "</table>\n",
       "</div>"
      ],
      "text/plain": [
       "                             precio  anio fabricante         tipo  count\n",
       "modelo                                                                  \n",
       "1 series 128i convertible 2d  15990  2011        bmw  convertible      1\n",
       "1 series 128i coupe 2d        14590  2012        bmw        coupe      1\n",
       "1 series 135i convertible 2d  24990  2013        bmw        other      1\n",
       "1 series 135i coupe 2d        19590  2013        bmw        coupe      1\n",
       "124 spider                      500  2017       fiat  convertible      1"
      ]
     },
     "execution_count": 195,
     "metadata": {},
     "output_type": "execute_result"
    }
   ],
   "source": [
    "df_grouped['count'] = 1\n",
    "df_grouped.head()"
   ]
  }
 ],
 "metadata": {
  "kernelspec": {
   "display_name": "Python 3 (ipykernel)",
   "language": "python",
   "name": "python3"
  },
  "language_info": {
   "codemirror_mode": {
    "name": "ipython",
    "version": 3
   },
   "file_extension": ".py",
   "mimetype": "text/x-python",
   "name": "python",
   "nbconvert_exporter": "python",
   "pygments_lexer": "ipython3",
   "version": "3.10.5"
  },
  "vscode": {
   "interpreter": {
    "hash": "38f5b07e11c0157f520d1c2da3ba645ff53f5136cd1f2da0b89290817486910f"
   }
  }
 },
 "nbformat": 4,
 "nbformat_minor": 5
}
