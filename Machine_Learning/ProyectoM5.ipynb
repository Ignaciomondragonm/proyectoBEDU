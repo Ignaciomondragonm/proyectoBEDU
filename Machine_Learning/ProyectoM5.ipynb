{
 "cells": [
  {
   "cell_type": "markdown",
   "id": "d0fdca29",
   "metadata": {},
   "source": [
    "# Módulo 4: Procesamiento de datos con Python"
   ]
  },
  {
   "cell_type": "markdown",
   "id": "70e0fd2c",
   "metadata": {},
   "source": [
    "**Validación Cruzada**\n",
    ">La validación cruzada es un mecanismo que hace que todos los datos “roten” entre entrenamiento y prueba, de tal manera que no existan casos de “Cherry Picking”\n",
    "\n",
    "**Falacia de Cherry Picking**\n",
    ">Una falacia de Cherry Picking ocurre cuando previamente seleccionas datos con la finalidad de probar un punto, mientras que ignoras o retiras aquellos datos que contradicen el punto que quieres defender. Un ejemplo de Cherry Picking ocurre con el movimiento anti-vacunas: se seleccionan solamente aquellos casos que consideran peligrosos, pero ignoran todos los casos que no lo son."
   ]
  },
  {
   "cell_type": "code",
   "execution_count": 1,
   "id": "4e5f2eae",
   "metadata": {},
   "outputs": [
    {
     "data": {
      "text/plain": [
       "array([3.76, 3.45, 3.57, ..., 3.71, 2.5 , 4.07])"
      ]
     },
     "execution_count": 1,
     "metadata": {},
     "output_type": "execute_result"
    }
   ],
   "source": [
    "import numpy as np\n",
    "from sklearn.model_selection import KFold\n",
    "import pandas as pd\n",
    "df = pd.read_csv('../DS/productos-verano-calificación-rendimiento_2020-08.csv')\n",
    "data =df['clasificacion'].to_numpy()\n",
    "data\n"
   ]
  },
  {
   "cell_type": "code",
   "execution_count": 2,
   "id": "07836316",
   "metadata": {},
   "outputs": [
    {
     "name": "stdout",
     "output_type": "stream",
     "text": [
      "Ciclo: 1\n",
      "\t datos para entrenamiento:[3.8  3.3  4.33 ... 3.71 2.5  4.07]\n",
      "\t datos para prueba:[3.76 3.45 3.57 4.03 3.1  5.   3.84 3.76 3.47 3.6  3.46 3.31 3.45 3.32\n",
      " 3.65 3.92 3.72 3.83 3.82 3.67 3.84 3.6  3.38 3.67 3.75 4.15 4.03 4.29\n",
      " 4.25 4.06 4.06 4.37 3.81 3.44 3.8  4.16 2.75 4.06 3.83 4.16 4.26 1.5\n",
      " 3.79 3.53 3.82 3.28 3.   4.03 3.18 3.8  3.43 4.19 3.8  3.38 4.03 3.5\n",
      " 3.56 4.06 4.   4.13 4.   5.   3.1  3.91 3.72 2.71 3.81 3.47 3.93 3.41\n",
      " 3.74 3.93 3.82 3.46 5.   4.5  4.26 4.24 3.56 4.22 3.42 4.   3.64 3.08\n",
      " 4.41 3.7  3.81 4.   3.94 4.07 4.29 3.46 4.1  3.7  3.77 3.57 4.54 3.64\n",
      " 3.32 4.11 3.18 3.96 2.8  3.89 3.97 3.61 3.82 3.96 4.2  3.77 2.61 3.93\n",
      " 5.   4.3  4.12 3.67 4.5  4.   4.16 3.71 4.75 5.   3.   4.11 3.59 3.61\n",
      " 5.   3.99 4.03 5.   3.73 3.99 4.38 3.08 4.11 3.6  3.78 4.05 3.53 4.6\n",
      " 3.72 4.16 4.04 3.6  3.89 3.49 3.07 3.11 4.07 3.96 4.   3.97 3.19 3.67\n",
      " 2.5  3.82 2.92 3.75 4.16 4.29 3.68 3.63 3.   3.06 3.76 3.81 2.67 3.76\n",
      " 3.46 3.29 2.   4.14 3.28 3.89 3.14 3.98 4.04 3.76 4.16 3.07 3.35 3.89\n",
      " 3.83 3.96 4.09 4.06 3.4  3.8  3.99 5.   3.61 4.31 3.49 3.69 3.64 4.\n",
      " 3.38 3.7  3.01 3.67 4.17 4.16 3.84 2.81 3.61 3.67 3.45 3.18 4.02 4.29\n",
      " 3.71 3.7  5.   3.61 3.76 4.17 5.   2.   4.57 3.16 3.96 4.44 3.91 4.06\n",
      " 3.52 4.26 4.   4.03 4.1  3.77 4.   3.84 4.23 3.67 3.5  3.46 4.21 3.6\n",
      " 4.28 2.75 3.9  4.5  3.45 3.99 4.09 3.54 3.33 4.01 5.   4.   3.85 3.98\n",
      " 4.05 3.91 3.14 3.64 3.96 3.71 4.   3.45 3.57 3.5  3.29 3.85 4.19 4.5\n",
      " 3.25 4.   4.22 3.39 3.72 4.17 3.75 4.   4.24 3.54 3.66 3.69 3.53 3.65\n",
      " 4.07 4.07 3.92 4.02 4.06 3.73 3.65 2.   4.04 4.29 3.88 3.74 4.1  3.5\n",
      " 3.97 3.84 4.   4.12 4.16 3.09 3.85 3.16 3.07 3.63 3.6  5.   3.71 3.94\n",
      " 3.32 5.   3.44 3.88 5.   3.57 3.67 3.63 3.5  3.34 2.71 3.   4.39 3.53\n",
      " 4.25 3.86 3.58 3.74 5.   3.88 4.09 4.11 3.43 3.57 3.35 3.93 4.07 4.22\n",
      " 4.13 2.   3.77 3.65 3.91 3.18 3.11 3.9  3.19 3.93 5.   4.32 5.   3.18\n",
      " 3.75 4.26 3.63 4.29 4.05 4.33 4.03 4.14 3.92 4.09 4.07 3.89 4.06 3.\n",
      " 4.13 2.75 4.04 3.25 3.77 4.03 5.   4.1  4.01 1.   3.13 5.   4.24 3.92\n",
      " 3.47 2.99 4.05 3.45 4.47 3.58 2.5  3.2  4.16 4.   4.17 3.67 3.08 4.15\n",
      " 3.98 2.82]\n",
      "Ciclo: 2\n",
      "\t datos para entrenamiento:[3.76 3.45 3.57 ... 3.71 2.5  4.07]\n",
      "\t datos para prueba:[3.8  3.3  4.33 3.71 4.34 3.54 3.62 3.94 3.59 3.95 4.21 3.67 4.35 4.07\n",
      " 4.36 3.32 3.98 4.06 4.23 3.68 3.   3.   4.06 3.49 3.84 4.5  3.74 3.54\n",
      " 4.   3.51 4.19 3.42 4.08 3.5  3.88 4.23 3.   3.93 3.39 4.09 3.74 4.2\n",
      " 3.75 4.25 5.   4.05 3.91 3.8  3.67 3.7  3.76 3.84 3.33 5.   3.   4.29\n",
      " 3.75 3.12 3.93 4.24 3.67 3.92 4.08 4.12 4.01 3.95 4.86 4.41 3.08 3.\n",
      " 4.07 2.92 4.04 4.04 3.89 3.73 4.22 3.84 3.64 3.71 3.81 4.62 2.95 3.7\n",
      " 3.66 4.09 4.14 5.   2.67 3.62 3.39 3.23 3.44 5.   2.61 3.15 3.8  3.95\n",
      " 3.56 4.1  3.93 3.61 3.28 3.6  3.35 4.29 3.39 3.88 4.16 4.28 4.02 4.36\n",
      " 4.08 3.9  3.61 3.59 3.81 3.9  4.   4.03 3.25 3.62 3.95 4.17 3.33 3.33\n",
      " 2.   3.88 3.41 4.1  4.08 3.78 4.33 3.57 4.47 3.46 4.06 4.16 2.67 3.37\n",
      " 3.55 3.32 4.08 4.06 3.89 4.63 3.38 4.14 3.8  4.27 3.7  4.34 4.03 3.41\n",
      " 4.23 3.54 3.12 3.67 4.37 4.33 4.01 5.   3.56 3.96 4.25 3.51 4.74 3.61\n",
      " 3.88 3.73 3.53 4.34 4.4  3.67 4.   4.38 2.25 4.29 4.11 3.9  4.41 3.74\n",
      " 4.   2.88 3.29 3.26 3.18 3.77 3.65 3.88 4.34 3.67 3.34 4.01 3.13 3.33\n",
      " 4.05 4.07 3.32 3.94 3.77 3.8  4.02 5.   3.81 4.15 3.97 3.69 3.   4.24\n",
      " 3.94 4.07 4.03 4.4  3.42 4.   4.05 3.28 3.83 3.47 3.21 3.38 3.91 4.28\n",
      " 5.   4.23 3.33 3.53 4.3  3.5  4.07 3.37 3.68 3.88 4.15 3.48 3.74 4.1\n",
      " 3.69 3.54 5.   3.5  4.57 4.28 3.29 3.17 4.5  3.63 3.83 4.   4.   2.\n",
      " 3.83 3.93 3.8  4.16 3.97 3.6  3.06 3.41 3.76 3.2  3.43 3.55 3.82 4.16\n",
      " 3.72 2.79 3.91 4.08 3.47 3.63 4.19 4.   2.79 4.25 5.   3.51 2.   3.85\n",
      " 4.09 4.53 5.   3.75 3.54 3.69 3.8  3.08 3.91 3.57 3.67 3.08 3.01 3.39\n",
      " 4.09 3.5  3.67 3.95 2.93 2.9  3.91 3.34 3.47 3.34 2.67 3.47 3.74 2.79\n",
      " 3.28 3.25 3.67 3.1  3.75 3.49 4.35 3.68 3.96 4.09 4.38 4.23 3.37 3.8\n",
      " 3.47 4.02 4.18 3.49 3.87 3.64 3.75 3.39 3.61 3.09 4.13 3.42 3.81 4.19\n",
      " 3.13 3.56 5.   3.7  3.7  3.68 3.95 4.1  3.59 2.57 3.61 3.86 3.66 3.87\n",
      " 4.75 4.13 5.   3.8  3.97 4.26 3.32 3.95 4.   3.78 3.96 4.14 3.6  4.05\n",
      " 4.67 4.83 2.92 3.   3.4  3.86 3.84 3.41 3.92 3.66 2.98 2.67 3.47 4.34\n",
      " 3.75 3.74 5.   4.18 4.22 4.23 3.76 3.96 1.   5.   3.29 3.21 4.09 3.69\n",
      " 3.9 ]\n",
      "Ciclo: 3\n",
      "\t datos para entrenamiento:[3.76 3.45 3.57 ... 3.71 2.5  4.07]\n",
      "\t datos para prueba:[3.35 3.67 5.   4.   3.22 4.15 4.15 3.55 4.28 3.82 3.34 4.52 3.38 4.06\n",
      " 5.   3.71 3.89 3.96 3.29 3.3  3.73 3.16 3.46 4.18 3.82 4.36 3.   4.\n",
      " 4.18 3.   4.   3.47 3.96 3.98 3.39 4.46 3.82 3.61 4.13 3.45 3.39 3.78\n",
      " 3.27 4.   3.73 3.49 3.68 4.24 3.79 3.82 4.01 4.22 3.45 3.93 3.74 3.8\n",
      " 3.85 4.07 3.09 5.   3.44 3.59 4.05 3.78 4.09 3.29 4.52 4.23 3.6  4.63\n",
      " 4.07 4.23 3.95 4.15 3.47 2.33 3.   5.   5.   3.5  4.   4.22 3.98 3.61\n",
      " 4.33 4.23 4.21 3.83 4.12 3.2  3.76 4.36 3.85 3.87 4.   4.67 3.87 4.17\n",
      " 4.17 3.73 3.4  4.14 3.56 4.27 3.23 3.93 3.69 3.8  3.66 4.04 3.12 3.18\n",
      " 3.51 3.73 3.36 4.16 4.02 5.   4.19 4.06 4.26 4.5  4.09 4.14 3.88 4.36\n",
      " 3.23 3.91 4.19 4.5  3.36 3.73 3.2  4.13 3.99 3.76 3.97 3.08 4.   4.09\n",
      " 3.73 3.4  4.03 3.84 3.7  2.7  3.04 3.4  3.58 3.68 3.55 4.25 3.67 3.62\n",
      " 3.55 3.13 3.78 3.99 4.37 5.   3.32 3.78 4.09 5.   4.09 3.83 4.33 3.75\n",
      " 3.11 4.33 4.2  3.93 5.   3.69 4.   4.05 3.61 2.9  4.11 3.28 3.87 4.09\n",
      " 3.35 4.18 3.1  3.18 3.56 3.87 3.96 5.   4.05 4.01 4.04 3.64 4.07 4.27\n",
      " 3.83 4.14 3.17 2.57 3.52 4.24 4.22 3.77 5.   4.   4.22 3.51 3.52 2.97\n",
      " 2.   4.   4.35 4.34 3.6  4.16 3.18 3.89 4.01 3.63 4.14 4.03 3.7  3.87\n",
      " 4.03 3.71 3.94 3.94 3.98 4.58 4.   3.82 3.83 4.4  3.7  4.02 3.09 3.93\n",
      " 3.86 3.59 4.04 3.91 4.27 3.72 3.87 3.1  4.11 3.93 3.79 4.01 3.97 3.47\n",
      " 3.48 4.23 3.23 3.61 3.07 4.09 3.65 3.74 4.11 4.07 3.8  4.29 3.73 4.19\n",
      " 3.4  3.53 3.13 3.79 3.7  4.14 3.73 3.72 4.29 3.91 4.27 3.64 4.43 2.44\n",
      " 4.14 3.9  3.61 3.9  3.1  4.75 4.52 4.19 3.76 3.31 3.16 3.98 3.67 4.19\n",
      " 3.24 4.02 3.   3.82 3.75 3.67 3.48 3.93 3.67 4.67 3.87 3.78 3.47 5.\n",
      " 5.   3.93 4.13 3.87 3.91 4.31 4.28 3.9  4.36 3.44 3.64 4.36 4.04 4.\n",
      " 2.9  3.82 3.29 5.   4.28 4.15 3.98 3.47 5.   4.09 3.64 5.   4.67 3.71\n",
      " 3.51 3.26 3.58 4.14 5.   4.23 4.04 4.13 4.15 3.09 3.9  2.92 3.03 4.29\n",
      " 4.14 3.61 3.51 3.66 4.13 3.96 3.85 3.65 3.28 3.73 3.9  5.   4.04 4.07\n",
      " 4.23 4.39 4.2  3.   3.38 5.   3.3  3.87 3.67 3.77 3.94 3.94 3.87 4.14\n",
      " 3.65 3.87 4.23 3.53 4.22 3.36 3.94 5.   3.   3.31 3.36 3.28 4.21 3.48\n",
      " 3.75]\n",
      "Ciclo: 4\n",
      "\t datos para entrenamiento:[3.76 3.45 3.57 ... 4.21 3.48 3.75]\n",
      "\t datos para prueba:[3.91 3.45 3.8  3.89 3.28 4.01 5.   3.3  4.01 4.   5.   3.95 5.   4.1\n",
      " 4.   2.67 3.8  3.8  4.19 4.08 4.15 3.83 3.71 4.13 3.86 3.64 3.69 4.11\n",
      " 3.76 3.43 4.75 3.4  3.44 3.78 3.59 3.91 4.09 4.31 3.79 4.1  3.75 3.19\n",
      " 3.56 2.86 3.55 4.11 4.13 3.96 4.12 3.71 3.56 3.32 4.24 4.14 3.72 3.9\n",
      " 3.71 3.63 3.9  5.   3.32 3.7  5.   4.03 4.2  5.   3.8  4.17 2.98 3.98\n",
      " 4.14 5.   3.97 4.13 3.6  4.24 3.6  3.67 2.92 4.15 4.39 3.83 3.77 3.89\n",
      " 3.95 3.64 4.15 4.2  4.06 3.95 5.   4.05 3.79 2.86 4.04 4.18 3.38 3.98\n",
      " 3.86 3.92 4.19 4.39 3.65 4.4  3.44 2.94 4.11 3.2  3.73 3.56 3.31 4.26\n",
      " 5.   2.75 3.91 3.77 3.63 3.31 4.31 4.11 3.61 4.17 3.58 3.76 3.7  4.5\n",
      " 3.28 4.24 3.26 3.88 3.85 3.87 4.46 4.32 3.55 3.66 2.99 2.81 3.96 3.97\n",
      " 4.8  4.25 3.75 3.27 3.12 4.03 3.69 4.38 4.39 3.98 4.33 4.   3.61 3.69\n",
      " 4.1  3.67 3.37 4.05 4.08 4.07 3.74 3.91 4.01 4.55 3.81 4.8  3.67 4.07\n",
      " 2.   3.88 3.7  3.1  3.63 4.14 3.93 5.   4.41 4.11 3.71 4.26 3.65 4.\n",
      " 4.18 1.5  3.4  3.43 4.15 3.4  3.17 3.86 3.87 4.21 3.4  4.33 3.7  4.28\n",
      " 3.85 4.04 3.68 4.   4.27 3.43 3.41 3.64 4.06 3.15 4.26 2.33 4.18 4.1\n",
      " 4.22 4.4  3.5  3.75 3.97 3.89 4.19 3.61 3.27 4.12 4.3  3.67 4.16 5.\n",
      " 3.67 3.74 3.9  4.3  3.6  4.19 4.5  4.05 3.75 3.74 3.36 3.88 3.98 4.5\n",
      " 4.25 4.47 4.08 4.3  4.08 3.56 3.93 2.88 4.23 3.41 4.22 3.6  1.   3.92\n",
      " 4.45 5.   5.   3.59 3.   3.   3.66 3.8  4.17 3.63 4.33 3.75 3.96 4.\n",
      " 3.41 3.76 2.77 3.63 4.02 3.48 4.14 3.99 3.14 4.07 4.3  3.78 3.74 4.39\n",
      " 3.73 4.   3.5  4.24 4.21 3.75 3.6  4.19 5.   3.68 4.05 4.03 4.46 4.67\n",
      " 4.29 3.74 3.36 4.05 3.68 3.   3.34 5.   4.07 4.6  3.82 3.67 3.51 3.73\n",
      " 5.   3.17 3.96 3.33 3.47 3.62 3.67 3.   3.88 4.48 4.02 3.61 3.84 3.52\n",
      " 4.17 3.94 3.92 4.2  3.5  4.64 4.15 4.07 4.05 4.17 4.04 3.22 3.96 4.11\n",
      " 4.34 3.5  3.67 3.99 2.44 3.84 3.73 3.5  3.32 3.71 3.52 3.19 4.67 4.34\n",
      " 3.7  4.25 5.   3.74 4.14 3.61 2.9  3.96 3.72 3.94 3.91 3.7  3.97 4.2\n",
      " 3.83 4.28 3.4  3.4  4.11 3.99 3.2  3.67 3.2  3.4  3.68 4.   3.98 3.55\n",
      " 4.12 4.05 3.5  3.68 3.77 3.51 3.38 3.79 3.54 4.25 4.08 3.07 3.71 2.5\n",
      " 4.07]\n"
     ]
    }
   ],
   "source": [
    "K = 4\n",
    "# random_seed = 48\n",
    "# aleatorio = True\n",
    "\n",
    "kfold = KFold(K)\n",
    "ciclo = 1\n",
    "for indices_train, indices_test in kfold.split(data):\n",
    "    print(\"Ciclo: \"+str(ciclo))\n",
    "    print(\"\\t datos para entrenamiento:\"+str(data[indices_train]))\n",
    "    print(\"\\t datos para prueba:\"+str(data[indices_test]))\n",
    "    ciclo+=1"
   ]
  },
  {
   "cell_type": "markdown",
   "id": "ccf79c9a",
   "metadata": {},
   "source": [
    ">Se realizaron 4 ciclos con donde cada cliclo tiene parte de prueba y entrenamiento \n",
    ">shuffle pone en aleatorios los valores"
   ]
  },
  {
   "cell_type": "markdown",
   "id": "49927234",
   "metadata": {},
   "source": [
    "**K-means**\n",
    ">A diferencia de K-nearest-neighbors, k-means (también llamado K-medias) es muchisimo mas eficiente computacionalmente, y te da resultados igual de buenos que K-nearest-neighbors, por lo cual trabajaremos sobre este algoritmo.\n"
   ]
  },
  {
   "cell_type": "code",
   "execution_count": 24,
   "id": "a06b902e",
   "metadata": {},
   "outputs": [
    {
     "data": {
      "image/png": "[encoded data removed]",
      "text/plain": [
       "<Figure size 432x288 with 1 Axes>"
      ]
     },
     "metadata": {
      "needs_background": "light"
     },
     "output_type": "display_data"
    }
   ],
   "source": [
    "import numpy as np\n",
    "from matplotlib import pyplot as plt\n",
    "from sklearn.datasets import make_blobs\n",
    "from sklearn.model_selection import train_test_split\n",
    "from sklearn.cluster import KMeans\n",
    "\n",
    "x =df['clasificacion'].to_numpy()\n",
    "x2 =df['precio_al_por_menor'].to_numpy()\n",
    "y =df['precio'].to_numpy()\n",
    "\n",
    "plt.scatter(x, x2, c=y)\n",
    "plt.show()"
   ]
  },
  {
   "cell_type": "code",
   "execution_count": 25,
   "id": "519bcd6f",
   "metadata": {},
   "outputs": [
    {
     "ename": "ValueError",
     "evalue": "Expected 2D array, got 1D array instead:\narray=[4.   3.47 4.06 4.   4.28 3.55 4.07 3.8  3.78 4.31 3.58 3.62 3.15 2.71\n 3.47 4.14 4.11 3.95 3.53 5.   4.31 3.88 4.03 3.74 3.8  4.25 4.24 4.07\n 3.93 4.03 3.51 3.64 3.96 3.59 4.28 4.07 3.65 3.77 3.67 4.15 3.7  3.77\n 3.85 3.96 3.89 4.24 4.   3.4  2.86 4.47 3.   3.4  3.77 3.87 4.16 3.29\n 3.98 3.66 3.11 3.8  3.   4.29 3.62 3.91 3.   4.17 5.   3.8  4.33 4.\n 3.39 3.57 4.04 3.4  3.92 3.18 5.   3.32 3.79 4.19 3.83 3.68 3.78 3.34\n 2.79 4.22 3.1  3.32 4.05 3.35 4.17 3.03 3.57 3.5  3.39 3.91 4.23 4.01\n 3.73 4.48 3.55 3.38 3.67 4.03 4.47 3.41 3.09 3.74 3.91 4.21 3.84 3.76\n 3.72 4.13 4.22 4.4  3.26 3.61 4.   3.39 5.   3.77 3.27 4.14 3.8  4.\n 3.89 3.98 3.15 3.38 3.41 3.18 3.42 4.39 4.22 4.09 4.   3.28 2.98 3.6\n 4.25 4.38 3.79 4.22 3.69 4.05 3.64 4.06 4.15 3.73 3.8  4.23 4.37 3.53\n 3.84 3.64 3.48 4.22 3.93 3.68 4.22 4.52 3.9  3.69 4.05 2.57 3.39 2.92\n 4.31 2.97 3.94 3.84 3.85 4.35 2.75 3.63 5.   3.96 2.99 3.99 3.91 3.74\n 4.17 3.71 5.   5.   3.92 3.71 4.11 3.91 3.61 3.83 3.77 3.8  3.5  2.\n 3.8  3.74 3.75 3.82 3.75 3.4  3.31 3.94 4.07 3.68 3.09 4.44 4.75 3.32\n 3.79 5.   3.78 3.88 3.63 4.67 3.47 3.7  4.15 4.16 3.34 4.05 3.6  3.61\n 4.08 4.07 4.   1.   3.88 3.93 2.8  4.23 5.   4.02 3.74 3.61 2.75 5.\n 3.33 4.02 4.14 4.18 3.91 4.05 3.93 3.83 4.57 3.31 3.   4.   4.5  4.28\n 3.64 3.7  3.54 4.19 3.67 3.75 4.13 3.38 3.1  3.43 3.93 4.3  3.65 3.19\n 3.71 3.22 2.81 3.46 4.1  5.   3.67 4.08 3.67 3.97 4.16 3.18 3.76 3.18\n 3.96 3.39 3.36 3.6  4.01 4.19 3.67 3.68 3.09 3.75 3.7  5.   4.17 3.77\n 3.72 3.45 3.33 4.16 3.74 4.34 3.63 3.88 5.   2.75 3.41 4.29 4.5  2.81\n 4.26 4.53 3.49 4.23 3.1  3.81 3.8  3.79 4.   5.   3.14 3.93 3.69 3.91\n 3.96 2.5  4.05 5.   3.61 3.61 3.16 4.11 5.   3.6  3.8  3.12 3.18 3.64\n 4.5  3.16 3.73 4.11 4.41 3.95 3.65 3.32 3.86 4.05 4.21 4.08 3.64 3.64\n 4.36 4.13 3.61 4.38 4.   4.22 4.19 4.16 3.99 3.54 3.94 3.45 3.47 3.36\n 4.02 3.69 3.5  4.13 3.99 4.04 3.97 2.   4.37 3.37 3.14 2.67 3.47 4.18\n 2.75 4.4  3.87 4.27 3.7  4.14 4.17 3.85 4.24 3.49 4.83 3.07 4.05 3.66\n 4.16 3.2  3.82 4.23 4.   4.1  3.96 4.06 4.23 4.5  4.28 3.93 3.32 3.67\n 3.28 2.44 3.43 3.98 3.5  3.91 2.88 3.94 3.72 3.79 4.43 5.   3.47 4.26\n 5.   3.8  5.   4.14 3.43 3.97 3.6  3.5  4.16 3.5  4.36 4.   3.2  3.4\n 3.93 5.   4.   3.85 4.19 4.2  5.   4.19 4.23 3.67 4.41 3.   3.41 3.71\n 4.14 3.54 3.97 3.6  4.01 3.73 3.95 3.88 4.8  3.71 4.14 5.   3.72 4.21\n 3.66 2.9  4.02 4.06 3.56 3.71 3.38 3.06 4.06 3.18 5.   4.16 5.   4.23\n 3.53 4.39 3.67 3.73 3.39 3.63 3.46 3.83 3.31 3.7  3.82 3.93 3.64 3.62\n 4.04 3.61 5.   5.   3.49 3.08 3.71 3.91 2.9  5.   3.81 4.   3.34 3.73\n 3.67 3.44 3.58 3.82 3.51 4.25 3.67 2.33 3.57 3.56 4.3  3.46 3.41 3.67\n 4.26 5.   3.83 3.93 4.08 3.29 4.26 3.81 3.96 3.51 3.98 3.13 2.67 4.04\n 3.37 5.   4.6  4.17 3.87 3.65 5.   4.3  3.86 3.75 4.24 3.21 3.92 4.05\n 4.   3.93 2.95 3.75 4.34 4.5  4.07 3.93 2.67 4.   4.13 4.36 3.6  4.29\n 3.52 3.47 4.5  3.59 3.17 3.75 3.98 5.   3.76 3.81 4.14 3.68 4.07 4.07\n 3.74 4.2  3.81 4.19 3.79 3.91 4.15 3.52 4.34 3.82 3.6  4.86 4.29 4.31\n 3.35 3.87 4.14 3.89 3.78 3.91 3.89 3.65 3.32 3.9  4.07 3.61 3.49 3.42\n 4.63 3.98 3.59 4.06 4.17 4.25 3.34 3.57 4.   2.82 4.34 3.73 3.67 5.\n 3.58 3.9  3.98 3.67 4.   4.13 4.1  4.3  3.78 2.25 4.25 3.98 3.45 3.33\n 4.28 3.92 3.7  3.46 3.07 3.82 3.73 4.36 3.74 4.05 4.03 3.76 3.8  4.14\n 3.56 4.02 3.78 2.98 4.09 3.04 4.33 2.   4.09 4.19 4.28 4.25 3.   4.06\n 4.1  4.67 2.92 4.01 4.17 3.93 4.27 3.76 3.75 3.87 3.5  3.52 4.12 3.68\n 3.82 4.   3.59 4.14 3.51 3.67 4.14 3.66 3.71 5.   3.73 5.   4.18 3.64\n 3.69 3.9  3.76 3.28 4.   3.84 3.83 4.15 3.54 5.   3.39 3.88 4.1  4.02\n 3.16 3.28 3.24 3.76 3.78 3.98 4.   3.75 4.4  4.24 3.17 3.93 3.84 3.8\n 4.11 4.39 4.1  4.04 2.   4.04 3.98 3.56 2.71 4.26 3.95 3.76 3.08 3.58\n 4.64 4.54 3.36 4.07 3.54 4.18 3.08 4.06 4.04 2.92 4.14 3.83 4.   4.09\n 3.67 3.92 3.   3.25 3.28 3.22 4.   5.   4.01 3.44 3.93 3.96 2.67 3.82\n 2.9  3.76 3.86 4.1  4.18 3.77 4.24 1.5  3.47 4.29 3.6  4.41 3.73 4.34\n 3.5  3.85 3.73 4.12 2.5  3.78 4.5  4.02 4.14 3.82 3.94 4.3  5.   4.06\n 3.52 3.59 4.16 3.86 3.01 4.11 3.65 3.94 3.97 3.3  3.74 4.36 3.69 4.02\n 3.76 3.67 3.51 4.23 4.75 4.33 4.03 4.08 3.47 3.88 3.96 3.4  4.15 3.98\n 4.18 5.   3.47 3.82 4.04 4.1  4.39 4.12 4.05 4.27 3.63 4.   4.22 5.\n 3.9  4.15 2.77 4.09 4.25 3.53 3.86 3.99 3.66 4.06 3.87 4.15 4.05 3.88\n 3.61 3.29 3.41 3.51 4.14 3.67 3.8  4.   3.36 3.16 3.6  3.81 4.   3.06\n 4.09 3.81 4.07 3.83 3.25 4.07 4.07 3.2  5.   4.24 5.   3.83 4.29 3.66\n 3.45 3.31 4.36 3.5  3.95 5.   3.29 2.86 4.23 2.9  4.07 3.91 3.47 3.83\n 4.   3.91 4.58 3.99 3.07 3.65 4.16 3.75 4.2  3.55 3.93 3.87 3.87 4.09\n 4.09 4.12 4.03 3.67 4.06 3.89 3.76 4.29 3.84 4.28 5.   3.48 3.84 3.69\n 3.9  4.15 4.06 3.7  4.46 3.8  2.92 4.4  3.65 4.09 3.18 5.   4.03 3.87\n 4.21 4.2  3.   4.18 3.63 4.41 3.13 3.84 4.04 4.47 3.73 4.23 4.07 4.32\n 3.69 4.03 3.45 3.75 3.83].\nReshape your data either using array.reshape(-1, 1) if your data has a single feature or array.reshape(1, -1) if it contains a single sample.",
     "output_type": "error",
     "traceback": [
      "\u001b[1;31m---------------------------------------------------------------------------\u001b[0m",
      "\u001b[1;31mValueError\u001b[0m                                Traceback (most recent call last)",
      "Input \u001b[1;32mIn [25]\u001b[0m, in \u001b[0;36m<cell line: 5>\u001b[1;34m()\u001b[0m\n\u001b[0;32m      3\u001b[0m x_train, x_test, y_train, y_test \u001b[38;5;241m=\u001b[39m train_test_split(x,y,test_size\u001b[38;5;241m=\u001b[39m\u001b[38;5;241m0.4\u001b[39m)\n\u001b[0;32m      4\u001b[0m \u001b[38;5;66;03m#Entrenamos con x_train...\u001b[39;00m\n\u001b[1;32m----> 5\u001b[0m modelo_kmeans \u001b[38;5;241m=\u001b[39m \u001b[43mKMeans\u001b[49m\u001b[43m(\u001b[49m\u001b[43mn_clusters\u001b[49m\u001b[43m \u001b[49m\u001b[38;5;241;43m=\u001b[39;49m\u001b[43m \u001b[49m\u001b[43mK\u001b[49m\u001b[43m)\u001b[49m\u001b[38;5;241;43m.\u001b[39;49m\u001b[43mfit\u001b[49m\u001b[43m(\u001b[49m\u001b[43mx_train\u001b[49m\u001b[43m)\u001b[49m\n\u001b[0;32m      6\u001b[0m \u001b[38;5;66;03m#Y extraemos los centroides.\u001b[39;00m\n\u001b[0;32m      7\u001b[0m centroides \u001b[38;5;241m=\u001b[39m modelo_kmeans\u001b[38;5;241m.\u001b[39mcluster_centers_\n",
      "File \u001b[1;32m~\\AppData\\Local\\Programs\\Python\\Python310\\lib\\site-packages\\sklearn\\cluster\\_kmeans.py:1367\u001b[0m, in \u001b[0;36mKMeans.fit\u001b[1;34m(self, X, y, sample_weight)\u001b[0m\n\u001b[0;32m   1341\u001b[0m \u001b[38;5;28;01mdef\u001b[39;00m \u001b[38;5;21mfit\u001b[39m(\u001b[38;5;28mself\u001b[39m, X, y\u001b[38;5;241m=\u001b[39m\u001b[38;5;28;01mNone\u001b[39;00m, sample_weight\u001b[38;5;241m=\u001b[39m\u001b[38;5;28;01mNone\u001b[39;00m):\n\u001b[0;32m   1342\u001b[0m     \u001b[38;5;124;03m\"\"\"Compute k-means clustering.\u001b[39;00m\n\u001b[0;32m   1343\u001b[0m \n\u001b[0;32m   1344\u001b[0m \u001b[38;5;124;03m    Parameters\u001b[39;00m\n\u001b[1;32m   (...)\u001b[0m\n\u001b[0;32m   1365\u001b[0m \u001b[38;5;124;03m        Fitted estimator.\u001b[39;00m\n\u001b[0;32m   1366\u001b[0m \u001b[38;5;124;03m    \"\"\"\u001b[39;00m\n\u001b[1;32m-> 1367\u001b[0m     X \u001b[38;5;241m=\u001b[39m \u001b[38;5;28;43mself\u001b[39;49m\u001b[38;5;241;43m.\u001b[39;49m\u001b[43m_validate_data\u001b[49m\u001b[43m(\u001b[49m\n\u001b[0;32m   1368\u001b[0m \u001b[43m        \u001b[49m\u001b[43mX\u001b[49m\u001b[43m,\u001b[49m\n\u001b[0;32m   1369\u001b[0m \u001b[43m        \u001b[49m\u001b[43maccept_sparse\u001b[49m\u001b[38;5;241;43m=\u001b[39;49m\u001b[38;5;124;43m\"\u001b[39;49m\u001b[38;5;124;43mcsr\u001b[39;49m\u001b[38;5;124;43m\"\u001b[39;49m\u001b[43m,\u001b[49m\n\u001b[0;32m   1370\u001b[0m \u001b[43m        \u001b[49m\u001b[43mdtype\u001b[49m\u001b[38;5;241;43m=\u001b[39;49m\u001b[43m[\u001b[49m\u001b[43mnp\u001b[49m\u001b[38;5;241;43m.\u001b[39;49m\u001b[43mfloat64\u001b[49m\u001b[43m,\u001b[49m\u001b[43m \u001b[49m\u001b[43mnp\u001b[49m\u001b[38;5;241;43m.\u001b[39;49m\u001b[43mfloat32\u001b[49m\u001b[43m]\u001b[49m\u001b[43m,\u001b[49m\n\u001b[0;32m   1371\u001b[0m \u001b[43m        \u001b[49m\u001b[43morder\u001b[49m\u001b[38;5;241;43m=\u001b[39;49m\u001b[38;5;124;43m\"\u001b[39;49m\u001b[38;5;124;43mC\u001b[39;49m\u001b[38;5;124;43m\"\u001b[39;49m\u001b[43m,\u001b[49m\n\u001b[0;32m   1372\u001b[0m \u001b[43m        \u001b[49m\u001b[43mcopy\u001b[49m\u001b[38;5;241;43m=\u001b[39;49m\u001b[38;5;28;43mself\u001b[39;49m\u001b[38;5;241;43m.\u001b[39;49m\u001b[43mcopy_x\u001b[49m\u001b[43m,\u001b[49m\n\u001b[0;32m   1373\u001b[0m \u001b[43m        \u001b[49m\u001b[43maccept_large_sparse\u001b[49m\u001b[38;5;241;43m=\u001b[39;49m\u001b[38;5;28;43;01mFalse\u001b[39;49;00m\u001b[43m,\u001b[49m\n\u001b[0;32m   1374\u001b[0m \u001b[43m    \u001b[49m\u001b[43m)\u001b[49m\n\u001b[0;32m   1376\u001b[0m     \u001b[38;5;28mself\u001b[39m\u001b[38;5;241m.\u001b[39m_check_params(X)\n\u001b[0;32m   1377\u001b[0m     random_state \u001b[38;5;241m=\u001b[39m check_random_state(\u001b[38;5;28mself\u001b[39m\u001b[38;5;241m.\u001b[39mrandom_state)\n",
      "File \u001b[1;32m~\\AppData\\Local\\Programs\\Python\\Python310\\lib\\site-packages\\sklearn\\base.py:577\u001b[0m, in \u001b[0;36mBaseEstimator._validate_data\u001b[1;34m(self, X, y, reset, validate_separately, **check_params)\u001b[0m\n\u001b[0;32m    575\u001b[0m     \u001b[38;5;28;01mraise\u001b[39;00m \u001b[38;5;167;01mValueError\u001b[39;00m(\u001b[38;5;124m\"\u001b[39m\u001b[38;5;124mValidation should be done on X, y or both.\u001b[39m\u001b[38;5;124m\"\u001b[39m)\n\u001b[0;32m    576\u001b[0m \u001b[38;5;28;01melif\u001b[39;00m \u001b[38;5;129;01mnot\u001b[39;00m no_val_X \u001b[38;5;129;01mand\u001b[39;00m no_val_y:\n\u001b[1;32m--> 577\u001b[0m     X \u001b[38;5;241m=\u001b[39m check_array(X, input_name\u001b[38;5;241m=\u001b[39m\u001b[38;5;124m\"\u001b[39m\u001b[38;5;124mX\u001b[39m\u001b[38;5;124m\"\u001b[39m, \u001b[38;5;241m*\u001b[39m\u001b[38;5;241m*\u001b[39mcheck_params)\n\u001b[0;32m    578\u001b[0m     out \u001b[38;5;241m=\u001b[39m X\n\u001b[0;32m    579\u001b[0m \u001b[38;5;28;01melif\u001b[39;00m no_val_X \u001b[38;5;129;01mand\u001b[39;00m \u001b[38;5;129;01mnot\u001b[39;00m no_val_y:\n",
      "File \u001b[1;32m~\\AppData\\Local\\Programs\\Python\\Python310\\lib\\site-packages\\sklearn\\utils\\validation.py:879\u001b[0m, in \u001b[0;36mcheck_array\u001b[1;34m(array, accept_sparse, accept_large_sparse, dtype, order, copy, force_all_finite, ensure_2d, allow_nd, ensure_min_samples, ensure_min_features, estimator, input_name)\u001b[0m\n\u001b[0;32m    877\u001b[0m     \u001b[38;5;66;03m# If input is 1D raise error\u001b[39;00m\n\u001b[0;32m    878\u001b[0m     \u001b[38;5;28;01mif\u001b[39;00m array\u001b[38;5;241m.\u001b[39mndim \u001b[38;5;241m==\u001b[39m \u001b[38;5;241m1\u001b[39m:\n\u001b[1;32m--> 879\u001b[0m         \u001b[38;5;28;01mraise\u001b[39;00m \u001b[38;5;167;01mValueError\u001b[39;00m(\n\u001b[0;32m    880\u001b[0m             \u001b[38;5;124m\"\u001b[39m\u001b[38;5;124mExpected 2D array, got 1D array instead:\u001b[39m\u001b[38;5;130;01m\\n\u001b[39;00m\u001b[38;5;124marray=\u001b[39m\u001b[38;5;132;01m{}\u001b[39;00m\u001b[38;5;124m.\u001b[39m\u001b[38;5;130;01m\\n\u001b[39;00m\u001b[38;5;124m\"\u001b[39m\n\u001b[0;32m    881\u001b[0m             \u001b[38;5;124m\"\u001b[39m\u001b[38;5;124mReshape your data either using array.reshape(-1, 1) if \u001b[39m\u001b[38;5;124m\"\u001b[39m\n\u001b[0;32m    882\u001b[0m             \u001b[38;5;124m\"\u001b[39m\u001b[38;5;124myour data has a single feature or array.reshape(1, -1) \u001b[39m\u001b[38;5;124m\"\u001b[39m\n\u001b[0;32m    883\u001b[0m             \u001b[38;5;124m\"\u001b[39m\u001b[38;5;124mif it contains a single sample.\u001b[39m\u001b[38;5;124m\"\u001b[39m\u001b[38;5;241m.\u001b[39mformat(array)\n\u001b[0;32m    884\u001b[0m         )\n\u001b[0;32m    886\u001b[0m \u001b[38;5;28;01mif\u001b[39;00m dtype_numeric \u001b[38;5;129;01mand\u001b[39;00m array\u001b[38;5;241m.\u001b[39mdtype\u001b[38;5;241m.\u001b[39mkind \u001b[38;5;129;01min\u001b[39;00m \u001b[38;5;124m\"\u001b[39m\u001b[38;5;124mUSV\u001b[39m\u001b[38;5;124m\"\u001b[39m:\n\u001b[0;32m    887\u001b[0m     \u001b[38;5;28;01mraise\u001b[39;00m \u001b[38;5;167;01mValueError\u001b[39;00m(\n\u001b[0;32m    888\u001b[0m         \u001b[38;5;124m\"\u001b[39m\u001b[38;5;124mdtype=\u001b[39m\u001b[38;5;124m'\u001b[39m\u001b[38;5;124mnumeric\u001b[39m\u001b[38;5;124m'\u001b[39m\u001b[38;5;124m is not compatible with arrays of bytes/strings.\u001b[39m\u001b[38;5;124m\"\u001b[39m\n\u001b[0;32m    889\u001b[0m         \u001b[38;5;124m\"\u001b[39m\u001b[38;5;124mConvert your data to numeric values explicitly instead.\u001b[39m\u001b[38;5;124m\"\u001b[39m\n\u001b[0;32m    890\u001b[0m     )\n",
      "\u001b[1;31mValueError\u001b[0m: Expected 2D array, got 1D array instead:\narray=[4.   3.47 4.06 4.   4.28 3.55 4.07 3.8  3.78 4.31 3.58 3.62 3.15 2.71\n 3.47 4.14 4.11 3.95 3.53 5.   4.31 3.88 4.03 3.74 3.8  4.25 4.24 4.07\n 3.93 4.03 3.51 3.64 3.96 3.59 4.28 4.07 3.65 3.77 3.67 4.15 3.7  3.77\n 3.85 3.96 3.89 4.24 4.   3.4  2.86 4.47 3.   3.4  3.77 3.87 4.16 3.29\n 3.98 3.66 3.11 3.8  3.   4.29 3.62 3.91 3.   4.17 5.   3.8  4.33 4.\n 3.39 3.57 4.04 3.4  3.92 3.18 5.   3.32 3.79 4.19 3.83 3.68 3.78 3.34\n 2.79 4.22 3.1  3.32 4.05 3.35 4.17 3.03 3.57 3.5  3.39 3.91 4.23 4.01\n 3.73 4.48 3.55 3.38 3.67 4.03 4.47 3.41 3.09 3.74 3.91 4.21 3.84 3.76\n 3.72 4.13 4.22 4.4  3.26 3.61 4.   3.39 5.   3.77 3.27 4.14 3.8  4.\n 3.89 3.98 3.15 3.38 3.41 3.18 3.42 4.39 4.22 4.09 4.   3.28 2.98 3.6\n 4.25 4.38 3.79 4.22 3.69 4.05 3.64 4.06 4.15 3.73 3.8  4.23 4.37 3.53\n 3.84 3.64 3.48 4.22 3.93 3.68 4.22 4.52 3.9  3.69 4.05 2.57 3.39 2.92\n 4.31 2.97 3.94 3.84 3.85 4.35 2.75 3.63 5.   3.96 2.99 3.99 3.91 3.74\n 4.17 3.71 5.   5.   3.92 3.71 4.11 3.91 3.61 3.83 3.77 3.8  3.5  2.\n 3.8  3.74 3.75 3.82 3.75 3.4  3.31 3.94 4.07 3.68 3.09 4.44 4.75 3.32\n 3.79 5.   3.78 3.88 3.63 4.67 3.47 3.7  4.15 4.16 3.34 4.05 3.6  3.61\n 4.08 4.07 4.   1.   3.88 3.93 2.8  4.23 5.   4.02 3.74 3.61 2.75 5.\n 3.33 4.02 4.14 4.18 3.91 4.05 3.93 3.83 4.57 3.31 3.   4.   4.5  4.28\n 3.64 3.7  3.54 4.19 3.67 3.75 4.13 3.38 3.1  3.43 3.93 4.3  3.65 3.19\n 3.71 3.22 2.81 3.46 4.1  5.   3.67 4.08 3.67 3.97 4.16 3.18 3.76 3.18\n 3.96 3.39 3.36 3.6  4.01 4.19 3.67 3.68 3.09 3.75 3.7  5.   4.17 3.77\n 3.72 3.45 3.33 4.16 3.74 4.34 3.63 3.88 5.   2.75 3.41 4.29 4.5  2.81\n 4.26 4.53 3.49 4.23 3.1  3.81 3.8  3.79 4.   5.   3.14 3.93 3.69 3.91\n 3.96 2.5  4.05 5.   3.61 3.61 3.16 4.11 5.   3.6  3.8  3.12 3.18 3.64\n 4.5  3.16 3.73 4.11 4.41 3.95 3.65 3.32 3.86 4.05 4.21 4.08 3.64 3.64\n 4.36 4.13 3.61 4.38 4.   4.22 4.19 4.16 3.99 3.54 3.94 3.45 3.47 3.36\n 4.02 3.69 3.5  4.13 3.99 4.04 3.97 2.   4.37 3.37 3.14 2.67 3.47 4.18\n 2.75 4.4  3.87 4.27 3.7  4.14 4.17 3.85 4.24 3.49 4.83 3.07 4.05 3.66\n 4.16 3.2  3.82 4.23 4.   4.1  3.96 4.06 4.23 4.5  4.28 3.93 3.32 3.67\n 3.28 2.44 3.43 3.98 3.5  3.91 2.88 3.94 3.72 3.79 4.43 5.   3.47 4.26\n 5.   3.8  5.   4.14 3.43 3.97 3.6  3.5  4.16 3.5  4.36 4.   3.2  3.4\n 3.93 5.   4.   3.85 4.19 4.2  5.   4.19 4.23 3.67 4.41 3.   3.41 3.71\n 4.14 3.54 3.97 3.6  4.01 3.73 3.95 3.88 4.8  3.71 4.14 5.   3.72 4.21\n 3.66 2.9  4.02 4.06 3.56 3.71 3.38 3.06 4.06 3.18 5.   4.16 5.   4.23\n 3.53 4.39 3.67 3.73 3.39 3.63 3.46 3.83 3.31 3.7  3.82 3.93 3.64 3.62\n 4.04 3.61 5.   5.   3.49 3.08 3.71 3.91 2.9  5.   3.81 4.   3.34 3.73\n 3.67 3.44 3.58 3.82 3.51 4.25 3.67 2.33 3.57 3.56 4.3  3.46 3.41 3.67\n 4.26 5.   3.83 3.93 4.08 3.29 4.26 3.81 3.96 3.51 3.98 3.13 2.67 4.04\n 3.37 5.   4.6  4.17 3.87 3.65 5.   4.3  3.86 3.75 4.24 3.21 3.92 4.05\n 4.   3.93 2.95 3.75 4.34 4.5  4.07 3.93 2.67 4.   4.13 4.36 3.6  4.29\n 3.52 3.47 4.5  3.59 3.17 3.75 3.98 5.   3.76 3.81 4.14 3.68 4.07 4.07\n 3.74 4.2  3.81 4.19 3.79 3.91 4.15 3.52 4.34 3.82 3.6  4.86 4.29 4.31\n 3.35 3.87 4.14 3.89 3.78 3.91 3.89 3.65 3.32 3.9  4.07 3.61 3.49 3.42\n 4.63 3.98 3.59 4.06 4.17 4.25 3.34 3.57 4.   2.82 4.34 3.73 3.67 5.\n 3.58 3.9  3.98 3.67 4.   4.13 4.1  4.3  3.78 2.25 4.25 3.98 3.45 3.33\n 4.28 3.92 3.7  3.46 3.07 3.82 3.73 4.36 3.74 4.05 4.03 3.76 3.8  4.14\n 3.56 4.02 3.78 2.98 4.09 3.04 4.33 2.   4.09 4.19 4.28 4.25 3.   4.06\n 4.1  4.67 2.92 4.01 4.17 3.93 4.27 3.76 3.75 3.87 3.5  3.52 4.12 3.68\n 3.82 4.   3.59 4.14 3.51 3.67 4.14 3.66 3.71 5.   3.73 5.   4.18 3.64\n 3.69 3.9  3.76 3.28 4.   3.84 3.83 4.15 3.54 5.   3.39 3.88 4.1  4.02\n 3.16 3.28 3.24 3.76 3.78 3.98 4.   3.75 4.4  4.24 3.17 3.93 3.84 3.8\n 4.11 4.39 4.1  4.04 2.   4.04 3.98 3.56 2.71 4.26 3.95 3.76 3.08 3.58\n 4.64 4.54 3.36 4.07 3.54 4.18 3.08 4.06 4.04 2.92 4.14 3.83 4.   4.09\n 3.67 3.92 3.   3.25 3.28 3.22 4.   5.   4.01 3.44 3.93 3.96 2.67 3.82\n 2.9  3.76 3.86 4.1  4.18 3.77 4.24 1.5  3.47 4.29 3.6  4.41 3.73 4.34\n 3.5  3.85 3.73 4.12 2.5  3.78 4.5  4.02 4.14 3.82 3.94 4.3  5.   4.06\n 3.52 3.59 4.16 3.86 3.01 4.11 3.65 3.94 3.97 3.3  3.74 4.36 3.69 4.02\n 3.76 3.67 3.51 4.23 4.75 4.33 4.03 4.08 3.47 3.88 3.96 3.4  4.15 3.98\n 4.18 5.   3.47 3.82 4.04 4.1  4.39 4.12 4.05 4.27 3.63 4.   4.22 5.\n 3.9  4.15 2.77 4.09 4.25 3.53 3.86 3.99 3.66 4.06 3.87 4.15 4.05 3.88\n 3.61 3.29 3.41 3.51 4.14 3.67 3.8  4.   3.36 3.16 3.6  3.81 4.   3.06\n 4.09 3.81 4.07 3.83 3.25 4.07 4.07 3.2  5.   4.24 5.   3.83 4.29 3.66\n 3.45 3.31 4.36 3.5  3.95 5.   3.29 2.86 4.23 2.9  4.07 3.91 3.47 3.83\n 4.   3.91 4.58 3.99 3.07 3.65 4.16 3.75 4.2  3.55 3.93 3.87 3.87 4.09\n 4.09 4.12 4.03 3.67 4.06 3.89 3.76 4.29 3.84 4.28 5.   3.48 3.84 3.69\n 3.9  4.15 4.06 3.7  4.46 3.8  2.92 4.4  3.65 4.09 3.18 5.   4.03 3.87\n 4.21 4.2  3.   4.18 3.63 4.41 3.13 3.84 4.04 4.47 3.73 4.23 4.07 4.32\n 3.69 4.03 3.45 3.75 3.83].\nReshape your data either using array.reshape(-1, 1) if your data has a single feature or array.reshape(1, -1) if it contains a single sample."
     ]
    }
   ],
   "source": [
    "K = 4\n",
    "#Dividimos entre train y test.\n",
    "x_train, x_test, y_train, y_test = train_test_split(x,y,test_size=0.4)\n",
    "#Entrenamos con x_train...\n",
    "modelo_kmeans = KMeans(n_clusters = K).fit(x_train)\n",
    "#Y extraemos los centroides.\n",
    "centroides = modelo_kmeans.cluster_centers_\n",
    "print(centroides)"
   ]
  },
  {
   "cell_type": "code",
   "execution_count": 86,
   "id": "7d2b3dfe",
   "metadata": {},
   "outputs": [],
   "source": [
    "import numpy as np\n",
    "import pandas as pd\n",
    "from matplotlib import pyplot as plt\n",
    "from sklearn.datasets import make_blobs\n",
    "from sklearn.model_selection import train_test_split\n",
    "from sklearn.cluster import KMeans"
   ]
  },
  {
   "cell_type": "code",
   "execution_count": 92,
   "id": "114d7b45",
   "metadata": {},
   "outputs": [
    {
     "data": {
      "text/plain": [
       "array(['good', 'excellent', 'fair', 'like new', 'new', 'salvage'],\n",
       "      dtype=object)"
      ]
     },
     "execution_count": 92,
     "metadata": {},
     "output_type": "execute_result"
    }
   ],
   "source": [
    "import requests\n",
    "endpoint = 'http://localhost:3000/api/craigslists'\n",
    "r = requests.get(endpoint)\n",
    "#r.json().keys()\n",
    "json = r.json()\n",
    "result = json['craigslist']\n",
    "#Convertir resultado obtenido en el API a Dataframe\n",
    "normalized = pd.json_normalize(result)\n",
    "df = pd.DataFrame.from_dict(normalized)\n",
    "df.head()\n",
    "df = df[df['condicion'].notna()]\n",
    "df['condicion'].unique()"
   ]
  },
  {
   "cell_type": "markdown",
   "id": "40dbd3ba",
   "metadata": {},
   "source": [
    "**Transformar Datos**\n",
    ">Ahora, vamos a tomar las columnas \"cantidad de accion\" y \"cantidad de romance\", y vamos a transformarlas en nuestras variables a clasificar por K-medias. Como aqui tengo acción y romance, hay que mappear \"accion\" a 0, y \"romance\" a 1, para hacer un dataset de entrenamiento y prueba."
   ]
  },
  {
   "cell_type": "code",
   "execution_count": 94,
   "id": "3c0b3c6d",
   "metadata": {},
   "outputs": [],
   "source": [
    "x = df[['precio', 'anio']].to_numpy()\n",
    "y = df['condicion'].map({\n",
    "    'good':0,\n",
    "    'excellent':1,\n",
    "     'fair':0, 'like new':1, 'new':1, 'salvage':0,\n",
    "}).to_numpy()\n"
   ]
  },
  {
   "cell_type": "markdown",
   "id": "8b45370e",
   "metadata": {},
   "source": [
    ">Se inidica que el 60 % a train y 40 % para pruebas  `test_size=0.4` "
   ]
  },
  {
   "cell_type": "code",
   "execution_count": 95,
   "id": "03cb6cfe",
   "metadata": {},
   "outputs": [],
   "source": [
    "x_train, x_test, y_train, y_test = train_test_split(x,y,test_size=0.4)"
   ]
  },
  {
   "cell_type": "markdown",
   "id": "0daf4120",
   "metadata": {},
   "source": [
    "**Centroides.**\n",
    ">Una vez mappeado, vamos a entrenar el algoritmo de K-medias de forma automática, y extraigamos los centroides obtenidos."
   ]
  },
  {
   "cell_type": "code",
   "execution_count": 99,
   "id": "c3c8eb85",
   "metadata": {},
   "outputs": [
    {
     "name": "stdout",
     "output_type": "stream",
     "text": [
      "[[33285.85178507  2015.36747205]\n",
      " [ 9611.73168411  2008.46217888]]\n"
     ]
    }
   ],
   "source": [
    "modelo_kmeans = KMeans(n_clusters = 2).fit(x_train)\n",
    "centroides = modelo_kmeans.cluster_centers_\n",
    "print(centroides)"
   ]
  },
  {
   "cell_type": "markdown",
   "id": "4ad144a5",
   "metadata": {},
   "source": [
    "## K-Means\n",
    "\n",
    ">Data set de clientes de un centro comercial, se suscriben a una tarjeta de membresia, cuando compran se genera un puntaje a cada cliente que gasto mas.\n",
    "\n",
    "** Importamos las librerías*"
   ]
  },
  {
   "cell_type": "code",
   "execution_count": 107,
   "id": "f9fbed20",
   "metadata": {},
   "outputs": [],
   "source": [
    "import numpy as np\n",
    "import matplotlib.pyplot as plt\n",
    "import pandas as pd"
   ]
  },
  {
   "cell_type": "markdown",
   "id": "3a69eb02",
   "metadata": {},
   "source": [
    "**Cargamos los datos con pandas**"
   ]
  },
  {
   "cell_type": "code",
   "execution_count": 113,
   "id": "e15a3fd4",
   "metadata": {},
   "outputs": [
    {
     "data": {
      "text/html": [
       "<div>\n",
       "<style scoped>\n",
       "    .dataframe tbody tr th:only-of-type {\n",
       "        vertical-align: middle;\n",
       "    }\n",
       "\n",
       "    .dataframe tbody tr th {\n",
       "        vertical-align: top;\n",
       "    }\n",
       "\n",
       "    .dataframe thead th {\n",
       "        text-align: right;\n",
       "    }\n",
       "</style>\n",
       "<table border=\"1\" class=\"dataframe\">\n",
       "  <thead>\n",
       "    <tr style=\"text-align: right;\">\n",
       "      <th></th>\n",
       "      <th>CustomerID</th>\n",
       "      <th>Genre</th>\n",
       "      <th>Age</th>\n",
       "      <th>Annual Income (k$)</th>\n",
       "      <th>Spending Score (1-100)</th>\n",
       "    </tr>\n",
       "  </thead>\n",
       "  <tbody>\n",
       "    <tr>\n",
       "      <th>0</th>\n",
       "      <td>1</td>\n",
       "      <td>Male</td>\n",
       "      <td>19</td>\n",
       "      <td>15</td>\n",
       "      <td>39</td>\n",
       "    </tr>\n",
       "    <tr>\n",
       "      <th>1</th>\n",
       "      <td>2</td>\n",
       "      <td>Male</td>\n",
       "      <td>21</td>\n",
       "      <td>15</td>\n",
       "      <td>81</td>\n",
       "    </tr>\n",
       "    <tr>\n",
       "      <th>2</th>\n",
       "      <td>3</td>\n",
       "      <td>Female</td>\n",
       "      <td>20</td>\n",
       "      <td>16</td>\n",
       "      <td>6</td>\n",
       "    </tr>\n",
       "    <tr>\n",
       "      <th>3</th>\n",
       "      <td>4</td>\n",
       "      <td>Female</td>\n",
       "      <td>23</td>\n",
       "      <td>16</td>\n",
       "      <td>77</td>\n",
       "    </tr>\n",
       "    <tr>\n",
       "      <th>4</th>\n",
       "      <td>5</td>\n",
       "      <td>Female</td>\n",
       "      <td>31</td>\n",
       "      <td>17</td>\n",
       "      <td>40</td>\n",
       "    </tr>\n",
       "  </tbody>\n",
       "</table>\n",
       "</div>"
      ],
      "text/plain": [
       "   CustomerID   Genre  Age  Annual Income (k$)  Spending Score (1-100)\n",
       "0           1    Male   19                  15                      39\n",
       "1           2    Male   21                  15                      81\n",
       "2           3  Female   20                  16                       6\n",
       "3           4  Female   23                  16                      77\n",
       "4           5  Female   31                  17                      40"
      ]
     },
     "execution_count": 113,
     "metadata": {},
     "output_type": "execute_result"
    }
   ],
   "source": [
    "dataset = pd.read_csv(\"./data/Mall_Customers.csv\")\n",
    "dataset.head()"
   ]
  },
  {
   "cell_type": "code",
   "execution_count": 115,
   "id": "471a11a7",
   "metadata": {},
   "outputs": [
    {
     "data": {
      "text/plain": [
       "array([['33590', '2014'],\n",
       "       ['22590', '2010'],\n",
       "       ['39590', '2020'],\n",
       "       ...,\n",
       "       ['0', '2007'],\n",
       "       ['0', '2012'],\n",
       "       ['0', '2006']], dtype=object)"
      ]
     },
     "execution_count": 115,
     "metadata": {},
     "output_type": "execute_result"
    }
   ],
   "source": [
    "X = dataset.iloc[:, [3,4]].values\n",
    "x"
   ]
  },
  {
   "cell_type": "markdown",
   "id": "5fbf6246",
   "metadata": {},
   "source": [
    ">Matriz que contiene el todas las filas, y solo contiene las filas que corresponden a los ingresos anuales y a la puntuacion"
   ]
  },
  {
   "cell_type": "markdown",
   "id": "2517e40b",
   "metadata": {},
   "source": [
    "**Método del codo para averiguar el número óptimo de clusters**"
   ]
  },
  {
   "cell_type": "code",
   "execution_count": 177,
   "id": "40ec07bf",
   "metadata": {},
   "outputs": [],
   "source": [
    "from sklearn.cluster import KMeans\n",
    "wcss = []\n",
    "# Se hace un cliclo de 1 asta 11 se ejecuta 10 veces\n",
    "for i in range(1, 11):\n",
    "    kmeans = KMeans(n_clusters = i, init = \"k-means++\", max_iter = 300, n_init = 10, random_state = 0)\n",
    "    kmeans.fit(X)\n",
    "    wcss.append(kmeans.inertia_)"
   ]
  },
  {
   "cell_type": "markdown",
   "id": "6c1d4713",
   "metadata": {},
   "source": [
    ">Método del codo para averiguar el número óptimo de clusters\n",
    "\n",
    ">se hace en dos fases se crea un clusters por cada vuelta, se inicialisa utilizando `k-means++`\n",
    " con un numero  maximo de iter para que se salga, inicializacion aleatoria por defecto 10\n",
    ">Se agustan la matriz de caracteristias `kmeans.fit(X)`, calcula los centros\n",
    ">Calcula la suma de los cuadrados de las distancias al centro, anade al final la suma de los parametos "
   ]
  },
  {
   "cell_type": "code",
   "execution_count": 119,
   "id": "bad96371",
   "metadata": {},
   "outputs": [
    {
     "data": {
      "image/png": "[encoded data removed]",
      "text/plain": [
       "<Figure size 432x288 with 1 Axes>"
      ]
     },
     "metadata": {
      "needs_background": "light"
     },
     "output_type": "display_data"
    }
   ],
   "source": [
    "plt.plot(range(1,11), wcss)\n",
    "plt.title(\"Método del codo\")\n",
    "plt.xlabel(\"Número de Clusters\")\n",
    "plt.ylabel(\"WCSS(k)\")\n",
    "plt.show()"
   ]
  },
  {
   "cell_type": "markdown",
   "id": "fe5069bc",
   "metadata": {},
   "source": [
    ">Grafico al proyectar la graifca se ve que el numero optimo es k=5, donde inicia la curva"
   ]
  },
  {
   "cell_type": "markdown",
   "id": "34fb9b8c",
   "metadata": {},
   "source": [
    "**Aplicar el método de k-means para segmentar el data set**"
   ]
  },
  {
   "cell_type": "code",
   "execution_count": 120,
   "id": "e576321a",
   "metadata": {},
   "outputs": [],
   "source": [
    "kmeans = KMeans(n_clusters = 5, init=\"k-means++\", max_iter = 300, n_init = 10, random_state = 0)\n",
    "y_kmeans = kmeans.fit_predict(X)"
   ]
  },
  {
   "cell_type": "markdown",
   "id": "0835b3f9",
   "metadata": {},
   "source": [
    ">se raliza nuevamente sin el ciclo sabiendo el numero optimo que es 5"
   ]
  },
  {
   "cell_type": "markdown",
   "id": "cecaa5a0",
   "metadata": {},
   "source": [
    "**Visualización de los clusters**"
   ]
  },
  {
   "cell_type": "code",
   "execution_count": 122,
   "id": "b180a34f",
   "metadata": {},
   "outputs": [
    {
     "data": {
      "image/png": "[encoded data removed]",
      "text/plain": [
       "<Figure size 432x288 with 1 Axes>"
      ]
     },
     "metadata": {
      "needs_background": "light"
     },
     "output_type": "display_data"
    }
   ],
   "source": [
    "plt.scatter(X[y_kmeans == 0, 0], X[y_kmeans == 0, 1], s = 100, c = \"red\", label = \"Cautos\")\n",
    "plt.scatter(X[y_kmeans == 1, 0], X[y_kmeans == 1, 1], s = 100, c = \"blue\", label = \"Estandard\")\n",
    "plt.scatter(X[y_kmeans == 2, 0], X[y_kmeans == 2, 1], s = 100, c = \"green\", label = \"Objetivo\")\n",
    "plt.scatter(X[y_kmeans == 3, 0], X[y_kmeans == 3, 1], s = 100, c = \"cyan\", label = \"Descuidados\")\n",
    "plt.scatter(X[y_kmeans == 4, 0], X[y_kmeans == 4, 1], s = 100, c = \"magenta\", label = \"Conservadores\")\n",
    "plt.scatter(kmeans.cluster_centers_[:,0], kmeans.cluster_centers_[:,1], s = 300, c = \"yellow\", label = \"Pobres\")\n",
    "plt.title(\"Cluster de clientes\")\n",
    "plt.xlabel(\"Ingresos anuales (en miles de $)\")\n",
    "plt.ylabel(\"Puntuación de Gastos (1-100)\")\n",
    "plt.legend()\n",
    "plt.show()"
   ]
  },
  {
   "cell_type": "markdown",
   "id": "54e5446e",
   "metadata": {},
   "source": [
    ">La grafica se visualiza los que ganan mucho y gastan poco, o los que ganan poco y gastan mucho"
   ]
  },
  {
   "cell_type": "markdown",
   "id": "5b0ff776",
   "metadata": {},
   "source": [
    "## Regresión con Árboles de Decisión\n",
    ">Cómo importar las librerías y cargar el data set"
   ]
  },
  {
   "cell_type": "code",
   "execution_count": 133,
   "id": "ecb4d50e",
   "metadata": {},
   "outputs": [
    {
     "data": {
      "text/html": [
       "<div>\n",
       "<style scoped>\n",
       "    .dataframe tbody tr th:only-of-type {\n",
       "        vertical-align: middle;\n",
       "    }\n",
       "\n",
       "    .dataframe tbody tr th {\n",
       "        vertical-align: top;\n",
       "    }\n",
       "\n",
       "    .dataframe thead th {\n",
       "        text-align: right;\n",
       "    }\n",
       "</style>\n",
       "<table border=\"1\" class=\"dataframe\">\n",
       "  <thead>\n",
       "    <tr style=\"text-align: right;\">\n",
       "      <th></th>\n",
       "      <th>Position</th>\n",
       "      <th>Level</th>\n",
       "      <th>Salary</th>\n",
       "    </tr>\n",
       "  </thead>\n",
       "  <tbody>\n",
       "    <tr>\n",
       "      <th>0</th>\n",
       "      <td>Business Analyst</td>\n",
       "      <td>1</td>\n",
       "      <td>45000</td>\n",
       "    </tr>\n",
       "    <tr>\n",
       "      <th>1</th>\n",
       "      <td>Junior Consultant</td>\n",
       "      <td>2</td>\n",
       "      <td>50000</td>\n",
       "    </tr>\n",
       "    <tr>\n",
       "      <th>2</th>\n",
       "      <td>Senior Consultant</td>\n",
       "      <td>3</td>\n",
       "      <td>60000</td>\n",
       "    </tr>\n",
       "    <tr>\n",
       "      <th>3</th>\n",
       "      <td>Manager</td>\n",
       "      <td>4</td>\n",
       "      <td>80000</td>\n",
       "    </tr>\n",
       "    <tr>\n",
       "      <th>4</th>\n",
       "      <td>Country Manager</td>\n",
       "      <td>5</td>\n",
       "      <td>110000</td>\n",
       "    </tr>\n",
       "  </tbody>\n",
       "</table>\n",
       "</div>"
      ],
      "text/plain": [
       "            Position  Level  Salary\n",
       "0   Business Analyst      1   45000\n",
       "1  Junior Consultant      2   50000\n",
       "2  Senior Consultant      3   60000\n",
       "3            Manager      4   80000\n",
       "4    Country Manager      5  110000"
      ]
     },
     "execution_count": 133,
     "metadata": {},
     "output_type": "execute_result"
    }
   ],
   "source": [
    "import numpy as np\n",
    "import matplotlib.pyplot as plt\n",
    "import pandas as pd\n",
    "\n",
    "dataset = pd.read_csv('./data/Position_Salaries.csv')\n",
    "dataset.head()\n"
   ]
  },
  {
   "cell_type": "code",
   "execution_count": 132,
   "id": "0a07626b",
   "metadata": {},
   "outputs": [],
   "source": [
    "X = dataset.iloc[:, 1:2].values\n",
    "y = dataset.iloc[:, 2].values"
   ]
  },
  {
   "cell_type": "code",
   "execution_count": 125,
   "id": "14e05747",
   "metadata": {},
   "outputs": [
    {
     "data": {
      "text/html": [
       "<style>#sk-container-id-1 {color: black;background-color: white;}#sk-container-id-1 pre{padding: 0;}#sk-container-id-1 div.sk-toggleable {background-color: white;}#sk-container-id-1 label.sk-toggleable__label {cursor: pointer;display: block;width: 100%;margin-bottom: 0;padding: 0.3em;box-sizing: border-box;text-align: center;}#sk-container-id-1 label.sk-toggleable__label-arrow:before {content: \"▸\";float: left;margin-right: 0.25em;color: #696969;}#sk-container-id-1 label.sk-toggleable__label-arrow:hover:before {color: black;}#sk-container-id-1 div.sk-estimator:hover label.sk-toggleable__label-arrow:before {color: black;}#sk-container-id-1 div.sk-toggleable__content {max-height: 0;max-width: 0;overflow: hidden;text-align: left;background-color: #f0f8ff;}#sk-container-id-1 div.sk-toggleable__content pre {margin: 0.2em;color: black;border-radius: 0.25em;background-color: #f0f8ff;}#sk-container-id-1 input.sk-toggleable__control:checked~div.sk-toggleable__content {max-height: 200px;max-width: 100%;overflow: auto;}#sk-container-id-1 input.sk-toggleable__control:checked~label.sk-toggleable__label-arrow:before {content: \"▾\";}#sk-container-id-1 div.sk-estimator input.sk-toggleable__control:checked~label.sk-toggleable__label {background-color: #d4ebff;}#sk-container-id-1 div.sk-label input.sk-toggleable__control:checked~label.sk-toggleable__label {background-color: #d4ebff;}#sk-container-id-1 input.sk-hidden--visually {border: 0;clip: rect(1px 1px 1px 1px);clip: rect(1px, 1px, 1px, 1px);height: 1px;margin: -1px;overflow: hidden;padding: 0;position: absolute;width: 1px;}#sk-container-id-1 div.sk-estimator {font-family: monospace;background-color: #f0f8ff;border: 1px dotted black;border-radius: 0.25em;box-sizing: border-box;margin-bottom: 0.5em;}#sk-container-id-1 div.sk-estimator:hover {background-color: #d4ebff;}#sk-container-id-1 div.sk-parallel-item::after {content: \"\";width: 100%;border-bottom: 1px solid gray;flex-grow: 1;}#sk-container-id-1 div.sk-label:hover label.sk-toggleable__label {background-color: #d4ebff;}#sk-container-id-1 div.sk-serial::before {content: \"\";position: absolute;border-left: 1px solid gray;box-sizing: border-box;top: 0;bottom: 0;left: 50%;z-index: 0;}#sk-container-id-1 div.sk-serial {display: flex;flex-direction: column;align-items: center;background-color: white;padding-right: 0.2em;padding-left: 0.2em;position: relative;}#sk-container-id-1 div.sk-item {position: relative;z-index: 1;}#sk-container-id-1 div.sk-parallel {display: flex;align-items: stretch;justify-content: center;background-color: white;position: relative;}#sk-container-id-1 div.sk-item::before, #sk-container-id-1 div.sk-parallel-item::before {content: \"\";position: absolute;border-left: 1px solid gray;box-sizing: border-box;top: 0;bottom: 0;left: 50%;z-index: -1;}#sk-container-id-1 div.sk-parallel-item {display: flex;flex-direction: column;z-index: 1;position: relative;background-color: white;}#sk-container-id-1 div.sk-parallel-item:first-child::after {align-self: flex-end;width: 50%;}#sk-container-id-1 div.sk-parallel-item:last-child::after {align-self: flex-start;width: 50%;}#sk-container-id-1 div.sk-parallel-item:only-child::after {width: 0;}#sk-container-id-1 div.sk-dashed-wrapped {border: 1px dashed gray;margin: 0 0.4em 0.5em 0.4em;box-sizing: border-box;padding-bottom: 0.4em;background-color: white;}#sk-container-id-1 div.sk-label label {font-family: monospace;font-weight: bold;display: inline-block;line-height: 1.2em;}#sk-container-id-1 div.sk-label-container {text-align: center;}#sk-container-id-1 div.sk-container {/* jupyter's `normalize.less` sets `[hidden] { display: none; }` but bootstrap.min.css set `[hidden] { display: none !important; }` so we also need the `!important` here to be able to override the default hidden behavior on the sphinx rendered scikit-learn.org. See: https://github.com/scikit-learn/scikit-learn/issues/21755 */display: inline-block !important;position: relative;}#sk-container-id-1 div.sk-text-repr-fallback {display: none;}</style><div id=\"sk-container-id-1\" class=\"sk-top-container\"><div class=\"sk-text-repr-fallback\"><pre>DecisionTreeRegressor(random_state=0)</pre><b>In a Jupyter environment, please rerun this cell to show the HTML representation or trust the notebook. <br />On GitHub, the HTML representation is unable to render, please try loading this page with nbviewer.org.</b></div><div class=\"sk-container\" hidden><div class=\"sk-item\"><div class=\"sk-estimator sk-toggleable\"><input class=\"sk-toggleable__control sk-hidden--visually\" id=\"sk-estimator-id-1\" type=\"checkbox\" checked><label for=\"sk-estimator-id-1\" class=\"sk-toggleable__label sk-toggleable__label-arrow\">DecisionTreeRegressor</label><div class=\"sk-toggleable__content\"><pre>DecisionTreeRegressor(random_state=0)</pre></div></div></div></div></div>"
      ],
      "text/plain": [
       "DecisionTreeRegressor(random_state=0)"
      ]
     },
     "execution_count": 125,
     "metadata": {},
     "output_type": "execute_result"
    }
   ],
   "source": [
    "\n",
    "# Dividir el data set en conjunto de entrenamiento y conjunto de testing\n",
    "\"\"\"\n",
    "from sklearn.model_selection import train_test_split\n",
    "X_train, X_test, y_train, y_test = train_test_split(X, y, test_size = 0.2, random_state = 0)\n",
    "\"\"\"\n",
    "\n",
    "# Escalado de variables\n",
    "\"\"\"from sklearn.preprocessing import StandardScaler\n",
    "sc_X = StandardScaler()\n",
    "X_train = sc_X.fit_transform(X_train)\n",
    "X_test = sc_X.transform(X_test)\"\"\"\n",
    "\n",
    "# Ajustar la regresión con el dataset\n",
    "from sklearn.tree import DecisionTreeRegressor\n",
    "regression = DecisionTreeRegressor(random_state = 0)\n",
    "regression.fit(X, y)\n",
    "\n"
   ]
  },
  {
   "cell_type": "markdown",
   "id": "4b56d6fe",
   "metadata": {},
   "source": [
    ">Maximo numero de hojas indefinido, numero de muestras para partir 2"
   ]
  },
  {
   "cell_type": "code",
   "execution_count": 134,
   "id": "f20d771c",
   "metadata": {},
   "outputs": [
    {
     "data": {
      "text/plain": [
       "array([150000.])"
      ]
     },
     "execution_count": 134,
     "metadata": {},
     "output_type": "execute_result"
    }
   ],
   "source": [
    "# Predicción de nuestros modelos\n",
    "#y_pred = regression.predict(6.5)\n",
    "y_pred = regression.predict([[6.5]])\n",
    "y_pred"
   ]
  },
  {
   "cell_type": "markdown",
   "id": "8895c1ee",
   "metadata": {},
   "source": [
    ">la prediccion es inferior a lo que se solicitaba de 65,000 solo se da 15,000"
   ]
  },
  {
   "cell_type": "code",
   "execution_count": 135,
   "id": "ad153839",
   "metadata": {},
   "outputs": [
    {
     "data": {
      "image/png": "[encoded data removed]",
      "text/plain": [
       "<Figure size 432x288 with 1 Axes>"
      ]
     },
     "metadata": {
      "needs_background": "light"
     },
     "output_type": "display_data"
    }
   ],
   "source": [
    "# Visualización de los resultados del Modelo Polinómico\n",
    "X_grid = np.arange(min(X), max(X), 0.1)\n",
    "X_grid = X_grid.reshape(len(X_grid), 1)\n",
    "plt.scatter(X, y, color = \"red\")\n",
    "plt.plot(X, regression.predict(X), color = \"blue\")\n",
    "plt.title(\"Modelo de Regresión\")\n",
    "plt.xlabel(\"Posición del empleado\")\n",
    "plt.ylabel(\"Sueldo (en $)\")\n",
    "plt.show()"
   ]
  },
  {
   "cell_type": "markdown",
   "id": "399eb474",
   "metadata": {},
   "source": [
    ">se puede decir que los que estan en 3.5 y 2.5 cobran lo mismo que el 3 ya que esta en la media que es 3"
   ]
  },
  {
   "cell_type": "markdown",
   "id": "065743af",
   "metadata": {},
   "source": [
    "## Naive Bayes\n",
    ">Cómo importar las librerías y cargar el data set"
   ]
  },
  {
   "cell_type": "code",
   "execution_count": 152,
   "id": "b9cecfb0",
   "metadata": {},
   "outputs": [
    {
     "data": {
      "text/html": [
       "<div>\n",
       "<style scoped>\n",
       "    .dataframe tbody tr th:only-of-type {\n",
       "        vertical-align: middle;\n",
       "    }\n",
       "\n",
       "    .dataframe tbody tr th {\n",
       "        vertical-align: top;\n",
       "    }\n",
       "\n",
       "    .dataframe thead th {\n",
       "        text-align: right;\n",
       "    }\n",
       "</style>\n",
       "<table border=\"1\" class=\"dataframe\">\n",
       "  <thead>\n",
       "    <tr style=\"text-align: right;\">\n",
       "      <th></th>\n",
       "      <th>User ID</th>\n",
       "      <th>Gender</th>\n",
       "      <th>Age</th>\n",
       "      <th>EstimatedSalary</th>\n",
       "      <th>Purchased</th>\n",
       "    </tr>\n",
       "  </thead>\n",
       "  <tbody>\n",
       "    <tr>\n",
       "      <th>0</th>\n",
       "      <td>15624510</td>\n",
       "      <td>Male</td>\n",
       "      <td>19.0</td>\n",
       "      <td>19000.0</td>\n",
       "      <td>0</td>\n",
       "    </tr>\n",
       "    <tr>\n",
       "      <th>1</th>\n",
       "      <td>15810944</td>\n",
       "      <td>Male</td>\n",
       "      <td>35.0</td>\n",
       "      <td>20000.0</td>\n",
       "      <td>0</td>\n",
       "    </tr>\n",
       "    <tr>\n",
       "      <th>2</th>\n",
       "      <td>15668575</td>\n",
       "      <td>Female</td>\n",
       "      <td>26.0</td>\n",
       "      <td>43000.0</td>\n",
       "      <td>0</td>\n",
       "    </tr>\n",
       "    <tr>\n",
       "      <th>3</th>\n",
       "      <td>15603246</td>\n",
       "      <td>Female</td>\n",
       "      <td>27.0</td>\n",
       "      <td>57000.0</td>\n",
       "      <td>0</td>\n",
       "    </tr>\n",
       "    <tr>\n",
       "      <th>4</th>\n",
       "      <td>15804002</td>\n",
       "      <td>Male</td>\n",
       "      <td>19.0</td>\n",
       "      <td>76000.0</td>\n",
       "      <td>0</td>\n",
       "    </tr>\n",
       "  </tbody>\n",
       "</table>\n",
       "</div>"
      ],
      "text/plain": [
       "    User ID  Gender   Age  EstimatedSalary  Purchased\n",
       "0  15624510    Male  19.0          19000.0          0\n",
       "1  15810944    Male  35.0          20000.0          0\n",
       "2  15668575  Female  26.0          43000.0          0\n",
       "3  15603246  Female  27.0          57000.0          0\n",
       "4  15804002    Male  19.0          76000.0          0"
      ]
     },
     "execution_count": 152,
     "metadata": {},
     "output_type": "execute_result"
    }
   ],
   "source": [
    "import numpy as np\n",
    "import matplotlib.pyplot as plt\n",
    "import pandas as pd\n",
    "dataset = pd.read_csv('./data/Social_Network_Ads.csv')\n",
    "dataset.head()"
   ]
  },
  {
   "cell_type": "code",
   "execution_count": 153,
   "id": "1eb195bb",
   "metadata": {},
   "outputs": [],
   "source": [
    "X = dataset.iloc[:, [2,3]].values\n",
    "y = dataset.iloc[:, 4].values"
   ]
  },
  {
   "cell_type": "code",
   "execution_count": 154,
   "id": "8a03e7e5",
   "metadata": {},
   "outputs": [],
   "source": [
    "# Dividir el data set en conjunto de entrenamiento y conjunto de testing\n",
    "from sklearn.model_selection import train_test_split\n",
    "X_train, X_test, y_train, y_test = train_test_split(X, y, test_size = 0.25, random_state = 0)\n",
    "\n",
    "# Escalado de variables\n",
    "from sklearn.preprocessing import StandardScaler\n",
    "sc_X = StandardScaler()\n",
    "X_train = sc_X.fit_transform(X_train)\n",
    "X_test = sc_X.transform(X_test)"
   ]
  },
  {
   "cell_type": "markdown",
   "id": "19359430",
   "metadata": {},
   "source": [
    ">Se elige el 75 % para entrenar y el 25 % para testing"
   ]
  },
  {
   "cell_type": "code",
   "execution_count": 155,
   "id": "d6141609",
   "metadata": {},
   "outputs": [
    {
     "data": {
      "text/plain": [
       "array([0, 0, 0, 0, 0, 0, 0, 1, 0, 1, 0, 0, 0, 0, 0, 0, 0, 0, 1, 0, 0, 1,\n",
       "       0, 1, 0, 1, 0, 0, 0, 0, 0, 0, 1, 0, 0, 0, 0, 0, 0, 1, 0, 0, 0, 0,\n",
       "       1, 0, 0, 1, 0, 1, 1, 0, 0, 1, 1, 0, 0, 0, 1, 0, 0, 1, 0, 0, 0, 1,\n",
       "       0, 0, 0, 0, 1, 0, 0, 0, 0, 0, 0, 0, 1, 1, 1, 1, 0, 0, 1, 0, 0, 1,\n",
       "       0, 0, 0, 1, 0, 0, 0, 0, 0, 1, 1, 1], dtype=int64)"
      ]
     },
     "execution_count": 155,
     "metadata": {},
     "output_type": "execute_result"
    }
   ],
   "source": [
    "# Ajustar el clasificador en el Conjunto de Entrenamiento\n",
    "from sklearn.naive_bayes import GaussianNB\n",
    "classifier = GaussianNB()\n",
    "classifier.fit(X_train, y_train)\n",
    "# Predicción de los resultados con el Conjunto de Testing\n",
    "y_pred  = classifier.predict(X_test)\n",
    "y_pred"
   ]
  },
  {
   "cell_type": "markdown",
   "id": "33853b73",
   "metadata": {},
   "source": [
    ">y pred son las predicciones y se puede contrastar con y test"
   ]
  },
  {
   "cell_type": "code",
   "execution_count": 159,
   "id": "091933b8",
   "metadata": {},
   "outputs": [
    {
     "data": {
      "text/plain": [
       "array([[65,  3],\n",
       "       [ 7, 25]], dtype=int64)"
      ]
     },
     "execution_count": 159,
     "metadata": {},
     "output_type": "execute_result"
    }
   ],
   "source": [
    "# Elaborar una matriz de confusión\n",
    "from sklearn.metrics import confusion_matrix\n",
    "cm = confusion_matrix(y_test, y_pred)\n",
    "cm"
   ]
  },
  {
   "cell_type": "markdown",
   "id": "04f9b154",
   "metadata": {},
   "source": [
    ">Matriz de confusión un total de 10 usuarios mal clasificados, por parte de nuestro navi"
   ]
  },
  {
   "cell_type": "code",
   "execution_count": 157,
   "id": "2be7813b",
   "metadata": {},
   "outputs": [
    {
     "name": "stderr",
     "output_type": "stream",
     "text": [
      "*c* argument looks like a single numeric RGB or RGBA sequence, which should be avoided as value-mapping will have precedence in case its length matches with *x* & *y*.  Please use the *color* keyword-argument or provide a 2D array with a single row if you intend to specify the same RGB or RGBA value for all points.\n",
      "*c* argument looks like a single numeric RGB or RGBA sequence, which should be avoided as value-mapping will have precedence in case its length matches with *x* & *y*.  Please use the *color* keyword-argument or provide a 2D array with a single row if you intend to specify the same RGB or RGBA value for all points.\n"
     ]
    },
    {
     "data": {
      "image/png": "[encoded data removed]",
      "text/plain": [
       "<Figure size 432x288 with 1 Axes>"
      ]
     },
     "metadata": {
      "needs_background": "light"
     },
     "output_type": "display_data"
    }
   ],
   "source": [
    "# Representación gráfica de los resultados del algoritmo en el Conjunto de Entrenamiento\n",
    "from matplotlib.colors import ListedColormap\n",
    "X_set, y_set = X_train, y_train\n",
    "X1, X2 = np.meshgrid(np.arange(start = X_set[:, 0].min() - 1, stop = X_set[:, 0].max() + 1, step = 0.01),\n",
    "                     np.arange(start = X_set[:, 1].min() - 1, stop = X_set[:, 1].max() + 1, step = 0.01))\n",
    "plt.contourf(X1, X2, classifier.predict(np.array([X1.ravel(), X2.ravel()]).T).reshape(X1.shape),\n",
    "             alpha = 0.75, cmap = ListedColormap(('red', 'green')))\n",
    "plt.xlim(X1.min(), X1.max())\n",
    "plt.ylim(X2.min(), X2.max())\n",
    "for i, j in enumerate(np.unique(y_set)):\n",
    "    plt.scatter(X_set[y_set == j, 0], X_set[y_set == j, 1],\n",
    "                c = ListedColormap(('red', 'green'))(i), label = j)\n",
    "plt.title('Naive Bayes (Conjunto de Entrenamiento)')\n",
    "plt.xlabel('Edad')\n",
    "plt.ylabel('Sueldo Estimado')\n",
    "plt.legend()\n",
    "plt.show()"
   ]
  },
  {
   "cell_type": "markdown",
   "id": "b895be54",
   "metadata": {},
   "source": [
    ">Curva perfectamente definida lo de rojo son gente que no compro el producto, y los de verde son los que si compraron los puntos que estan fuera de su area son los q el modelo se equivoco\n",
    ">Estos resultados son para el congunto de entrenamiento "
   ]
  },
  {
   "cell_type": "code",
   "execution_count": 158,
   "id": "75f2daa6",
   "metadata": {},
   "outputs": [
    {
     "name": "stderr",
     "output_type": "stream",
     "text": [
      "*c* argument looks like a single numeric RGB or RGBA sequence, which should be avoided as value-mapping will have precedence in case its length matches with *x* & *y*.  Please use the *color* keyword-argument or provide a 2D array with a single row if you intend to specify the same RGB or RGBA value for all points.\n",
      "*c* argument looks like a single numeric RGB or RGBA sequence, which should be avoided as value-mapping will have precedence in case its length matches with *x* & *y*.  Please use the *color* keyword-argument or provide a 2D array with a single row if you intend to specify the same RGB or RGBA value for all points.\n"
     ]
    },
    {
     "data": {
      "image/png": "[encoded data removed]",
      "text/plain": [
       "<Figure size 432x288 with 1 Axes>"
      ]
     },
     "metadata": {
      "needs_background": "light"
     },
     "output_type": "display_data"
    }
   ],
   "source": [
    "\n",
    "# Representación gráfica de los resultados del algoritmo en el Conjunto de Testing\n",
    "X_set, y_set = X_test, y_test\n",
    "X1, X2 = np.meshgrid(np.arange(start = X_set[:, 0].min() - 1, stop = X_set[:, 0].max() + 1, step = 0.01),\n",
    "                     np.arange(start = X_set[:, 1].min() - 1, stop = X_set[:, 1].max() + 1, step = 0.01))\n",
    "plt.contourf(X1, X2, classifier.predict(np.array([X1.ravel(), X2.ravel()]).T).reshape(X1.shape),\n",
    "             alpha = 0.75, cmap = ListedColormap(('red', 'green')))\n",
    "plt.xlim(X1.min(), X1.max())\n",
    "plt.ylim(X2.min(), X2.max())\n",
    "for i, j in enumerate(np.unique(y_set)):\n",
    "    plt.scatter(X_set[y_set == j, 0], X_set[y_set == j, 1],\n",
    "                c = ListedColormap(('red', 'green'))(i), label = j)\n",
    "plt.title('Naïve Bayes (Conjunto de Test)')\n",
    "plt.xlabel('Edad')\n",
    "plt.ylabel('Sueldo Estimado')\n",
    "plt.legend()\n",
    "plt.show()\n"
   ]
  },
  {
   "cell_type": "markdown",
   "id": "9b42c75a",
   "metadata": {},
   "source": [
    ">la clasificacion es la misma, en este caso en el conjunto de testing se puede mostrar los 10 resultados que no estan correctos 7 verdes en zona roja y 3 es zona verde\n",
    ">Estos resultados son para el congunto de testing"
   ]
  },
  {
   "cell_type": "markdown",
   "id": "fee0946b",
   "metadata": {},
   "source": [
    "## SVM Support vector machine\n",
    ">Cómo importar las librerías y cargar el data set"
   ]
  },
  {
   "cell_type": "code",
   "execution_count": 161,
   "id": "e656b7aa",
   "metadata": {},
   "outputs": [
    {
     "data": {
      "text/html": [
       "<div>\n",
       "<style scoped>\n",
       "    .dataframe tbody tr th:only-of-type {\n",
       "        vertical-align: middle;\n",
       "    }\n",
       "\n",
       "    .dataframe tbody tr th {\n",
       "        vertical-align: top;\n",
       "    }\n",
       "\n",
       "    .dataframe thead th {\n",
       "        text-align: right;\n",
       "    }\n",
       "</style>\n",
       "<table border=\"1\" class=\"dataframe\">\n",
       "  <thead>\n",
       "    <tr style=\"text-align: right;\">\n",
       "      <th></th>\n",
       "      <th>User ID</th>\n",
       "      <th>Gender</th>\n",
       "      <th>Age</th>\n",
       "      <th>EstimatedSalary</th>\n",
       "      <th>Purchased</th>\n",
       "    </tr>\n",
       "  </thead>\n",
       "  <tbody>\n",
       "    <tr>\n",
       "      <th>0</th>\n",
       "      <td>15624510</td>\n",
       "      <td>Male</td>\n",
       "      <td>19.0</td>\n",
       "      <td>19000.0</td>\n",
       "      <td>0</td>\n",
       "    </tr>\n",
       "    <tr>\n",
       "      <th>1</th>\n",
       "      <td>15810944</td>\n",
       "      <td>Male</td>\n",
       "      <td>35.0</td>\n",
       "      <td>20000.0</td>\n",
       "      <td>0</td>\n",
       "    </tr>\n",
       "    <tr>\n",
       "      <th>2</th>\n",
       "      <td>15668575</td>\n",
       "      <td>Female</td>\n",
       "      <td>26.0</td>\n",
       "      <td>43000.0</td>\n",
       "      <td>0</td>\n",
       "    </tr>\n",
       "    <tr>\n",
       "      <th>3</th>\n",
       "      <td>15603246</td>\n",
       "      <td>Female</td>\n",
       "      <td>27.0</td>\n",
       "      <td>57000.0</td>\n",
       "      <td>0</td>\n",
       "    </tr>\n",
       "    <tr>\n",
       "      <th>4</th>\n",
       "      <td>15804002</td>\n",
       "      <td>Male</td>\n",
       "      <td>19.0</td>\n",
       "      <td>76000.0</td>\n",
       "      <td>0</td>\n",
       "    </tr>\n",
       "  </tbody>\n",
       "</table>\n",
       "</div>"
      ],
      "text/plain": [
       "    User ID  Gender   Age  EstimatedSalary  Purchased\n",
       "0  15624510    Male  19.0          19000.0          0\n",
       "1  15810944    Male  35.0          20000.0          0\n",
       "2  15668575  Female  26.0          43000.0          0\n",
       "3  15603246  Female  27.0          57000.0          0\n",
       "4  15804002    Male  19.0          76000.0          0"
      ]
     },
     "execution_count": 161,
     "metadata": {},
     "output_type": "execute_result"
    }
   ],
   "source": [
    "import numpy as np\n",
    "import matplotlib.pyplot as plt\n",
    "import pandas as pd\n",
    "\n",
    "# Importar el data set\n",
    "dataset = pd.read_csv('./data/Social_Network_Ads.csv')\n",
    "dataset.head()"
   ]
  },
  {
   "cell_type": "code",
   "execution_count": 162,
   "id": "a8e919b2",
   "metadata": {},
   "outputs": [],
   "source": [
    "\n",
    "X = dataset.iloc[:, [2,3]].values\n",
    "y = dataset.iloc[:, 4].values\n",
    "\n",
    "# Dividir el data set en conjunto de entrenamiento y conjunto de testing\n",
    "from sklearn.model_selection import train_test_split\n",
    "X_train, X_test, y_train, y_test = train_test_split(X, y, test_size = 0.25, random_state = 0)\n",
    "\n",
    "# Escalado de variables\n",
    "from sklearn.preprocessing import StandardScaler\n",
    "sc_X = StandardScaler()\n",
    "\n",
    "X_train = sc_X.fit_transform(X_train)\n",
    "X_test = sc_X.transform(X_test)"
   ]
  },
  {
   "cell_type": "markdown",
   "id": "fd41c028",
   "metadata": {},
   "source": [
    ">Se elige el 75 % para entrenar y el 25 % para testing"
   ]
  },
  {
   "cell_type": "code",
   "execution_count": null,
   "id": "3b8903a3",
   "metadata": {},
   "outputs": [],
   "source": [
    "# Ajustar el SVM en el Conjunto de Entrenamiento\n",
    "from sklearn.svm import SVC\n",
    "classifier = SVC(kernel = \"linear\", random_state = 0)\n",
    "classifier.fit(X_train, y_train)\n"
   ]
  },
  {
   "cell_type": "markdown",
   "id": "6fc208f0",
   "metadata": {},
   "source": [
    ">Se ejecuta el SVM "
   ]
  },
  {
   "cell_type": "code",
   "execution_count": 166,
   "id": "94f209bb",
   "metadata": {},
   "outputs": [
    {
     "data": {
      "text/plain": [
       "array([[66,  2],\n",
       "       [ 8, 24]], dtype=int64)"
      ]
     },
     "execution_count": 166,
     "metadata": {},
     "output_type": "execute_result"
    }
   ],
   "source": [
    "# Predicción de los resultados con el Conjunto de Testing\n",
    "y_pred  = classifier.predict(X_test)\n",
    "# Elaborar una matriz de confusión\n",
    "from sklearn.metrics import confusion_matrix\n",
    "cm = confusion_matrix(y_test, y_pred)\n",
    "cm "
   ]
  },
  {
   "cell_type": "markdown",
   "id": "98fe92e5",
   "metadata": {},
   "source": [
    ">validamos la matriz de conficion para verificar el numero de predicciones incorrectas en total son 10"
   ]
  },
  {
   "cell_type": "code",
   "execution_count": 174,
   "id": "5941868e",
   "metadata": {},
   "outputs": [
    {
     "name": "stderr",
     "output_type": "stream",
     "text": [
      "*c* argument looks like a single numeric RGB or RGBA sequence, which should be avoided as value-mapping will have precedence in case its length matches with *x* & *y*.  Please use the *color* keyword-argument or provide a 2D array with a single row if you intend to specify the same RGB or RGBA value for all points.\n",
      "*c* argument looks like a single numeric RGB or RGBA sequence, which should be avoided as value-mapping will have precedence in case its length matches with *x* & *y*.  Please use the *color* keyword-argument or provide a 2D array with a single row if you intend to specify the same RGB or RGBA value for all points.\n"
     ]
    },
    {
     "data": {
      "image/png": "[encoded data removed]",
      "text/plain": [
       "<Figure size 432x288 with 1 Axes>"
      ]
     },
     "metadata": {
      "needs_background": "light"
     },
     "output_type": "display_data"
    }
   ],
   "source": [
    "# Representación gráfica de los resultados del algoritmo en el Conjunto de Entrenamiento\n",
    "from matplotlib.colors import ListedColormap\n",
    "X_set, y_set = X_train, y_train\n",
    "X1, X2 = np.meshgrid(np.arange(start = X_set[:, 0].min() - 1, stop = X_set[:, 0].max() + 1, step = 0.01),\n",
    "                     np.arange(start = X_set[:, 1].min() - 1, stop = X_set[:, 1].max() + 1, step = 0.01))\n",
    "plt.contourf(X1, X2, classifier.predict(np.array([X1.ravel(), X2.ravel()]).T).reshape(X1.shape),\n",
    "             alpha = 0.75, cmap = ListedColormap(('red', 'green')))\n",
    "plt.xlim(X1.min(), X1.max())\n",
    "plt.ylim(X2.min(), X2.max())\n",
    "for i, j in enumerate(np.unique(y_set)):\n",
    "    plt.scatter(X_set[y_set == j, 0], X_set[y_set == j, 1],\n",
    "                c = ListedColormap(('red', 'green'))(i), label = j)\n",
    "plt.title('SVM (Conjunto de Entrenamiento)')\n",
    "plt.xlabel('Edad')\n",
    "plt.ylabel('Sueldo Estimado')\n",
    "plt.legend()\n",
    "plt.show()\n"
   ]
  },
  {
   "cell_type": "markdown",
   "id": "dd1dd16a",
   "metadata": {},
   "source": [
    ">Grafica de conjunto de entrenamiento, separador lineal, en caso de tener valores que no se pueden separar caen en el lado de la grafica incorrecta."
   ]
  },
  {
   "cell_type": "code",
   "execution_count": 164,
   "id": "7c1d2478",
   "metadata": {},
   "outputs": [
    {
     "name": "stderr",
     "output_type": "stream",
     "text": [
      "*c* argument looks like a single numeric RGB or RGBA sequence, which should be avoided as value-mapping will have precedence in case its length matches with *x* & *y*.  Please use the *color* keyword-argument or provide a 2D array with a single row if you intend to specify the same RGB or RGBA value for all points.\n",
      "*c* argument looks like a single numeric RGB or RGBA sequence, which should be avoided as value-mapping will have precedence in case its length matches with *x* & *y*.  Please use the *color* keyword-argument or provide a 2D array with a single row if you intend to specify the same RGB or RGBA value for all points.\n"
     ]
    },
    {
     "data": {
      "image/png": "[encoded data removed]",
      "text/plain": [
       "<Figure size 432x288 with 1 Axes>"
      ]
     },
     "metadata": {
      "needs_background": "light"
     },
     "output_type": "display_data"
    }
   ],
   "source": [
    "\n",
    "# Representación gráfica de los resultados del algoritmo en el Conjunto de Testing\n",
    "X_set, y_set = X_test, y_test\n",
    "X1, X2 = np.meshgrid(np.arange(start = X_set[:, 0].min() - 1, stop = X_set[:, 0].max() + 1, step = 0.01),\n",
    "                     np.arange(start = X_set[:, 1].min() - 1, stop = X_set[:, 1].max() + 1, step = 0.01))\n",
    "plt.contourf(X1, X2, classifier.predict(np.array([X1.ravel(), X2.ravel()]).T).reshape(X1.shape),\n",
    "             alpha = 0.75, cmap = ListedColormap(('red', 'green')))\n",
    "plt.xlim(X1.min(), X1.max())\n",
    "plt.ylim(X2.min(), X2.max())\n",
    "for i, j in enumerate(np.unique(y_set)):\n",
    "    plt.scatter(X_set[y_set == j, 0], X_set[y_set == j, 1],\n",
    "                c = ListedColormap(('red', 'green'))(i), label = j)\n",
    "plt.title('SVM (Conjunto de Test)')\n",
    "plt.xlabel('Edad')\n",
    "plt.ylabel('Sueldo Estimado')\n",
    "plt.legend()\n",
    "plt.show()\n",
    "\n"
   ]
  },
  {
   "cell_type": "markdown",
   "id": "144c47bf",
   "metadata": {},
   "source": [
    ">grafica sobre el conjunto de testing"
   ]
  }
 ],
 "metadata": {
  "kernelspec": {
   "display_name": "Python 3 (ipykernel)",
   "language": "python",
   "name": "python3"
  },
  "language_info": {
   "codemirror_mode": {
    "name": "ipython",
    "version": 3
   },
   "file_extension": ".py",
   "mimetype": "text/x-python",
   "name": "python",
   "nbconvert_exporter": "python",
   "pygments_lexer": "ipython3",
   "version": "3.10.5"
  },
  "vscode": {
   "interpreter": {
    "hash": "38f5b07e11c0157f520d1c2da3ba645ff53f5136cd1f2da0b89290817486910f"
   }
  }
 },
 "nbformat": 4,
 "nbformat_minor": 5
}
